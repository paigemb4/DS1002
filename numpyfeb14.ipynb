{
  "cells": [
    {
      "cell_type": "markdown",
      "metadata": {
        "id": "view-in-github",
        "colab_type": "text"
      },
      "source": [
        "<a href=\"https://colab.research.google.com/github/paigemb4/DS1002/blob/main/numpyfeb14.ipynb\" target=\"_parent\"><img src=\"https://colab.research.google.com/assets/colab-badge.svg\" alt=\"Open In Colab\"/></a>"
      ]
    },
    {
      "cell_type": "markdown",
      "metadata": {
        "id": "6v8yjQ95JvSj"
      },
      "source": [
        "### NumPy 1\n",
        "### University of Virginia\n",
        "### DS 1002: Programming for Data Science\n",
        "---  \n",
        "\n",
        "### PREREQUISITES\n",
        "- import\n",
        "- functions\n",
        "- for ... in\n",
        "\n",
        "### SOURCES\n",
        "- https://numpy.org/\n",
        "- https://en.wikipedia.org/wiki/NumPy\n",
        "- https://www.scipy.org/\n",
        "- https://en.wikipedia.org/wiki/SciPy\n",
        "- https://numpy.org/doc/stable/reference/generated/numpy.ndarray.html\n",
        "- https://docs.scipy.org/doc/numpy-1.15.1/reference/generated/numpy.random.randint.html\n",
        "\n",
        "### OBJECTIVES\n",
        "- Introduction to Numpy\n",
        "\n",
        "### CONCEPTS\n",
        "- The numpy package contains useful functions for math operations\n",
        "- The ndarray is the workhorse of the package"
      ]
    },
    {
      "cell_type": "markdown",
      "metadata": {
        "id": "evtyhwRiJvSn"
      },
      "source": [
        "# NumPy\n",
        "\n",
        "**A new data structure**\n",
        "\n",
        "Essentially, NumPy introduces a new data structure to Python -- the **n-dimensional array**. Along with it, it introduces a collection of function and methods that take advantage of this data structure.\n",
        "\n",
        "The data structure is designed to support the use of **numerical methods**: algorithmic approximations to the problems of mathematical analysis.\n",
        "\n",
        "**New Functions**\n",
        "\n",
        "It also provides a new way of appling functions to day made possible by the data structure -- **vectorized functions**.  \n",
        "Vectorized functions replace the use of loops and comprehensions to apply a function to a set of data.\n",
        "\n",
        "In addition, given the data structure, it provides a library of **linear algebra** functions.\n",
        "\n",
        "**New Data Types**\n",
        "\n",
        "NumPy also introduces a bunch of new **data types**.\n",
        "\n",
        "**Python for Science**\n",
        "\n",
        "Finally, because [numerical methods](https://www.britannica.com/science/numerical-analysis) are so important to so many sciences, NumPy is the basis of what is called **the scientific \"stack\"** in Python, which consists of SciPy, Matplotlib, SciKitLearn, and Pandas. All of these assume that you have some knowledge of NumPy.\n",
        "\n",
        "Let's take a look at it."
      ]
    },
    {
      "cell_type": "code",
      "execution_count": 3,
      "metadata": {
        "id": "wKopD6vIJvSn"
      },
      "outputs": [],
      "source": [
        "import numpy as np"
      ]
    },
    {
      "cell_type": "markdown",
      "metadata": {
        "id": "DW73LfVlJvSo"
      },
      "source": [
        "NumPy is by widespread convention aliased as `np`."
      ]
    },
    {
      "cell_type": "markdown",
      "metadata": {
        "editable": true,
        "tags": [],
        "id": "Cr09r5r_JvSo"
      },
      "source": [
        "# The ndarray\n",
        "\n",
        "The ndarray is a multidimensional array object."
      ]
    },
    {
      "cell_type": "markdown",
      "metadata": {
        "id": "9IihWc18JvSp"
      },
      "source": [
        "Let's explore it some.\n",
        "\n",
        "First, let's generate some fake data using NumPy's built-a random number generator.\n",
        "\n",
        "**`numpy.random.randn()`**  \n",
        "[documentation](https://numpy.org/doc/stable/reference/random/generated/numpy.random.randn.html)"
      ]
    },
    {
      "cell_type": "code",
      "execution_count": 4,
      "metadata": {
        "id": "T3EO7Ud5JvSp",
        "outputId": "76c1e48a-fb65-4154-f564-59e414321678",
        "colab": {
          "base_uri": "https://localhost:8080/"
        }
      },
      "outputs": [
        {
          "output_type": "stream",
          "name": "stdout",
          "text": [
            "1.2104957444467896 <class 'float'>\n"
          ]
        }
      ],
      "source": [
        "# generate a single random number\n",
        "number = np.random.randn()\n",
        "print(number, type((number)))"
      ]
    },
    {
      "cell_type": "code",
      "execution_count": 5,
      "metadata": {
        "editable": true,
        "jupyter": {
          "outputs_hidden": false
        },
        "id": "IgzY7XJBJvSp"
      },
      "outputs": [],
      "source": [
        "# generate some data - what do the arguments specify?\n",
        "\n",
        "data = np.random.randn(2, 3)"
      ]
    },
    {
      "cell_type": "code",
      "execution_count": 6,
      "metadata": {
        "editable": true,
        "jupyter": {
          "outputs_hidden": false
        },
        "id": "88PLKNPFJvSp",
        "outputId": "a0181706-44ef-4ff4-d4d4-2203b56de0b2",
        "colab": {
          "base_uri": "https://localhost:8080/"
        }
      },
      "outputs": [
        {
          "output_type": "execute_result",
          "data": {
            "text/plain": [
              "array([[-0.66273253, -0.79844063,  0.42973552],\n",
              "       [-0.06500314,  0.29317367,  0.05101617]])"
            ]
          },
          "metadata": {},
          "execution_count": 6
        }
      ],
      "source": [
        "# look at the data\n",
        "data"
      ]
    },
    {
      "cell_type": "code",
      "source": [
        "data * data"
      ],
      "metadata": {
        "id": "A091tNn_h6Wb",
        "outputId": "af843487-64d3-4e14-d02a-8c6ce7d6c08b",
        "colab": {
          "base_uri": "https://localhost:8080/"
        }
      },
      "execution_count": 7,
      "outputs": [
        {
          "output_type": "execute_result",
          "data": {
            "text/plain": [
              "array([[0.43921441, 0.63750743, 0.18467262],\n",
              "       [0.00422541, 0.0859508 , 0.00260265]])"
            ]
          },
          "metadata": {},
          "execution_count": 7
        }
      ]
    },
    {
      "cell_type": "markdown",
      "source": [
        "^list of lists"
      ],
      "metadata": {
        "id": "LjAwY2N2hvOZ"
      }
    },
    {
      "cell_type": "markdown",
      "metadata": {
        "id": "qgnLzCz-JvSq"
      },
      "source": [
        "Dot Product\n",
        "\n",
        "1) array * the multiplier\n",
        "2) **`np.dot()`**\n",
        "\n",
        "[documentation](https://numpy.org/doc/stable/reference/generated/numpy.dot.html)  \n",
        "[dot product](https://www.khanacademy.org/math/linear-algebra/vectors-and-spaces/null-column-space/v/matrix-vector-products)"
      ]
    },
    {
      "cell_type": "code",
      "execution_count": 8,
      "metadata": {
        "editable": true,
        "jupyter": {
          "outputs_hidden": false
        },
        "id": "qxWU5z4pJvSq",
        "outputId": "98b089fd-8beb-44df-f665-26a0ddd4b6b5",
        "colab": {
          "base_uri": "https://localhost:8080/"
        }
      },
      "outputs": [
        {
          "output_type": "execute_result",
          "data": {
            "text/plain": [
              "array([[-6.62732531, -7.98440627,  4.2973552 ],\n",
              "       [-0.65003137,  2.93173667,  0.51016165]])"
            ]
          },
          "metadata": {},
          "execution_count": 8
        }
      ],
      "source": [
        "data * 10"
      ]
    },
    {
      "cell_type": "code",
      "execution_count": 9,
      "metadata": {
        "id": "NW617dWaJvSq",
        "outputId": "38dec41a-36b6-4f36-aedd-dae4e4b7c6b1",
        "colab": {
          "base_uri": "https://localhost:8080/"
        }
      },
      "outputs": [
        {
          "output_type": "execute_result",
          "data": {
            "text/plain": [
              "array([[-6.62732531, -7.98440627,  4.2973552 ],\n",
              "       [-0.65003137,  2.93173667,  0.51016165]])"
            ]
          },
          "metadata": {},
          "execution_count": 9
        }
      ],
      "source": [
        "b = 10 # need to assign multiplier to variable\n",
        "np.dot(data, b)"
      ]
    },
    {
      "cell_type": "markdown",
      "metadata": {
        "id": "SR1ZU_0FJvSq"
      },
      "source": [
        "Addition"
      ]
    },
    {
      "cell_type": "code",
      "execution_count": 10,
      "metadata": {
        "editable": true,
        "jupyter": {
          "outputs_hidden": false
        },
        "id": "PjsR9Fx6JvSq",
        "outputId": "8783eed8-f6ac-48d5-c4c4-b1b719a73131",
        "colab": {
          "base_uri": "https://localhost:8080/"
        }
      },
      "outputs": [
        {
          "output_type": "execute_result",
          "data": {
            "text/plain": [
              "array([[-1.32546506, -1.59688125,  0.85947104],\n",
              "       [-0.13000627,  0.58634733,  0.10203233]])"
            ]
          },
          "metadata": {},
          "execution_count": 10
        }
      ],
      "source": [
        "data + data"
      ]
    },
    {
      "cell_type": "markdown",
      "metadata": {
        "id": "miNS0XmOJvSq"
      },
      "source": [
        "**`.shape`**"
      ]
    },
    {
      "cell_type": "code",
      "execution_count": 11,
      "metadata": {
        "editable": true,
        "jupyter": {
          "outputs_hidden": false
        },
        "id": "2o_0530DJvSr",
        "outputId": "7f7d6006-489e-4de0-e1d3-4bee6961e363",
        "colab": {
          "base_uri": "https://localhost:8080/"
        }
      },
      "outputs": [
        {
          "output_type": "execute_result",
          "data": {
            "text/plain": [
              "(2, 3)"
            ]
          },
          "metadata": {},
          "execution_count": 11
        }
      ],
      "source": [
        "data.shape"
      ]
    },
    {
      "cell_type": "code",
      "execution_count": 12,
      "metadata": {
        "editable": true,
        "jupyter": {
          "outputs_hidden": false
        },
        "id": "1nvJRb2YJvSr",
        "outputId": "1cfb479d-3a97-4d97-e448-6f8efc242f2d",
        "colab": {
          "base_uri": "https://localhost:8080/"
        }
      },
      "outputs": [
        {
          "output_type": "execute_result",
          "data": {
            "text/plain": [
              "dtype('float64')"
            ]
          },
          "metadata": {},
          "execution_count": 12
        }
      ],
      "source": [
        "data.dtype"
      ]
    },
    {
      "cell_type": "markdown",
      "metadata": {
        "id": "r0OHwY1JJvSr"
      },
      "source": [
        "## About Dimensions\n",
        "\n",
        "The term dimension is ambiguous.\n",
        "* Sometimes refers to the dimensions of things in the world, such as space and time.\n",
        "* Sometimes refers to the dimensions of a data structure, independent of what it represents in the world.\n",
        "\n",
        "NumPy dimensions are the latter, although they can be used to represent the former, as physicists do.\n",
        "\n",
        "The dimensions of data structures are sometimes called **axes**.\n",
        "\n",
        "Consider this: Three-dimensional space can be represented as three columns in a two-dimensional table OR as three axes in a data cube.\n"
      ]
    },
    {
      "cell_type": "markdown",
      "metadata": {
        "editable": true,
        "id": "lp0EX6I5JvSr"
      },
      "source": [
        "# Creating ndarrays"
      ]
    },
    {
      "cell_type": "markdown",
      "metadata": {
        "id": "_HaHJAiiJvSr"
      },
      "source": [
        "**`np.array()`**  \n",
        "- take an object and casts an array data structure  \n",
        "- [documentation](https://numpy.org/doc/stable/reference/generated/numpy.array.html)"
      ]
    },
    {
      "cell_type": "code",
      "execution_count": 13,
      "metadata": {
        "editable": true,
        "jupyter": {
          "outputs_hidden": false
        },
        "id": "cCUWBBJlJvSr",
        "outputId": "191d91e5-d355-47ae-8021-d733d0adf417",
        "colab": {
          "base_uri": "https://localhost:8080/"
        }
      },
      "outputs": [
        {
          "output_type": "execute_result",
          "data": {
            "text/plain": [
              "array([6. , 7.5, 8. , 0. , 1. ])"
            ]
          },
          "metadata": {},
          "execution_count": 13
        }
      ],
      "source": [
        "data1 = [6, 7.5, 8, 0, 1] # create a list\n",
        "arr1 = np.array(data1) # turn list into a numpy array\n",
        "arr1"
      ]
    },
    {
      "cell_type": "code",
      "execution_count": 14,
      "metadata": {
        "editable": true,
        "jupyter": {
          "outputs_hidden": false
        },
        "id": "pJPP2YXaJvSs",
        "outputId": "2c3f1bc9-bfe9-4b4f-e5ef-04b39b65160a",
        "colab": {
          "base_uri": "https://localhost:8080/"
        }
      },
      "outputs": [
        {
          "output_type": "execute_result",
          "data": {
            "text/plain": [
              "array([[1, 2, 3, 4],\n",
              "       [5, 6, 7, 8]])"
            ]
          },
          "metadata": {},
          "execution_count": 14
        }
      ],
      "source": [
        "data2 = [[1, 2, 3, 4], [5, 6, 7, 8]]\n",
        "arr2 = np.array(data2)\n",
        "arr2"
      ]
    },
    {
      "cell_type": "code",
      "execution_count": 15,
      "metadata": {
        "editable": true,
        "jupyter": {
          "outputs_hidden": false
        },
        "id": "TpPSq0b-JvSs",
        "outputId": "28b41042-d61b-4701-def7-f1749cedb2ec",
        "colab": {
          "base_uri": "https://localhost:8080/"
        }
      },
      "outputs": [
        {
          "output_type": "execute_result",
          "data": {
            "text/plain": [
              "2"
            ]
          },
          "metadata": {},
          "execution_count": 15
        }
      ],
      "source": [
        "arr2.ndim"
      ]
    },
    {
      "cell_type": "code",
      "execution_count": 16,
      "metadata": {
        "editable": true,
        "jupyter": {
          "outputs_hidden": false
        },
        "id": "jmpn6F35JvSs",
        "outputId": "93e4c53c-62a2-4850-adcc-551f90f6205e",
        "colab": {
          "base_uri": "https://localhost:8080/"
        }
      },
      "outputs": [
        {
          "output_type": "execute_result",
          "data": {
            "text/plain": [
              "(2, 4)"
            ]
          },
          "metadata": {},
          "execution_count": 16
        }
      ],
      "source": [
        "arr2.shape"
      ]
    },
    {
      "cell_type": "code",
      "execution_count": 17,
      "metadata": {
        "editable": true,
        "jupyter": {
          "outputs_hidden": false
        },
        "id": "GkQDA5aBJvSs",
        "outputId": "1b4ebe6c-67e4-4a33-b2c8-a0a734e44334",
        "colab": {
          "base_uri": "https://localhost:8080/"
        }
      },
      "outputs": [
        {
          "output_type": "execute_result",
          "data": {
            "text/plain": [
              "dtype('float64')"
            ]
          },
          "metadata": {},
          "execution_count": 17
        }
      ],
      "source": [
        "arr1.dtype"
      ]
    },
    {
      "cell_type": "code",
      "execution_count": 18,
      "metadata": {
        "editable": true,
        "jupyter": {
          "outputs_hidden": false
        },
        "id": "qDW_CIWXJvSs",
        "outputId": "22da2dec-222c-4c8a-89e0-b5494fe7db31",
        "colab": {
          "base_uri": "https://localhost:8080/"
        }
      },
      "outputs": [
        {
          "output_type": "execute_result",
          "data": {
            "text/plain": [
              "dtype('int64')"
            ]
          },
          "metadata": {},
          "execution_count": 18
        }
      ],
      "source": [
        "arr2.dtype"
      ]
    },
    {
      "cell_type": "markdown",
      "metadata": {
        "id": "8ZvswBLbJvSt"
      },
      "source": [
        "**`np.zeros()`**\n",
        "- returns new array of given shape and type filled with zeros\n",
        "- [documentation](https://numpy.org/doc/stable/reference/generated/numpy.zeros.html)"
      ]
    },
    {
      "cell_type": "code",
      "execution_count": 19,
      "metadata": {
        "editable": true,
        "jupyter": {
          "outputs_hidden": false
        },
        "id": "kUz2LwmsJvSt",
        "outputId": "09a1221b-2f2d-4e50-b91f-1a6091bc58ba",
        "colab": {
          "base_uri": "https://localhost:8080/"
        }
      },
      "outputs": [
        {
          "output_type": "execute_result",
          "data": {
            "text/plain": [
              "array([0., 0., 0., 0., 0., 0., 0., 0., 0., 0.])"
            ]
          },
          "metadata": {},
          "execution_count": 19
        }
      ],
      "source": [
        "np.zeros(10)"
      ]
    },
    {
      "cell_type": "code",
      "execution_count": 20,
      "metadata": {
        "editable": true,
        "jupyter": {
          "outputs_hidden": false
        },
        "id": "zU8Ujo-OJvSt",
        "outputId": "14a0f61a-106e-4e21-8b05-4ec5e496dc2a",
        "colab": {
          "base_uri": "https://localhost:8080/"
        }
      },
      "outputs": [
        {
          "output_type": "execute_result",
          "data": {
            "text/plain": [
              "array([[0., 0., 0., 0., 0., 0.],\n",
              "       [0., 0., 0., 0., 0., 0.],\n",
              "       [0., 0., 0., 0., 0., 0.]])"
            ]
          },
          "metadata": {},
          "execution_count": 20
        }
      ],
      "source": [
        "np.zeros((3, 6))"
      ]
    },
    {
      "cell_type": "markdown",
      "metadata": {
        "id": "-yiwu6E_JvSt"
      },
      "source": [
        "**`np.arange()`**  \n",
        "- returns a range of a specified length & step  \n",
        "- [documentation](https://numpy.org/doc/stable/reference/generated/numpy.arange.html)"
      ]
    },
    {
      "cell_type": "code",
      "execution_count": 21,
      "metadata": {
        "editable": true,
        "jupyter": {
          "outputs_hidden": false
        },
        "id": "JqZZZ6IiJvSt",
        "outputId": "48c9407f-8513-4c0b-b32f-455c3b366cc8",
        "colab": {
          "base_uri": "https://localhost:8080/"
        }
      },
      "outputs": [
        {
          "output_type": "execute_result",
          "data": {
            "text/plain": [
              "array([ 0,  1,  2,  3,  4,  5,  6,  7,  8,  9, 10, 11, 12, 13, 14])"
            ]
          },
          "metadata": {},
          "execution_count": 21
        }
      ],
      "source": [
        "np.arange(15)"
      ]
    },
    {
      "cell_type": "markdown",
      "metadata": {
        "id": "CAmKSU6sJvSt"
      },
      "source": [
        "### Student Exercises\n",
        "\n",
        "* Convert `sudoku_game` into a NumPy array called `sudoku_array`.  \n",
        "* Print the class `type()` of `sudoku_array` to check that your code has worked properly.\n",
        "\n"
      ]
    },
    {
      "cell_type": "code",
      "execution_count": null,
      "metadata": {
        "id": "h82bfXrwJvSu"
      },
      "outputs": [],
      "source": [
        "# sudoku_game is Python list containing a sudoku game\n",
        "\n",
        "sudoku_game = [[0, 0, 4, 3, 0, 0, 2, 0, 9],\n",
        "               [0, 0, 5, 0, 0, 9, 0, 0, 1],\n",
        "               [0, 7, 0, 0, 6, 0, 0, 4, 3],\n",
        "               [0, 0, 6, 0, 0, 2, 0, 8, 7],\n",
        "               [1, 9, 0, 0, 0, 7, 4, 0, 0],\n",
        "               [0, 5, 0, 0, 8, 3, 0, 0, 0],\n",
        "               [6, 0, 0, 0, 0, 0, 1, 0, 5],\n",
        "               [0, 0, 3, 5, 0, 8, 6, 9, 0],\n",
        "               [0, 4, 2, 9, 1, 0, 3, 0, 0]]"
      ]
    },
    {
      "cell_type": "code",
      "execution_count": null,
      "metadata": {
        "id": "S8NGLQObJvSu"
      },
      "outputs": [],
      "source": [
        "\n"
      ]
    },
    {
      "cell_type": "markdown",
      "metadata": {
        "id": "Lhf9enTPJvSu"
      },
      "source": [
        "Create and print an array filled with zeros called `zero_array`, which has two rows and four columns."
      ]
    },
    {
      "cell_type": "code",
      "execution_count": null,
      "metadata": {
        "id": "ket9f446JvSu"
      },
      "outputs": [],
      "source": []
    },
    {
      "cell_type": "markdown",
      "metadata": {
        "id": "LV9oQI4lJvSv"
      },
      "source": [
        "Create and print an array of random floats between 0 and 1 called `random_array`, which has three rows and six columns."
      ]
    },
    {
      "cell_type": "code",
      "execution_count": null,
      "metadata": {
        "id": "TZHVKgHDJvSv"
      },
      "outputs": [],
      "source": []
    },
    {
      "cell_type": "markdown",
      "metadata": {
        "id": "Bqmp_Jh-JvSv"
      },
      "source": [
        "Your task is to create a scatter plot with the values from another array called `doubling_array` (not yet defined) on the y-axis.  \n",
        "\n",
        "To to this we will need to import another package for plots, called `pyplot`, which itself is part of the larger `matplotlib` .\n",
        "\n",
        "A scatter plot can be created using the following code:  \n",
        "\n",
        "plt.scatter(x_values, y_values)  \n",
        "plt.show()  "
      ]
    },
    {
      "cell_type": "code",
      "execution_count": null,
      "metadata": {
        "id": "-R3lNu_yJvSv"
      },
      "outputs": [],
      "source": []
    },
    {
      "cell_type": "markdown",
      "metadata": {
        "id": "MuarsTE1JvSw"
      },
      "source": [
        "* Using np.arange(), create a 1D array called `one_to_ten` which holds all integers from one to ten (inclusive).  \n",
        "\n",
        "* Create a scatterplot with `doubling_array` as the y values and `one_to_ten` as the x values.  "
      ]
    },
    {
      "cell_type": "code",
      "execution_count": null,
      "metadata": {
        "id": "cpt52xcaJvSw"
      },
      "outputs": [],
      "source": []
    },
    {
      "cell_type": "markdown",
      "metadata": {
        "editable": true,
        "id": "PiGr9vvbJvSw"
      },
      "source": [
        "## Data Types for ndarrays"
      ]
    },
    {
      "cell_type": "markdown",
      "metadata": {
        "id": "_lnr-W5rJvSw"
      },
      "source": [
        "**ndarrays must have a single data type associated with them**\n",
        "\n",
        "- In NumPy you can specify bytes (8, 32, 64, etc)\n",
        "- More on bytes [here](https://web.stanford.edu/class/cs101/bits-bytes.html)"
      ]
    },
    {
      "cell_type": "code",
      "execution_count": null,
      "metadata": {
        "editable": true,
        "jupyter": {
          "outputs_hidden": false
        },
        "id": "wI4MAH48JvSx"
      },
      "outputs": [],
      "source": [
        "arr1 = np.array([1, 2, 3], dtype=np.float64)\n",
        "arr1.dtype"
      ]
    },
    {
      "cell_type": "code",
      "execution_count": null,
      "metadata": {
        "editable": true,
        "jupyter": {
          "outputs_hidden": false
        },
        "id": "ivQmudRwJvSx"
      },
      "outputs": [],
      "source": [
        "arr2 = np.array([1, 2, 3], dtype=np.int32)\n",
        "arr2.dtype"
      ]
    },
    {
      "cell_type": "code",
      "execution_count": null,
      "metadata": {
        "editable": true,
        "jupyter": {
          "outputs_hidden": false
        },
        "id": "YFU6tcp1JvSx"
      },
      "outputs": [],
      "source": [
        "arr = np.array([1, 2, 3, 4, 5])\n",
        "arr.dtype"
      ]
    },
    {
      "cell_type": "code",
      "execution_count": null,
      "metadata": {
        "editable": true,
        "jupyter": {
          "outputs_hidden": false
        },
        "id": "WEWiOoY2JvSy"
      },
      "outputs": [],
      "source": [
        "float_arr = arr.astype(np.float64)\n",
        "float_arr.dtype"
      ]
    },
    {
      "cell_type": "code",
      "execution_count": null,
      "metadata": {
        "editable": true,
        "jupyter": {
          "outputs_hidden": false
        },
        "id": "PHXxhX6mJvSy"
      },
      "outputs": [],
      "source": [
        "arr = np.array([3.7, -1.2, -2.6, 0.5, 12.9, 10.1])\n",
        "arr"
      ]
    },
    {
      "cell_type": "code",
      "execution_count": null,
      "metadata": {
        "editable": true,
        "jupyter": {
          "outputs_hidden": false
        },
        "id": "_7SDwCe5JvSy"
      },
      "outputs": [],
      "source": [
        "arr.astype(np.int32)"
      ]
    },
    {
      "cell_type": "code",
      "execution_count": null,
      "metadata": {
        "editable": true,
        "jupyter": {
          "outputs_hidden": false
        },
        "id": "84ZigrjRJvSy"
      },
      "outputs": [],
      "source": [
        "numeric_strings = np.array(['1.25', '-9.6', '42'], dtype=np.string_)\n",
        "numeric_strings.astype(float)"
      ]
    },
    {
      "cell_type": "code",
      "execution_count": null,
      "metadata": {
        "editable": true,
        "jupyter": {
          "outputs_hidden": false
        },
        "id": "8SDcq-w8JvSy"
      },
      "outputs": [],
      "source": [
        "int_array = np.arange(10)\n",
        "calibers = np.array([.22, .270, .357, .380, .44, .50], dtype=np.float64)\n",
        "int_array.astype(calibers.dtype)"
      ]
    },
    {
      "cell_type": "markdown",
      "metadata": {
        "id": "1xhFKJHIJvSy"
      },
      "source": [
        "**NumPy Data Types**\n",
        "\n",
        "```\n",
        "i - integer\n",
        "b - boolean\n",
        "u - unsigned integer\n",
        "f - float\n",
        "c - complex float\n",
        "m - timedelta\n",
        "M - datetime\n",
        "O - object\n",
        "S - string\n",
        "U - unicode string\n",
        "V - fixed chunk of memory for other type ( void )\n",
        "```"
      ]
    },
    {
      "cell_type": "markdown",
      "metadata": {
        "editable": true,
        "id": "7GOYAHtxJvSy"
      },
      "source": [
        "## Arithmetic"
      ]
    },
    {
      "cell_type": "code",
      "execution_count": null,
      "metadata": {
        "editable": true,
        "jupyter": {
          "outputs_hidden": false
        },
        "id": "wDm8XyMLJvSz"
      },
      "outputs": [],
      "source": [
        "arr = np.array([[1., 2., 3.], [4., 5., 6.]])\n",
        "arr"
      ]
    },
    {
      "cell_type": "code",
      "execution_count": null,
      "metadata": {
        "id": "_Br0FnrTJvSz"
      },
      "outputs": [],
      "source": [
        "arr.shape"
      ]
    },
    {
      "cell_type": "code",
      "execution_count": null,
      "metadata": {
        "editable": true,
        "jupyter": {
          "outputs_hidden": false
        },
        "id": "7_fvhW1MJvSz"
      },
      "outputs": [],
      "source": [
        "arr * arr"
      ]
    },
    {
      "cell_type": "code",
      "execution_count": null,
      "metadata": {
        "editable": true,
        "jupyter": {
          "outputs_hidden": false
        },
        "id": "Ai8nvVKyJvSz"
      },
      "outputs": [],
      "source": [
        "arr - arr"
      ]
    },
    {
      "cell_type": "code",
      "execution_count": null,
      "metadata": {
        "editable": true,
        "jupyter": {
          "outputs_hidden": false
        },
        "id": "gZme8FLPJvSz"
      },
      "outputs": [],
      "source": [
        "arr2 = np.array([[0., 4., 1.], [7., 2., 12.]])\n",
        "arr2"
      ]
    },
    {
      "cell_type": "code",
      "execution_count": null,
      "metadata": {
        "editable": true,
        "jupyter": {
          "outputs_hidden": false
        },
        "id": "h22S9RjhJvSz"
      },
      "outputs": [],
      "source": [
        "arr2 > arr"
      ]
    },
    {
      "cell_type": "markdown",
      "metadata": {
        "editable": true,
        "id": "QEAEplPCJvSz"
      },
      "source": [
        "# Basic Indexing and Slicing"
      ]
    },
    {
      "cell_type": "code",
      "execution_count": null,
      "metadata": {
        "editable": true,
        "jupyter": {
          "outputs_hidden": false
        },
        "id": "D1XX-YReJvSz"
      },
      "outputs": [],
      "source": [
        "arr = np.arange(10)\n",
        "arr"
      ]
    },
    {
      "cell_type": "code",
      "execution_count": null,
      "metadata": {
        "editable": true,
        "jupyter": {
          "outputs_hidden": false
        },
        "id": "QYAWDg0tJvS0"
      },
      "outputs": [],
      "source": [
        "arr[5]"
      ]
    },
    {
      "cell_type": "code",
      "execution_count": null,
      "metadata": {
        "editable": true,
        "jupyter": {
          "outputs_hidden": false
        },
        "id": "X-wU-UhgJvS0"
      },
      "outputs": [],
      "source": [
        "arr[5:8]"
      ]
    },
    {
      "cell_type": "markdown",
      "metadata": {
        "id": "Tk-FbFL9JvS0"
      },
      "source": [
        "Notice that if we assign a scalar to a slice, all of the elements of the slice get that value. This is called **broadcasting**."
      ]
    },
    {
      "cell_type": "code",
      "execution_count": null,
      "metadata": {
        "editable": true,
        "jupyter": {
          "outputs_hidden": false
        },
        "id": "W43kKG6PJvS0"
      },
      "outputs": [],
      "source": [
        "arr[5:8] = 12"
      ]
    },
    {
      "cell_type": "code",
      "execution_count": null,
      "metadata": {
        "editable": true,
        "jupyter": {
          "outputs_hidden": false
        },
        "id": "lRMz9l8wJvS0"
      },
      "outputs": [],
      "source": [
        "arr"
      ]
    },
    {
      "cell_type": "markdown",
      "metadata": {
        "id": "8dgZfj71JvS0"
      },
      "source": [
        "Also, notice that changes to slices are changes to the arrays they are slices of. They are **views**, not copies."
      ]
    },
    {
      "cell_type": "code",
      "execution_count": null,
      "metadata": {
        "editable": true,
        "jupyter": {
          "outputs_hidden": false
        },
        "id": "bOEhMgedJvS0"
      },
      "outputs": [],
      "source": [
        "arr_slice = arr[5:8]\n",
        "arr_slice"
      ]
    },
    {
      "cell_type": "code",
      "execution_count": null,
      "metadata": {
        "editable": true,
        "jupyter": {
          "outputs_hidden": false
        },
        "id": "33_jKeEOJvS0"
      },
      "outputs": [],
      "source": [
        "arr_slice[1] = 12345\n",
        "arr"
      ]
    },
    {
      "cell_type": "code",
      "execution_count": null,
      "metadata": {
        "editable": true,
        "jupyter": {
          "outputs_hidden": false
        },
        "id": "kpGAh_YkJvS0"
      },
      "outputs": [],
      "source": [
        "arr_slice[:] = 64\n",
        "arr"
      ]
    },
    {
      "cell_type": "code",
      "execution_count": null,
      "metadata": {
        "id": "iJimXjkwJvS0"
      },
      "outputs": [],
      "source": [
        "arr_slice"
      ]
    },
    {
      "cell_type": "markdown",
      "metadata": {
        "id": "EzO2R0RtJvS1"
      },
      "source": [
        "As NumPy has been designed with large data use cases in mind, you could imagine performance and memory problems if NumPy insisted on copying data left and right.\n",
        "\n",
        "⭐ If you want a copy of a slice of an ndarray instead of a view, you will need to explicitly copy the array; for example `arr[5:8].copy()`."
      ]
    },
    {
      "cell_type": "markdown",
      "metadata": {
        "id": "jaLwxETQJvS1"
      },
      "source": [
        "**Higher Dimensional Arrays**"
      ]
    },
    {
      "cell_type": "code",
      "execution_count": null,
      "metadata": {
        "editable": true,
        "jupyter": {
          "outputs_hidden": false
        },
        "id": "wIVsfl1uJvS1"
      },
      "outputs": [],
      "source": [
        "arr2d = np.array([[1, 2, 3], [4, 5, 6], [7, 8, 9]])\n",
        "arr2d"
      ]
    },
    {
      "cell_type": "code",
      "execution_count": null,
      "metadata": {
        "editable": true,
        "jupyter": {
          "outputs_hidden": false
        },
        "id": "lnCT_EGdJvS1"
      },
      "outputs": [],
      "source": [
        "arr2d[2]"
      ]
    },
    {
      "cell_type": "code",
      "execution_count": null,
      "metadata": {
        "editable": true,
        "jupyter": {
          "outputs_hidden": false
        },
        "id": "dnle6IdAJvS1"
      },
      "outputs": [],
      "source": [
        "arr2d[0][2]"
      ]
    },
    {
      "cell_type": "markdown",
      "metadata": {
        "id": "DYaPScYCJvS1"
      },
      "source": [
        "**Simplified notation**"
      ]
    },
    {
      "cell_type": "code",
      "execution_count": null,
      "metadata": {
        "editable": true,
        "jupyter": {
          "outputs_hidden": false
        },
        "id": "SmgwYfJhJvS1"
      },
      "outputs": [],
      "source": [
        "arr2d[0, 2]"
      ]
    },
    {
      "cell_type": "markdown",
      "metadata": {
        "id": "EUpIs3RdJvS1"
      },
      "source": [
        "A nice visual of a 2D array\n",
        "\n",
        "<img src=\"https://learning.oreilly.com/api/v2/epubs/urn:orm:book:9781449323592/files/httpatomoreillycomsourceoreillyimages2172112.png\" height=\"50%\" width=\"50%\"/>"
      ]
    },
    {
      "cell_type": "markdown",
      "metadata": {
        "id": "_7-GNHhkJvS1"
      },
      "source": [
        "**Two-Dimensional Array Slicing**\n",
        "\n",
        "<img src=\"https://learning.oreilly.com/api/v2/epubs/urn:orm:book:9781449323592/files/httpatomoreillycomsourceoreillyimages2172114.png\" height=\"50%\" width=\"50%\"/>"
      ]
    },
    {
      "cell_type": "markdown",
      "metadata": {
        "id": "3RSl1g-rJvS2"
      },
      "source": [
        "**3D arrays**"
      ]
    },
    {
      "cell_type": "code",
      "execution_count": null,
      "metadata": {
        "editable": true,
        "jupyter": {
          "outputs_hidden": false
        },
        "id": "n3k49rKOJvS2"
      },
      "outputs": [],
      "source": [
        "arr3d = np.array([[[1, 2, 3], [4, 5, 6]], [[7, 8, 9], [10, 11, 12]]])"
      ]
    },
    {
      "cell_type": "code",
      "execution_count": null,
      "metadata": {
        "id": "YPvAgW3FJvS2"
      },
      "outputs": [],
      "source": [
        "arr3d.shape"
      ]
    },
    {
      "cell_type": "code",
      "execution_count": null,
      "metadata": {
        "editable": true,
        "jupyter": {
          "outputs_hidden": false
        },
        "id": "F662WbTxJvS2"
      },
      "outputs": [],
      "source": [
        "arr3d"
      ]
    },
    {
      "cell_type": "markdown",
      "metadata": {
        "tags": [],
        "id": "np_7nlByJvS2"
      },
      "source": [
        "\n",
        "💡 **Here is a way to visualize 3 and higher dimensional data:**\n",
        "\n",
        "```python\n",
        "[ # AXIS 0                     CONTAINS 2 ELEMENTS (arrays)\n",
        "    [ # AXIS 1                 CONTAINS 2 ELEMENTS (arrays)\n",
        "        [1, 2, 3], # AXIS 3    CONTAINS 3 ELEMENTS (integers)\n",
        "        [4, 5, 6]  # AXIS 3\n",
        "    ],  \n",
        "    [ # AXIS 1\n",
        "        [7, 8, 9],\n",
        "        [10, 11, 12]\n",
        "    ]\n",
        "]\n",
        "```\n",
        "Each axis is a level in the nested hierarchy, i.e. a tree or DAG (directed-acyclic graph).\n",
        "\n",
        "* Each axis is a container.\n",
        "* There is only one top container.\n",
        "* Only the bottom containers have data."
      ]
    },
    {
      "cell_type": "markdown",
      "metadata": {
        "id": "5nJFir6AJvS2"
      },
      "source": [
        "**Omit lower indices**\n",
        "\n",
        "In multidimensional arrays, if you omit later indices, the returned object will be a **lower-dimensional ndarray** consisting of all the data contained by the higher indexed dimension.\n",
        "\n",
        "So in the 2 × 2 × 3 array `arr3d`:"
      ]
    },
    {
      "cell_type": "code",
      "execution_count": null,
      "metadata": {
        "editable": true,
        "jupyter": {
          "outputs_hidden": false
        },
        "id": "3VqwTbqyJvS2"
      },
      "outputs": [],
      "source": [
        "arr3d[0]"
      ]
    },
    {
      "cell_type": "markdown",
      "metadata": {
        "id": "CDJ_xeYkJvS2"
      },
      "source": [
        "Saving data before modifying an array."
      ]
    },
    {
      "cell_type": "code",
      "execution_count": null,
      "metadata": {
        "editable": true,
        "jupyter": {
          "outputs_hidden": false
        },
        "id": "eaZYuAbwJvS2"
      },
      "outputs": [],
      "source": [
        "old_values = arr3d[0].copy()\n",
        "arr3d[0] = 42\n",
        "arr3d"
      ]
    },
    {
      "cell_type": "markdown",
      "metadata": {
        "id": "lCZsrKE-JvS2"
      },
      "source": [
        "Putting the data back."
      ]
    },
    {
      "cell_type": "code",
      "execution_count": null,
      "metadata": {
        "editable": true,
        "jupyter": {
          "outputs_hidden": false
        },
        "id": "Q8d9pPhLJvS2"
      },
      "outputs": [],
      "source": [
        "arr3d[0] = old_values\n",
        "arr3d"
      ]
    },
    {
      "cell_type": "markdown",
      "metadata": {
        "id": "RHrlNOu-JvS2"
      },
      "source": [
        "Similarly, `arr3d[1, 0]` gives you all of the values whose indices start with (1, 0), forming a 1-dimensional array:"
      ]
    },
    {
      "cell_type": "code",
      "execution_count": null,
      "metadata": {
        "editable": true,
        "jupyter": {
          "outputs_hidden": false
        },
        "id": "FknE8XGfJvS3"
      },
      "outputs": [],
      "source": [
        "arr3d[1, 0]"
      ]
    },
    {
      "cell_type": "code",
      "execution_count": null,
      "metadata": {
        "editable": true,
        "jupyter": {
          "outputs_hidden": false
        },
        "id": "L1I5RcAqJvS3"
      },
      "outputs": [],
      "source": [
        "x = arr3d[1]\n",
        "x"
      ]
    },
    {
      "cell_type": "code",
      "execution_count": null,
      "metadata": {
        "editable": true,
        "jupyter": {
          "outputs_hidden": false
        },
        "id": "mCT1yZZCJvS3"
      },
      "outputs": [],
      "source": [
        "x[0]"
      ]
    },
    {
      "cell_type": "markdown",
      "metadata": {
        "id": "GVoRRzaQJvS3"
      },
      "source": [
        "## Student Exercises\n",
        "\n",
        "In the first lesson, you created a `sudoku_game` two-dimensional NumPy array. Perhaps you have hundreds of sudoku game arrays, and you'd like to save the solution for this one, `sudoku_solution`, as part of the same array as its corresponding game in order to organize your sudoku data better. You could accomplish this by stacking the two 2D arrays on top of each other to create a 3D array.\n",
        "\n"
      ]
    },
    {
      "cell_type": "code",
      "execution_count": null,
      "metadata": {
        "id": "TZzEZW55JvS3"
      },
      "outputs": [],
      "source": [
        "sudoku_solution = [[8, 6, 4, 3, 7, 1, 2, 5, 9],\n",
        "                   [3, 2, 5, 8, 4, 9, 7, 6, 1],\n",
        "                   [9, 7, 1, 2, 6, 5, 8, 4, 3],\n",
        "                   [4, 3, 6, 1, 9, 2, 5, 8, 7],\n",
        "                   [1, 9, 8, 6, 5, 7, 4, 3, 2],\n",
        "                   [2, 5, 7, 4, 8, 3, 9, 1, 6],\n",
        "                   [6, 8, 9, 7, 3, 4, 1, 2, 5],\n",
        "                   [7, 1, 3, 5, 2, 8, 6, 9, 4],\n",
        "                   [5, 4, 2, 9, 1, 6, 3, 7, 8]]\n"
      ]
    },
    {
      "cell_type": "markdown",
      "metadata": {
        "id": "rO1q-7TZJvS3"
      },
      "source": [
        "* Create a 3D array called `game_and_solution` by stacking the two 2D arrays, created from `sudoku_game` and `sudoku_solution`, on top of one another; in the final array, `sudoku_game` should appear before `sudoku_solution`.  \n",
        "\n",
        "* Print game_and_solution."
      ]
    },
    {
      "cell_type": "code",
      "execution_count": null,
      "metadata": {
        "id": "INZhG9HTJvS3"
      },
      "outputs": [],
      "source": []
    },
    {
      "cell_type": "markdown",
      "metadata": {
        "id": "_hABXswsJvS3"
      },
      "source": [
        "* Create another 3D array called `new_game_and_solution` with a different 2D game and 2D solution pair: `new_sudoku_game` and `new_sudoku_solution`. `new_sudoku_game` should appear before `new_sudoku_solution`.   \n",
        "\n",
        "* Create a 4D array called `games_and_solutions` by making an array out of the two 3D arrays: `game_and_solution` and `new_game_and_solution`, in that order.  \n",
        "\n",
        "* Print the shape of `games_and_solutions`  "
      ]
    },
    {
      "cell_type": "code",
      "execution_count": null,
      "metadata": {
        "id": "FyKmtDSdJvS3"
      },
      "outputs": [],
      "source": [
        "new_sudoku_game = [[0, 0, 4, 3, 0, 0, 0, 0, 0],\n",
        "                   [8, 9, 0, 2, 0, 0, 6, 7, 0],\n",
        "                   [7, 0, 0, 9, 0, 0, 0, 5, 0],\n",
        "                   [5, 0, 0, 0, 0, 8, 1, 4, 0],\n",
        "                   [0, 7, 0, 0, 3, 2, 0, 6, 0],\n",
        "                   [6, 0, 0, 0, 0, 1, 3, 0, 8],\n",
        "                   [0, 0, 1, 7, 5, 0, 9, 0, 0],\n",
        "                   [0, 0, 5, 0, 4, 0, 0, 1, 2],\n",
        "                   [9, 8, 0, 0, 0, 6, 0, 0, 5]]\n",
        "\n",
        "new_sudoku_solution = [[2, 5, 4, 3, 6, 7, 8, 9, 1],\n",
        "                       [8, 9, 3, 2, 1, 5, 6, 7, 4],\n",
        "                       [7, 1, 6, 9, 8, 4, 2, 5, 3],\n",
        "                       [5, 3, 2, 6, 9, 8, 1, 4, 7],\n",
        "                       [1, 7, 8, 4, 3, 2, 5, 6, 9],\n",
        "                       [6, 4, 9, 5, 7, 1, 3, 2, 8],\n",
        "                       [4, 2, 1, 7, 5, 3, 9, 8, 6],\n",
        "                       [3, 6, 5, 8, 4, 9, 7, 1, 2],\n",
        "                       [9, 8, 7, 1, 2, 6, 4, 3, 5]]"
      ]
    },
    {
      "cell_type": "code",
      "execution_count": null,
      "metadata": {
        "id": "WcVv6FF6JvS3"
      },
      "outputs": [],
      "source": []
    },
    {
      "cell_type": "markdown",
      "metadata": {
        "id": "l1GajF9oJvS3"
      },
      "source": [
        "* Flatten `sudoku_game` so that it is a 1D array, and save it as `flattened_game`.  \n",
        "\n",
        "* Print the `.shape` of `flattened_game`.\n",
        "\n",
        "* Hint: look up the documentation on `.flatten`."
      ]
    },
    {
      "cell_type": "code",
      "execution_count": null,
      "metadata": {
        "id": "W_OkZSM4JvS3"
      },
      "outputs": [],
      "source": []
    },
    {
      "cell_type": "markdown",
      "metadata": {
        "id": "ENDHUaGFJvS4"
      },
      "source": [
        "* Reshape the `flattened_game` back to its original shape of nine rows and nine columns; save the new array as `reshaped_game`.  \n",
        "\n",
        "* Look up documenation on `.reshape`.\n",
        "\n",
        "* Does NumPy to keep the array elements in the same order after being flattened and reshaped?"
      ]
    },
    {
      "cell_type": "code",
      "execution_count": null,
      "metadata": {
        "id": "EaDTi_d7JvS4"
      },
      "outputs": [],
      "source": []
    }
  ],
  "metadata": {
    "anaconda-cloud": {},
    "kernelspec": {
      "display_name": "Python 3.8.9 64-bit",
      "language": "python",
      "name": "python3"
    },
    "language_info": {
      "codemirror_mode": {
        "name": "ipython",
        "version": 3
      },
      "file_extension": ".py",
      "mimetype": "text/x-python",
      "name": "python",
      "nbconvert_exporter": "python",
      "pygments_lexer": "ipython3",
      "version": "3.8.9 (default, Jul 19 2021, 09:37:30) \n[Clang 13.0.0 (clang-1300.0.27.3)]"
    },
    "vscode": {
      "interpreter": {
        "hash": "31f2aee4e71d21fbe5cf8b01ff0e069b9275f58929596ceb00d14d90e3e16cd6"
      }
    },
    "colab": {
      "provenance": [],
      "include_colab_link": true
    }
  },
  "nbformat": 4,
  "nbformat_minor": 0
}