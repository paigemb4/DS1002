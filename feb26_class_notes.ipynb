{
  "nbformat": 4,
  "nbformat_minor": 0,
  "metadata": {
    "colab": {
      "provenance": [],
      "authorship_tag": "ABX9TyOlhkLmEifvsc7Ql6a+TKBk",
      "include_colab_link": true
    },
    "kernelspec": {
      "name": "python3",
      "display_name": "Python 3"
    },
    "language_info": {
      "name": "python"
    }
  },
  "cells": [
    {
      "cell_type": "markdown",
      "metadata": {
        "id": "view-in-github",
        "colab_type": "text"
      },
      "source": [
        "<a href=\"https://colab.research.google.com/github/paigemb4/DS1002/blob/main/feb26_class_notes.ipynb\" target=\"_parent\"><img src=\"https://colab.research.google.com/assets/colab-badge.svg\" alt=\"Open In Colab\"/></a>"
      ]
    },
    {
      "cell_type": "code",
      "execution_count": null,
      "metadata": {
        "id": "2LslFCxrHqq3"
      },
      "outputs": [],
      "source": [
        "#hw notes\n",
        "#4- how many words start w a:\n",
        "#sort, find first word starting with 'b', and use its index\n",
        "#^aplpha_list.index('b')-> that finds the position that b is in the list\n",
        "#startwith function\n",
        "#below are different ways you can do the problem:\n",
        "# count = sum(1 for word in aplha_list if word startswith(\"a\"))\n",
        "\n",
        "# a_words = list()\n",
        "# for word in alpha_list:\n",
        "#   if word[0] = 'a':\n",
        "#     a_words.append(word)\n",
        "#   print(len(a_words))\n",
        "\n",
        "# count = 0\n",
        "# for word in aplha_list:\n",
        "#   if word.startswith(\"a\")\n",
        "#     count += 1\n",
        "\n",
        "#how to figure out how many words start with each letter:\n",
        "# - make new list\n",
        "# frequency #(make it an empty list)\n",
        "# alphabet = [ \"a\", \"b\", \"c\", ...] #do for all letters of the alphabet\n",
        "# for letter m in alphabet:\n",
        "#   count = sum( 1 for word in wordlist if word[0] == letter) #letter is dumby variable\n",
        "#   frequency.append(count)\n",
        "\n",
        "# numlist = [0,0,0,0,0,0,0,0,0,0,0,0,0,0,0,0,0,0,0,0,0,0,0,0,0,0]\n",
        "# for every word in wordlist:\n",
        "#   first_letter = word[0]\n",
        "#     for letter in alphabet\n",
        "#       numindex = index of letter in alphabet\n",
        "#       if first_letter = letter:\n",
        "#         numlist[numindex] +=1\n",
        "\n",
        "\n",
        "#7-\n",
        "#9: histogram:"
      ]
    },
    {
      "cell_type": "markdown",
      "source": [
        "python has a dictionary- like a list but with keys instead of indecies"
      ],
      "metadata": {
        "id": "Tj99SG3YVNXl"
      }
    },
    {
      "cell_type": "code",
      "source": [
        "dictionary = {\n",
        "    'a':1,\n",
        "    'b':2,\n",
        "    'c':3\n",
        "}\n"
      ],
      "metadata": {
        "id": "aRvmw8ArVM6q"
      },
      "execution_count": 5,
      "outputs": []
    }
  ]
}