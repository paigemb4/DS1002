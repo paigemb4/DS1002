{
  "nbformat": 4,
  "nbformat_minor": 0,
  "metadata": {
    "colab": {
      "provenance": [],
      "authorship_tag": "ABX9TyN4foPJHIFnv2mam7o7zwxI",
      "include_colab_link": true
    },
    "kernelspec": {
      "name": "python3",
      "display_name": "Python 3"
    },
    "language_info": {
      "name": "python"
    }
  },
  "cells": [
    {
      "cell_type": "markdown",
      "metadata": {
        "id": "view-in-github",
        "colab_type": "text"
      },
      "source": [
        "<a href=\"https://colab.research.google.com/github/paigemb4/DS1002/blob/main/feb7classnotebooknotes.ipynb\" target=\"_parent\"><img src=\"https://colab.research.google.com/assets/colab-badge.svg\" alt=\"Open In Colab\"/></a>"
      ]
    },
    {
      "cell_type": "code",
      "execution_count": 8,
      "metadata": {
        "colab": {
          "base_uri": "https://localhost:8080/"
        },
        "id": "4F8LBA9pVTMs",
        "outputId": "805ab3fa-b828-4a4c-e8e0-0d6bcf4332da"
      },
      "outputs": [
        {
          "output_type": "stream",
          "name": "stdout",
          "text": [
            "error\n"
          ]
        }
      ],
      "source": [
        "x= \"number\"\n",
        "try:\n",
        "  print('word'* x)\n",
        "except TypeError:\n",
        "  print(\"error\")"
      ]
    },
    {
      "cell_type": "markdown",
      "source": [
        "doesn't break code to give you an error"
      ],
      "metadata": {
        "id": "QE-qF5iSXcaW"
      }
    },
    {
      "cell_type": "markdown",
      "source": [
        "ratings question:"
      ],
      "metadata": {
        "id": "V59cbvzyXuMG"
      }
    },
    {
      "cell_type": "code",
      "source": [
        "print(\"What is your rating?\")\n",
        "n= input()\n",
        "print(\"Your rating is\", int(n) * \"*\")"
      ],
      "metadata": {
        "colab": {
          "base_uri": "https://localhost:8080/"
        },
        "id": "4SgWBrYUXidx",
        "outputId": "f99a64f5-877f-47cb-a51b-a02d0352998e"
      },
      "execution_count": 9,
      "outputs": [
        {
          "output_type": "stream",
          "name": "stdout",
          "text": [
            "What is your rating?\n",
            "5\n",
            "Your rating is *****\n"
          ]
        }
      ]
    },
    {
      "cell_type": "code",
      "source": [
        "print(\"What is your rating?\")\n",
        "n= input()\n",
        "if int(n)<=10 and int(n) >=1:\n",
        "  print(\"Your rating is\", int(n) * \"*\")\n",
        "else:\n",
        "    print(\"invalid input\")"
      ],
      "metadata": {
        "colab": {
          "base_uri": "https://localhost:8080/"
        },
        "id": "QeJDps7CYF0_",
        "outputId": "099c24ad-f287-43c8-aeec-ccbc7276c859"
      },
      "execution_count": 10,
      "outputs": [
        {
          "output_type": "stream",
          "name": "stdout",
          "text": [
            "What is your rating?\n",
            "5\n",
            "Your rating is *****\n"
          ]
        }
      ]
    },
    {
      "cell_type": "code",
      "source": [
        "print(\"What is your rating?\")\n",
        "n= input()\n",
        "try:\n",
        " if int(n)<=10 and int(n) >=1:\n",
        "  print(\"Your rating is\", int(n) * \"*\")\n",
        " else:\n",
        "    print(\"from 1 to 10 please\")\n",
        "except:\n",
        "   print(\"invalid input\")"
      ],
      "metadata": {
        "colab": {
          "base_uri": "https://localhost:8080/"
        },
        "id": "iPq1echaYgX-",
        "outputId": "b592e21a-1e86-40a6-a759-a9471a3e72c7"
      },
      "execution_count": 17,
      "outputs": [
        {
          "output_type": "stream",
          "name": "stdout",
          "text": [
            "What is your rating?\n",
            "3.5\n",
            "invalid input\n"
          ]
        }
      ]
    },
    {
      "cell_type": "markdown",
      "source": [
        "^type of loop: while loop"
      ],
      "metadata": {
        "id": "3VeSlNqGZzID"
      }
    },
    {
      "cell_type": "code",
      "source": [
        "success = False\n",
        "\n",
        "while success == False:\n",
        " print(\"What is your rating?\")\n",
        " n= input()\n",
        " try:\n",
        "  if int(n)<=10 and int(n) >=1:\n",
        "   print(\"Your rating is\", int(n) * \"*\")\n",
        "   success = True\n",
        "  #need to define when success is true or the loop will crash\n",
        "  else:\n",
        "   print(\"from 1 to 10 please\")\n",
        " except:\n",
        "  print(\"invalid input\")"
      ],
      "metadata": {
        "colab": {
          "base_uri": "https://localhost:8080/"
        },
        "id": "4REjBC8YaGij",
        "outputId": "a837bcca-ea77-4889-81ac-39d125b4b1d5"
      },
      "execution_count": 32,
      "outputs": [
        {
          "output_type": "stream",
          "name": "stdout",
          "text": [
            "What is your rating?\n",
            "3\n",
            "Your rating is ***\n"
          ]
        }
      ]
    }
  ]
}