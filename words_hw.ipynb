{
  "nbformat": 4,
  "nbformat_minor": 0,
  "metadata": {
    "colab": {
      "provenance": [],
      "authorship_tag": "ABX9TyNEuHe4YoOhjeH8bHcLgpZx",
      "include_colab_link": true
    },
    "kernelspec": {
      "name": "python3",
      "display_name": "Python 3"
    },
    "language_info": {
      "name": "python"
    }
  },
  "cells": [
    {
      "cell_type": "markdown",
      "metadata": {
        "id": "view-in-github",
        "colab_type": "text"
      },
      "source": [
        "<a href=\"https://colab.research.google.com/github/paigemb4/DS1002/blob/main/words_hw.ipynb\" target=\"_parent\"><img src=\"https://colab.research.google.com/assets/colab-badge.svg\" alt=\"Open In Colab\"/></a>"
      ]
    },
    {
      "cell_type": "markdown",
      "source": [
        "Paige Barron and Clarissa Russo"
      ],
      "metadata": {
        "id": "neoUhN_kBtzn"
      }
    },
    {
      "cell_type": "code",
      "execution_count": 4,
      "metadata": {
        "colab": {
          "base_uri": "https://localhost:8080/"
        },
        "id": "w6Jn_P7GmYCG",
        "outputId": "5185df14-128e-443f-9959-7ee4cd00d367"
      },
      "outputs": [
        {
          "output_type": "stream",
          "name": "stdout",
          "text": [
            "Collecting english_words\n",
            "  Downloading english-words-2.0.1.tar.gz (8.2 MB)\n",
            "\u001b[2K     \u001b[90m━━━━━━━━━━━━━━━━━━━━━━━━━━━━━━━━━━━━━━━━\u001b[0m \u001b[32m8.2/8.2 MB\u001b[0m \u001b[31m21.6 MB/s\u001b[0m eta \u001b[36m0:00:00\u001b[0m\n",
            "\u001b[?25h  Installing build dependencies ... \u001b[?25l\u001b[?25hdone\n",
            "  Getting requirements to build wheel ... \u001b[?25l\u001b[?25hdone\n",
            "  Preparing metadata (pyproject.toml) ... \u001b[?25l\u001b[?25hdone\n",
            "Building wheels for collected packages: english_words\n",
            "  Building wheel for english_words (pyproject.toml) ... \u001b[?25l\u001b[?25hdone\n",
            "  Created wheel for english_words: filename=english_words-2.0.1-py3-none-any.whl size=8196238 sha256=bef359ff7926d44486c2e228774651e7ea9238c16c31bbe756f6fd8f9047b560\n",
            "  Stored in directory: /root/.cache/pip/wheels/f0/e6/d9/16a123647999fe535f03a36e7af23eef203736d84c7ca25b0b\n",
            "Successfully built english_words\n",
            "Installing collected packages: english_words\n",
            "Successfully installed english_words-2.0.1\n"
          ]
        }
      ],
      "source": [
        "!pip install english_words\n",
        "from english_words import get_english_words_set\n",
        "words = get_english_words_set(['web2'], lower=True)"
      ]
    },
    {
      "cell_type": "markdown",
      "source": [
        "1."
      ],
      "metadata": {
        "id": "Z9fiKngcmmun"
      }
    },
    {
      "cell_type": "code",
      "source": [
        "print(type(words))\n",
        "wordlist = list(words)\n",
        "print(type(wordlist))\n",
        "print(len(wordlist))"
      ],
      "metadata": {
        "colab": {
          "base_uri": "https://localhost:8080/"
        },
        "id": "fkeBGg1BmnH8",
        "outputId": "d9c63038-d271-47da-8fda-708e1148cc63"
      },
      "execution_count": 5,
      "outputs": [
        {
          "output_type": "stream",
          "name": "stdout",
          "text": [
            "<class 'set'>\n",
            "<class 'list'>\n",
            "234450\n"
          ]
        }
      ]
    },
    {
      "cell_type": "markdown",
      "source": [
        "2."
      ],
      "metadata": {
        "id": "uXxlZsWindb5"
      }
    },
    {
      "cell_type": "code",
      "source": [
        "print(wordlist[:10])"
      ],
      "metadata": {
        "colab": {
          "base_uri": "https://localhost:8080/"
        },
        "id": "Wrn3TrvFnenn",
        "outputId": "7cce0fae-1921-4ecb-fe5c-364357d0cad0"
      },
      "execution_count": 6,
      "outputs": [
        {
          "output_type": "stream",
          "name": "stdout",
          "text": [
            "['reliquidation', 'interspecial', 'calyces', 'unconvincedness', 'blindfast', 'dodlet', 'invisibly', 'bene', 'percher', 'masterfully']\n"
          ]
        }
      ]
    },
    {
      "cell_type": "markdown",
      "source": [
        "We noticed that the words are super random and vary in length. They also don't really follow a theme/seem related to each other."
      ],
      "metadata": {
        "id": "i90E89yr53lV"
      }
    },
    {
      "cell_type": "markdown",
      "source": [
        "3."
      ],
      "metadata": {
        "id": "KYQmXLKo598_"
      }
    },
    {
      "cell_type": "code",
      "source": [
        "alpha_list = sorted(wordlist)\n",
        "print(alpha_list[:10])"
      ],
      "metadata": {
        "id": "Xj3NFBoI5-cL",
        "outputId": "1159bcfc-1be8-4a48-ed15-ea27f6425c6f",
        "colab": {
          "base_uri": "https://localhost:8080/"
        }
      },
      "execution_count": 7,
      "outputs": [
        {
          "output_type": "stream",
          "name": "stdout",
          "text": [
            "['a', 'aa', 'aal', 'aalii', 'aam', 'aani', 'aardvark', 'aardwolf', 'aaron', 'aaronic']\n"
          ]
        }
      ]
    },
    {
      "cell_type": "markdown",
      "source": [
        "4."
      ],
      "metadata": {
        "id": "mdF_FuOI6ZwV"
      }
    },
    {
      "cell_type": "code",
      "source": [
        "count = 0\n",
        "for word in wordlist:\n",
        "  if word.startswith('a'):\n",
        "    count += 1\n",
        "print(count)"
      ],
      "metadata": {
        "id": "KU6jdmTA6bHI",
        "outputId": "49c8f9b7-9c4a-4895-8050-bd12c3982ab9",
        "colab": {
          "base_uri": "https://localhost:8080/"
        }
      },
      "execution_count": 8,
      "outputs": [
        {
          "output_type": "stream",
          "name": "stdout",
          "text": [
            "16982\n"
          ]
        }
      ]
    },
    {
      "cell_type": "markdown",
      "source": [
        "5."
      ],
      "metadata": {
        "id": "VwJWkFnt7RLF"
      }
    },
    {
      "cell_type": "code",
      "source": [
        "#words with q\n",
        "count_q = 0\n",
        "for word in wordlist:\n",
        "  if 'q' in word:\n",
        "    count_q += 1\n",
        "print(count_q)\n",
        "\n",
        "#fraction of words without e\n",
        "count_not_e = 0\n",
        "for word in wordlist:\n",
        "  if 'e' not in word:\n",
        "    count_not_e +=1\n",
        "fraction_not_e = count_not_e / len(wordlist)\n",
        "print(fraction_not_e)"
      ],
      "metadata": {
        "id": "368rUjIe7QSk",
        "outputId": "0d92868a-20c8-49ea-a992-131c77e54419",
        "colab": {
          "base_uri": "https://localhost:8080/"
        }
      },
      "execution_count": 11,
      "outputs": [
        {
          "output_type": "stream",
          "name": "stdout",
          "text": [
            "3624\n",
            "0.32828321603753463\n"
          ]
        }
      ]
    },
    {
      "cell_type": "markdown",
      "source": [
        "6."
      ],
      "metadata": {
        "id": "NYd6ip148XEO"
      }
    },
    {
      "cell_type": "code",
      "source": [
        "import numpy as np\n",
        "\n",
        "wordlist_array = np.array([wordlist])\n",
        "alpha_list_array = np.array([alpha_list])\n",
        "count_q_array = np.array([count_q])\n",
        "count_not_e_array = np.array([count_not_e])\n",
        "fraction_not_e_array = np.array([fraction_not_e])\n",
        "\n",
        "alphabet = [chr(i) for i in range(ord('a'),ord('z')+1)]\n",
        "#this creates a list called alphabet that includes all of the lowercase letters in the alphabet"
      ],
      "metadata": {
        "id": "BUtSr4du8YqO"
      },
      "execution_count": 18,
      "outputs": []
    },
    {
      "cell_type": "markdown",
      "source": [
        "7."
      ],
      "metadata": {
        "id": "e9_TurRc9a98"
      }
    },
    {
      "cell_type": "code",
      "source": [
        "import matplotlib.pyplot as plt\n",
        "\n",
        "wordlist = list(words)\n",
        "start_count = {}\n",
        "for word in wordlist:\n",
        "    first_letter = word[0]\n",
        "    start_count[first_letter] = start_count.get(first_letter, 0) + 1\n",
        "\n",
        "letters = list(start_count.keys())\n",
        "counts = list(start_count.values())\n",
        "\n",
        "letters.sort()\n",
        "plt.bar(letters, counts)\n",
        "plt.xlabel('Starting Letter')\n",
        "plt.ylabel('Number of Words')\n",
        "plt.title('Number of Words Starting with Each Letter')\n",
        "plt.show()"
      ],
      "metadata": {
        "id": "m0eLh_v39lsA",
        "outputId": "9a90a4a0-e277-482a-9dc7-2a41bcfd3ee7",
        "colab": {
          "base_uri": "https://localhost:8080/",
          "height": 472
        }
      },
      "execution_count": 21,
      "outputs": [
        {
          "output_type": "display_data",
          "data": {
            "text/plain": [
              "<Figure size 640x480 with 1 Axes>"
            ],
            "image/png": "[encoded data removed]"
          },
          "metadata": {}
        }
      ]
    },
    {
      "cell_type": "markdown",
      "source": [
        "8."
      ],
      "metadata": {
        "id": "orzh8-ct-vNl"
      }
    },
    {
      "cell_type": "code",
      "source": [
        "wordlist_sorted = sorted(wordlist, key=len, reverse=True)\n",
        "six_longest_words = wordlist_sorted[:6]\n",
        "print(six_longest_words)"
      ],
      "metadata": {
        "id": "AdKomG3d-yrc",
        "outputId": "add7f0a4-0b31-4e36-a2c7-afb65e5fe198",
        "colab": {
          "base_uri": "https://localhost:8080/"
        }
      },
      "execution_count": 22,
      "outputs": [
        {
          "output_type": "stream",
          "name": "stdout",
          "text": [
            "['antidisestablishmentarianism', 'tetraiodophenolphthalein', 'pathologicopsychological', 'scientificophilosophical', 'formaldehydesulphoxylate', 'thyroparathyroidectomize']\n"
          ]
        }
      ]
    },
    {
      "cell_type": "markdown",
      "source": [
        "9."
      ],
      "metadata": {
        "id": "ml8nne1o_PTV"
      }
    },
    {
      "cell_type": "code",
      "source": [
        "#histogram\n",
        "word_lengths = {}\n",
        "for word in wordlist:\n",
        "    length = len(word)\n",
        "    word_lengths[length] = word_lengths.get(length, 0) + 1\n",
        "\n",
        "lengths = list(word_lengths.keys())\n",
        "counts = list(word_lengths.values())\n",
        "\n",
        "plt.bar(lengths, counts)\n",
        "plt.xlabel('Word Length')\n",
        "plt.ylabel('Number of Words')\n",
        "plt.title('Histogram of Word Lengths')\n",
        "plt.show()\n",
        "\n",
        "#most common length\n",
        "most_common_length = max(word_lengths, key=word_lengths.get)\n",
        "print(most_common_length)"
      ],
      "metadata": {
        "id": "wbtW1mu2_Q_R",
        "outputId": "d29aeca3-f205-483a-a6a0-b13c8afc762b",
        "colab": {
          "base_uri": "https://localhost:8080/",
          "height": 489
        }
      },
      "execution_count": 24,
      "outputs": [
        {
          "output_type": "display_data",
          "data": {
            "text/plain": [
              "<Figure size 640x480 with 1 Axes>"
            ],
            "image/png": "[encoded data removed]"
          },
          "metadata": {}
        },
        {
          "output_type": "stream",
          "name": "stdout",
          "text": [
            "9\n"
          ]
        }
      ]
    },
    {
      "cell_type": "markdown",
      "source": [
        "10. bonus, but now a regular problem"
      ],
      "metadata": {
        "id": "FIMzLPWcAPz4"
      }
    },
    {
      "cell_type": "code",
      "source": [
        "#words containing a \"v\" and an \"a\":\n",
        "count_va = 0\n",
        "for word in wordlist:\n",
        "    if 'v' in word and 'a' in word:\n",
        "        count_va += 1\n",
        "print(count_va)\n",
        "\n",
        "#words containing a \"w\" and a \"l\":\n",
        "count_wl = 0\n",
        "for word in wordlist:\n",
        "    if 'w' in word and 'l' in word:\n",
        "        count_wl += 1\n",
        "print(count_wl)\n",
        "\n",
        "#it took 0 seconds to run"
      ],
      "metadata": {
        "id": "5Lbzn3VdAQcQ",
        "outputId": "a977af1d-a269-4d7d-e90e-619ab7771071",
        "colab": {
          "base_uri": "https://localhost:8080/"
        }
      },
      "execution_count": 27,
      "outputs": [
        {
          "output_type": "stream",
          "name": "stdout",
          "text": [
            "11347\n",
            "4822\n"
          ]
        }
      ]
    },
    {
      "cell_type": "markdown",
      "source": [
        "BONUS:"
      ],
      "metadata": {
        "id": "B-bMP2RuCabZ"
      }
    },
    {
      "cell_type": "markdown",
      "source": [
        "1."
      ],
      "metadata": {
        "id": "_6ne5H3ACbR3"
      }
    },
    {
      "cell_type": "code",
      "source": [
        "#pair of letters that appear the most\n",
        "from collections import defaultdict\n",
        "\n",
        "pair_count = defaultdict(int)\n",
        "for word in wordlist:\n",
        "    pairs = set(zip(word, word[1:]))\n",
        "    for pair in pairs:\n",
        "        pair_count[pair] += 1\n",
        "most_common_pair = max(pair_count, key=pair_count.get)\n",
        "print(most_common_pair)\n",
        "\n",
        "#count of words with that pair\n",
        "count_most_common_pair = pair_count[most_common_pair]\n",
        "print(count_most_common_pair)"
      ],
      "metadata": {
        "id": "oPRR2EzdCcqn",
        "outputId": "2a575f06-c07c-4a6b-ba6a-40fcedd6c55a",
        "colab": {
          "base_uri": "https://localhost:8080/"
        }
      },
      "execution_count": 29,
      "outputs": [
        {
          "output_type": "stream",
          "name": "stdout",
          "text": [
            "('e', 'r')\n",
            "40403\n"
          ]
        }
      ]
    },
    {
      "cell_type": "markdown",
      "source": [
        "2."
      ],
      "metadata": {
        "id": "L-WnJccgCdD9"
      }
    },
    {
      "cell_type": "code",
      "source": [
        "pair_frequencies = np.zeros((26, 26), dtype=int)\n",
        "def letter_index(letter):\n",
        "    return ord(letter) - ord('a')\n",
        "for word in wordlist:\n",
        "    pairs = zip(word, word[1:])\n",
        "    for pair in pairs:\n",
        "        if pair[0].isalpha() and pair[1].isalpha():\n",
        "           pair_frequencies[letter_index(pair[0].lower())][letter_index(pair[1].lower())] += 1\n",
        "\n",
        "plt.imshow(pair_frequencies, cmap='hot', interpolation='nearest')\n",
        "plt.xticks(np.arange(26), [chr(i) for i in range(ord('a'), ord('z')+1)])\n",
        "plt.yticks(np.arange(26), [chr(i) for i in range(ord('a'), ord('z')+1)])\n",
        "plt.colorbar(label='Frequency')\n",
        "plt.title('Frequencies of Pairs of Letters in Words')\n",
        "plt.show()"
      ],
      "metadata": {
        "id": "sLuvnqmeCdo3",
        "outputId": "db942c7e-f4d6-43cc-e9de-17b7a1fce3e0",
        "colab": {
          "base_uri": "https://localhost:8080/",
          "height": 452
        }
      },
      "execution_count": 36,
      "outputs": [
        {
          "output_type": "display_data",
          "data": {
            "text/plain": [
              "<Figure size 640x480 with 2 Axes>"
            ],
            "image/png": "[encoded data removed]"
          },
          "metadata": {}
        }
      ]
    }
  ]
}