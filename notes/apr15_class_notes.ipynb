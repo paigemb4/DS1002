{
  "nbformat": 4,
  "nbformat_minor": 0,
  "metadata": {
    "colab": {
      "provenance": [],
      "authorship_tag": "ABX9TyPaBElZuZLVRAFbtadpMmDD",
      "include_colab_link": true
    },
    "kernelspec": {
      "name": "python3",
      "display_name": "Python 3"
    },
    "language_info": {
      "name": "python"
    }
  },
  "cells": [
    {
      "cell_type": "markdown",
      "metadata": {
        "id": "view-in-github",
        "colab_type": "text"
      },
      "source": [
        "<a href=\"https://colab.research.google.com/github/paigemb4/DS1002/blob/main/notes/apr15_class_notes.ipynb\" target=\"_parent\"><img src=\"https://colab.research.google.com/assets/colab-badge.svg\" alt=\"Open In Colab\"/></a>"
      ]
    },
    {
      "cell_type": "markdown",
      "source": [
        "errors vs exceptions"
      ],
      "metadata": {
        "id": "FmDWOxcwRUXi"
      }
    },
    {
      "cell_type": "markdown",
      "source": [
        "programs can either meet/not meet requirements or work/not work to be successful or failures"
      ],
      "metadata": {
        "id": "ZCG51TOyRy-K"
      }
    },
    {
      "cell_type": "markdown",
      "source": [
        "code cannot detect its own errors, have to test to find them"
      ],
      "metadata": {
        "id": "uO_-T_E7SfTZ"
      }
    },
    {
      "cell_type": "markdown",
      "source": [
        "exception- object in python, represents an error, could design your own, known/expected issue, shouldn't break the program"
      ],
      "metadata": {
        "id": "BmYunjXUUAYf"
      }
    },
    {
      "cell_type": "markdown",
      "source": [
        "error is problem in the application itself"
      ],
      "metadata": {
        "id": "7tWchnCmUiKS"
      }
    },
    {
      "cell_type": "code",
      "source": [
        "#built in exceptions\n",
        "#zero division error\n",
        "3/0"
      ],
      "metadata": {
        "colab": {
          "base_uri": "https://localhost:8080/",
          "height": 176
        },
        "id": "3kfAlERYSfDi",
        "outputId": "876b4ead-94ee-4439-8bc0-fb1011dc3a9f"
      },
      "execution_count": 1,
      "outputs": [
        {
          "output_type": "error",
          "ename": "ZeroDivisionError",
          "evalue": "division by zero",
          "traceback": [
            "\u001b[0;31m---------------------------------------------------------------------------\u001b[0m",
            "\u001b[0;31mZeroDivisionError\u001b[0m                         Traceback (most recent call last)",
            "\u001b[0;32m<ipython-input-1-9df6db6599ce>\u001b[0m in \u001b[0;36m<cell line: 3>\u001b[0;34m()\u001b[0m\n\u001b[1;32m      1\u001b[0m \u001b[0;31m#built in exceptions\u001b[0m\u001b[0;34m\u001b[0m\u001b[0;34m\u001b[0m\u001b[0m\n\u001b[1;32m      2\u001b[0m \u001b[0;31m#zerodivisionerror\u001b[0m\u001b[0;34m\u001b[0m\u001b[0;34m\u001b[0m\u001b[0m\n\u001b[0;32m----> 3\u001b[0;31m \u001b[0;36m3\u001b[0m\u001b[0;34m/\u001b[0m\u001b[0;36m0\u001b[0m\u001b[0;34m\u001b[0m\u001b[0;34m\u001b[0m\u001b[0m\n\u001b[0m",
            "\u001b[0;31mZeroDivisionError\u001b[0m: division by zero"
          ]
        }
      ]
    },
    {
      "cell_type": "code",
      "execution_count": 2,
      "metadata": {
        "colab": {
          "base_uri": "https://localhost:8080/",
          "height": 106
        },
        "id": "_xAyDAn0QBaa",
        "outputId": "56302870-4589-4a31-88c1-005f1d7c8560"
      },
      "outputs": [
        {
          "output_type": "error",
          "ename": "SyntaxError",
          "evalue": "expected ':' (<ipython-input-2-c61b3a03eb57>, line 2)",
          "traceback": [
            "\u001b[0;36m  File \u001b[0;32m\"<ipython-input-2-c61b3a03eb57>\"\u001b[0;36m, line \u001b[0;32m2\u001b[0m\n\u001b[0;31m    if x>0\u001b[0m\n\u001b[0m          ^\u001b[0m\n\u001b[0;31mSyntaxError\u001b[0m\u001b[0;31m:\u001b[0m expected ':'\n"
          ]
        }
      ],
      "source": [
        "#syntaxerror\n",
        "if x>0\n",
        "#needs a colon"
      ]
    },
    {
      "cell_type": "markdown",
      "source": [
        "try/except"
      ],
      "metadata": {
        "id": "PVEDWh4zVK4p"
      }
    },
    {
      "cell_type": "code",
      "source": [
        "print(a)"
      ],
      "metadata": {
        "colab": {
          "base_uri": "https://localhost:8080/",
          "height": 141
        },
        "id": "gNZDJmRBVIRo",
        "outputId": "17f7bea1-ce88-46f9-cbd2-373246958b97"
      },
      "execution_count": 3,
      "outputs": [
        {
          "output_type": "error",
          "ename": "NameError",
          "evalue": "name 'a' is not defined",
          "traceback": [
            "\u001b[0;31m---------------------------------------------------------------------------\u001b[0m",
            "\u001b[0;31mNameError\u001b[0m                                 Traceback (most recent call last)",
            "\u001b[0;32m<ipython-input-3-bca0e2660b9f>\u001b[0m in \u001b[0;36m<cell line: 1>\u001b[0;34m()\u001b[0m\n\u001b[0;32m----> 1\u001b[0;31m \u001b[0mprint\u001b[0m\u001b[0;34m(\u001b[0m\u001b[0ma\u001b[0m\u001b[0;34m)\u001b[0m\u001b[0;34m\u001b[0m\u001b[0;34m\u001b[0m\u001b[0m\n\u001b[0m",
            "\u001b[0;31mNameError\u001b[0m: name 'a' is not defined"
          ]
        }
      ]
    },
    {
      "cell_type": "code",
      "source": [
        "try:\n",
        "  print(a)\n",
        "except:\n",
        "  print('caught an exception')\n",
        "\n",
        "print(8+9)\n"
      ],
      "metadata": {
        "colab": {
          "base_uri": "https://localhost:8080/"
        },
        "id": "bol0fqp8U12n",
        "outputId": "cb02ebd1-929d-4bee-c9e8-c766f81941e8"
      },
      "execution_count": 4,
      "outputs": [
        {
          "output_type": "stream",
          "name": "stdout",
          "text": [
            "caught an exception\n",
            "17\n"
          ]
        }
      ]
    },
    {
      "cell_type": "markdown",
      "source": [
        "assert statements- way to catch an error, verifies if an expression is true, way to debug code"
      ],
      "metadata": {
        "id": "RpPQqLUPWIQ8"
      }
    },
    {
      "cell_type": "markdown",
      "source": [
        "if expression is true, nothing will happen. If expression is false, then it raises an assertion error."
      ],
      "metadata": {
        "id": "Ly4en_U6WP9J"
      }
    },
    {
      "cell_type": "code",
      "source": [
        "num_args = 3\n",
        "\n",
        "assert num_args == 3, 'number of arguments must be 3!'"
      ],
      "metadata": {
        "id": "e9gBdK3EWJXR"
      },
      "execution_count": 6,
      "outputs": []
    },
    {
      "cell_type": "code",
      "source": [
        "num_args = 4\n",
        "\n",
        "assert num_args == 3, 'number of arguments must be 3!'"
      ],
      "metadata": {
        "colab": {
          "base_uri": "https://localhost:8080/",
          "height": 176
        },
        "id": "i4WpRG2xW5vU",
        "outputId": "4124add0-aaf9-44b0-93f1-cb07c34636e3"
      },
      "execution_count": 7,
      "outputs": [
        {
          "output_type": "error",
          "ename": "AssertionError",
          "evalue": "number of arguments must be 3!",
          "traceback": [
            "\u001b[0;31m---------------------------------------------------------------------------\u001b[0m",
            "\u001b[0;31mAssertionError\u001b[0m                            Traceback (most recent call last)",
            "\u001b[0;32m<ipython-input-7-a11a442aa137>\u001b[0m in \u001b[0;36m<cell line: 3>\u001b[0;34m()\u001b[0m\n\u001b[1;32m      1\u001b[0m \u001b[0mnum_args\u001b[0m \u001b[0;34m=\u001b[0m \u001b[0;36m4\u001b[0m\u001b[0;34m\u001b[0m\u001b[0;34m\u001b[0m\u001b[0m\n\u001b[1;32m      2\u001b[0m \u001b[0;34m\u001b[0m\u001b[0m\n\u001b[0;32m----> 3\u001b[0;31m \u001b[0;32massert\u001b[0m \u001b[0mnum_args\u001b[0m \u001b[0;34m==\u001b[0m \u001b[0;36m3\u001b[0m\u001b[0;34m,\u001b[0m \u001b[0;34m'number of arguments must be 3!'\u001b[0m\u001b[0;34m\u001b[0m\u001b[0;34m\u001b[0m\u001b[0m\n\u001b[0m",
            "\u001b[0;31mAssertionError\u001b[0m: number of arguments must be 3!"
          ]
        }
      ]
    },
    {
      "cell_type": "code",
      "source": [
        "try:\n",
        "  assert num_args == 3\n",
        "except:\n",
        "  print(\"Got an error\")"
      ],
      "metadata": {
        "id": "xJ7w5HFcW-io"
      },
      "execution_count": 10,
      "outputs": []
    },
    {
      "cell_type": "code",
      "source": [
        "try:\n",
        "  assert num_args == 3, \"Number of arguments must be 3!\"\n",
        "except AssertionError as e:\n",
        "  type(print(e))"
      ],
      "metadata": {
        "id": "636hiMFVXNBs"
      },
      "execution_count": 14,
      "outputs": []
    },
    {
      "cell_type": "code",
      "source": [
        "num_args"
      ],
      "metadata": {
        "colab": {
          "base_uri": "https://localhost:8080/"
        },
        "id": "8S8YR-3FXXmZ",
        "outputId": "39ed7a19-032e-45d2-b770-662cddb54095"
      },
      "execution_count": 15,
      "outputs": [
        {
          "output_type": "execute_result",
          "data": {
            "text/plain": [
              "3"
            ]
          },
          "metadata": {},
          "execution_count": 15
        }
      ]
    },
    {
      "cell_type": "code",
      "source": [
        "try:\n",
        "  print(a)\n",
        "except Exception as e:\n",
        "  print(e) #giving exception a name and printing it out\n",
        "  print(type(e))\n",
        "\n",
        "print(8+9)"
      ],
      "metadata": {
        "colab": {
          "base_uri": "https://localhost:8080/"
        },
        "id": "rVRyNAo0XuGw",
        "outputId": "6f4d3d06-508d-4dac-dc60-a314eb77e1e7"
      },
      "execution_count": 17,
      "outputs": [
        {
          "output_type": "stream",
          "name": "stdout",
          "text": [
            "name 'a' is not defined\n",
            "<class 'NameError'>\n",
            "17\n"
          ]
        }
      ]
    },
    {
      "cell_type": "markdown",
      "source": [
        "raise"
      ],
      "metadata": {
        "id": "nE9I-uJHYIwJ"
      }
    },
    {
      "cell_type": "code",
      "source": [
        "try:\n",
        "  10/0\n",
        "except:\n",
        "  raise ZeroDivisionError(\"Hey, you can't divide by 0!\")"
      ],
      "metadata": {
        "colab": {
          "base_uri": "https://localhost:8080/",
          "height": 349
        },
        "id": "1xzYlDVsYJRL",
        "outputId": "ad59a5c4-acf4-41b5-9c4d-2254c9a64cdc"
      },
      "execution_count": 19,
      "outputs": [
        {
          "output_type": "error",
          "ename": "ZeroDivisionError",
          "evalue": "Hey, you can't divide by 0!",
          "traceback": [
            "\u001b[0;31m---------------------------------------------------------------------------\u001b[0m",
            "\u001b[0;31mZeroDivisionError\u001b[0m                         Traceback (most recent call last)",
            "\u001b[0;32m<ipython-input-19-e5f27b485c29>\u001b[0m in \u001b[0;36m<cell line: 1>\u001b[0;34m()\u001b[0m\n\u001b[1;32m      1\u001b[0m \u001b[0;32mtry\u001b[0m\u001b[0;34m:\u001b[0m\u001b[0;34m\u001b[0m\u001b[0;34m\u001b[0m\u001b[0m\n\u001b[0;32m----> 2\u001b[0;31m   \u001b[0;36m10\u001b[0m\u001b[0;34m/\u001b[0m\u001b[0;36m0\u001b[0m\u001b[0;34m\u001b[0m\u001b[0;34m\u001b[0m\u001b[0m\n\u001b[0m\u001b[1;32m      3\u001b[0m \u001b[0;32mexcept\u001b[0m\u001b[0;34m:\u001b[0m\u001b[0;34m\u001b[0m\u001b[0;34m\u001b[0m\u001b[0m\n",
            "\u001b[0;31mZeroDivisionError\u001b[0m: division by zero",
            "\nDuring handling of the above exception, another exception occurred:\n",
            "\u001b[0;31mZeroDivisionError\u001b[0m                         Traceback (most recent call last)",
            "\u001b[0;32m<ipython-input-19-e5f27b485c29>\u001b[0m in \u001b[0;36m<cell line: 1>\u001b[0;34m()\u001b[0m\n\u001b[1;32m      2\u001b[0m   \u001b[0;36m10\u001b[0m\u001b[0;34m/\u001b[0m\u001b[0;36m0\u001b[0m\u001b[0;34m\u001b[0m\u001b[0;34m\u001b[0m\u001b[0m\n\u001b[1;32m      3\u001b[0m \u001b[0;32mexcept\u001b[0m\u001b[0;34m:\u001b[0m\u001b[0;34m\u001b[0m\u001b[0;34m\u001b[0m\u001b[0m\n\u001b[0;32m----> 4\u001b[0;31m   \u001b[0;32mraise\u001b[0m \u001b[0mZeroDivisionError\u001b[0m\u001b[0;34m(\u001b[0m\u001b[0;34m\"Hey, you can't divide by 0!\"\u001b[0m\u001b[0;34m)\u001b[0m\u001b[0;34m\u001b[0m\u001b[0;34m\u001b[0m\u001b[0m\n\u001b[0m",
            "\u001b[0;31mZeroDivisionError\u001b[0m: Hey, you can't divide by 0!"
          ]
        }
      ]
    },
    {
      "cell_type": "markdown",
      "source": [
        "finally- allows you to run code even if theres an exception"
      ],
      "metadata": {
        "id": "BhNDGyw0YoLl"
      }
    },
    {
      "cell_type": "code",
      "source": [
        "mylist = [5,6,7]\n",
        "\n",
        "try:\n",
        "  print(\"The first element is \"+ str(mylist[0]))\n",
        "  print(\"The fourth element is \" + str(mylist[3]))\n",
        "except IndexError:\n",
        "  print(\"An indexing error has occured\")\n",
        "except ValueError:\n",
        "  print(\"An error in value has occured\")\n",
        "except TypeError:\n",
        "  print(\"A type error has occured\")\n",
        "else:\n",
        "  print(\"I have tried everything I can think of...\")"
      ],
      "metadata": {
        "colab": {
          "base_uri": "https://localhost:8080/"
        },
        "id": "DSb1OQMwYXCK",
        "outputId": "ef2665ba-3a43-4366-a9a2-1986cead367b"
      },
      "execution_count": 25,
      "outputs": [
        {
          "output_type": "stream",
          "name": "stdout",
          "text": [
            "The first element is 5\n",
            "An indexing error has occured\n"
          ]
        }
      ]
    },
    {
      "cell_type": "code",
      "source": [
        "mylist = [5,6,7]\n",
        "\n",
        "try:\n",
        "  print(\"The first element is\"+ mylist[0])\n",
        "  print(\"The fourth element is\" + mylist[3])\n",
        "except Exception as e:\n",
        "  print(f\"An error has occured: {e}\")"
      ],
      "metadata": {
        "colab": {
          "base_uri": "https://localhost:8080/"
        },
        "id": "8_uxU4AtYvdT",
        "outputId": "d32ae82e-047a-4858-a033-010c84f77761"
      },
      "execution_count": 26,
      "outputs": [
        {
          "output_type": "stream",
          "name": "stdout",
          "text": [
            "An error has occured: can only concatenate str (not \"int\") to str\n"
          ]
        }
      ]
    },
    {
      "cell_type": "code",
      "source": [
        "mylist = [5,6,7]\n",
        "\n",
        "try:\n",
        "  print(\"The first element is\"+ mylist[0])\n",
        "  print(\"The fourth element is\" + mylist[3])\n",
        "except Exception as e:\n",
        "  print(f\"An error has occured: {e}\")\n",
        "finally:\n",
        "    print(\"Moving on...\")\n",
        "\n",
        "print(8+9)"
      ],
      "metadata": {
        "colab": {
          "base_uri": "https://localhost:8080/"
        },
        "id": "hqy-fmNMaFOa",
        "outputId": "32295206-f20c-4e3f-aed2-053e3eb3469e"
      },
      "execution_count": 28,
      "outputs": [
        {
          "output_type": "stream",
          "name": "stdout",
          "text": [
            "An error has occured: can only concatenate str (not \"int\") to str\n",
            "Moving on...\n",
            "17\n"
          ]
        }
      ]
    },
    {
      "cell_type": "markdown",
      "source": [
        "practice"
      ],
      "metadata": {
        "id": "pehIOi1haXyb"
      }
    },
    {
      "cell_type": "markdown",
      "source": [
        "1. Write a try/except statement to handle an exception. Verify it works properly."
      ],
      "metadata": {
        "id": "CDWpWt3Oaicj"
      }
    },
    {
      "cell_type": "code",
      "source": [
        "try:\n",
        "  120/0\n",
        "except Exception as e:\n",
        "  print(\"an error has occured:\", e)"
      ],
      "metadata": {
        "colab": {
          "base_uri": "https://localhost:8080/"
        },
        "id": "_6khB4OsaYm5",
        "outputId": "731f80c8-d038-4ed3-8fc3-8a9906d7c009"
      },
      "execution_count": 33,
      "outputs": [
        {
          "output_type": "stream",
          "name": "stdout",
          "text": [
            "an error has occured: division by zero\n"
          ]
        }
      ]
    },
    {
      "cell_type": "code",
      "source": [
        "try:\n",
        "  a=1\n",
        "except:\n",
        "  print(\"An error has occured\")\n",
        "\n",
        "print(a)"
      ],
      "metadata": {
        "colab": {
          "base_uri": "https://localhost:8080/"
        },
        "id": "L-0jFThxa6wR",
        "outputId": "a55d30e6-5628-4398-b8ef-73f87942b909"
      },
      "execution_count": 36,
      "outputs": [
        {
          "output_type": "stream",
          "name": "stdout",
          "text": [
            "1\n"
          ]
        }
      ]
    },
    {
      "cell_type": "code",
      "source": [
        "pracitcelist = [9,8,7,6]\n",
        "try:\n",
        "  praticelist[0] = 8\n",
        "except:\n",
        "  print(\"An error has occured\")"
      ],
      "metadata": {
        "colab": {
          "base_uri": "https://localhost:8080/"
        },
        "id": "aQ4BYbMsbLfZ",
        "outputId": "a6382904-eb16-42cf-972a-e76742c20363"
      },
      "execution_count": 37,
      "outputs": [
        {
          "output_type": "stream",
          "name": "stdout",
          "text": [
            "An error has occured\n"
          ]
        }
      ]
    },
    {
      "cell_type": "markdown",
      "source": [
        "2. Write an expression and include an assert statement to test it.\n",
        "Run tests where the assert evaluates to True, False, showing the results in each condition."
      ],
      "metadata": {
        "id": "skB4BOPAakBZ"
      }
    },
    {
      "cell_type": "code",
      "source": [
        "practice_expression = 50\n",
        "try:\n",
        "  assert practice_expression == 500\n",
        "except:\n",
        "  print(\"An error has occured\")"
      ],
      "metadata": {
        "colab": {
          "base_uri": "https://localhost:8080/"
        },
        "id": "xPVdQ-oBammV",
        "outputId": "7ad4c2d4-3026-4e79-b57d-82b7084f8e21"
      },
      "execution_count": 40,
      "outputs": [
        {
          "output_type": "stream",
          "name": "stdout",
          "text": [
            "An error has occured\n"
          ]
        }
      ]
    },
    {
      "cell_type": "markdown",
      "source": [
        "flowchart: diagram of logic"
      ],
      "metadata": {
        "id": "Tnmxu0o7cHNN"
      }
    }
  ]
}