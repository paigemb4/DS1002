{
  "nbformat": 4,
  "nbformat_minor": 0,
  "metadata": {
    "colab": {
      "provenance": [],
      "authorship_tag": "ABX9TyNRigyEmAqmrr4h665HIOB4",
      "include_colab_link": true
    },
    "kernelspec": {
      "name": "python3",
      "display_name": "Python 3"
    },
    "language_info": {
      "name": "python"
    }
  },
  "cells": [
    {
      "cell_type": "markdown",
      "metadata": {
        "id": "view-in-github",
        "colab_type": "text"
      },
      "source": [
        "<a href=\"https://colab.research.google.com/github/paigemb4/DS1002/blob/main/notes/apr3_class_notes.ipynb\" target=\"_parent\"><img src=\"https://colab.research.google.com/assets/colab-badge.svg\" alt=\"Open In Colab\"/></a>"
      ]
    },
    {
      "cell_type": "markdown",
      "source": [
        "iterables is basic python- no packages needed"
      ],
      "metadata": {
        "id": "8UHWM_zVeIip"
      }
    },
    {
      "cell_type": "markdown",
      "source": [
        "Iterable objects or iterables can return elements one at a time\n",
        "\n",
        "An iterator is an object that iterates over iterable objects such as sets, lists, tuples, dictionaries, and strings\n",
        "\n",
        "Iteration can be implemented:\n",
        "\n",
        "with a for loop\n",
        "with the next() method"
      ],
      "metadata": {
        "id": "_MsYmOv5dl-u"
      }
    },
    {
      "cell_type": "code",
      "execution_count": 1,
      "metadata": {
        "colab": {
          "base_uri": "https://localhost:8080/"
        },
        "id": "rUfyYCwxcuOL",
        "outputId": "8e8caac9-3d9c-42b4-8d84-0472cf46a657"
      },
      "outputs": [
        {
          "output_type": "stream",
          "name": "stdout",
          "text": [
            "01 |\n",
            "02 ||||\n",
            "03 |||||||||\n",
            "04 ||||||||||||||||\n",
            "05 |||||||||||||||||||||||||\n",
            "06 ||||||||||||||||||||||||||||||||||||\n",
            "07 |||||||||||||||||||||||||||||||||||||||||||||||||\n",
            "08 ||||||||||||||||||||||||||||||||||||||||||||||||||||||||||||||||\n",
            "09 |||||||||||||||||||||||||||||||||||||||||||||||||||||||||||||||||||||||||||||||||\n",
            "10 ||||||||||||||||||||||||||||||||||||||||||||||||||||||||||||||||||||||||||||||||||||||||||||||||||||\n"
          ]
        }
      ],
      "source": [
        "for i in range(10) :\n",
        "    print(str(i+1).zfill(2), (i+1)**2 * '|')\n",
        "#zfill.() adds 0s to front of string until it reaches the desired length"
      ]
    },
    {
      "cell_type": "code",
      "source": [
        "name = 'Ted Lasso'\n",
        "age = 42\n",
        "\n",
        "f\"Hello, {name}. You are {age}.\"\n",
        "#can put expressions in braces and python will evaluate it, shorthand"
      ],
      "metadata": {
        "colab": {
          "base_uri": "https://localhost:8080/",
          "height": 35
        },
        "id": "aGdZdtNQfJqM",
        "outputId": "51a6d46a-a164-4b38-bde0-501365449b5c"
      },
      "execution_count": 2,
      "outputs": [
        {
          "output_type": "execute_result",
          "data": {
            "text/plain": [
              "'Hello, Ted Lasso. You are 42.'"
            ],
            "application/vnd.google.colaboratory.intrinsic+json": {
              "type": "string"
            }
          },
          "metadata": {},
          "execution_count": 2
        }
      ]
    },
    {
      "cell_type": "markdown",
      "source": [
        "enumerate.() returns index and key for each iteration"
      ],
      "metadata": {
        "id": "EkHHQ0MxfaaS"
      }
    },
    {
      "cell_type": "code",
      "source": [
        "ff_teams = {'NCSU' : 3, 'Iowa' : 1, 'South Carolina' : 1, 'Connecticut': 3}\n",
        "\n",
        "print(enumerate(ff_teams))\n",
        "#enumerate is an object- type of thing, contains a bunch of tuples\n",
        "print(type(enumerate(ff_teams)))\n",
        "\n",
        "for x in enumerate(ff_teams): print (type(x))\n",
        "list(enumerate(ff_teams))\n",
        "\n"
      ],
      "metadata": {
        "colab": {
          "base_uri": "https://localhost:8080/"
        },
        "id": "BS7a7vYwfXxH",
        "outputId": "e3f50169-cf92-4263-9fc4-bb7ece95837a"
      },
      "execution_count": 7,
      "outputs": [
        {
          "output_type": "stream",
          "name": "stdout",
          "text": [
            "<enumerate object at 0x7ec172f06e40>\n",
            "<class 'enumerate'>\n",
            "<class 'tuple'>\n",
            "<class 'tuple'>\n",
            "<class 'tuple'>\n",
            "<class 'tuple'>\n"
          ]
        },
        {
          "output_type": "execute_result",
          "data": {
            "text/plain": [
              "[(0, 'NCSU'), (1, 'Iowa'), (2, 'South Carolina'), (3, 'Connecticut')]"
            ]
          },
          "metadata": {},
          "execution_count": 7
        }
      ]
    },
    {
      "cell_type": "code",
      "source": [
        "for school in ff_teams:\n",
        "  print(f\"School:  {school} \\t Seed: {ff_teams[school]}\")\n",
        "\n",
        "print(50*'-')\n",
        "\n",
        "for i, school in enumerate(ff_teams) :\n",
        "   school_name = f\"{str(i).zfill(2)}_{school}: \\t Seed: {ff_teams[school]}\"\n",
        "   print(school_name)\n",
        "\n",
        "#u can make a for loop with multiple variables\n",
        "#/t means tab"
      ],
      "metadata": {
        "colab": {
          "base_uri": "https://localhost:8080/"
        },
        "id": "62Umb_8ufiak",
        "outputId": "58fc0e36-93af-4493-8b1e-74cbaba555ae"
      },
      "execution_count": 8,
      "outputs": [
        {
          "output_type": "stream",
          "name": "stdout",
          "text": [
            "School:  NCSU \t Seed: 3\n",
            "School:  Iowa \t Seed: 1\n",
            "School:  South Carolina \t Seed: 1\n",
            "School:  Connecticut \t Seed: 3\n",
            "--------------------------------------------------\n",
            "00_NCSU: \t Seed: 3\n",
            "01_Iowa: \t Seed: 1\n",
            "02_South Carolina: \t Seed: 1\n",
            "03_Connecticut: \t Seed: 3\n"
          ]
        }
      ]
    },
    {
      "cell_type": "markdown",
      "source": [
        "iterating using for"
      ],
      "metadata": {
        "id": "sFPIVbLggkAZ"
      }
    },
    {
      "cell_type": "code",
      "source": [
        "tokens = ['living room','was','quite','large']\n",
        "\n",
        "for tok in tokens:\n",
        "    print(tok)\n",
        "#prints out in order given"
      ],
      "metadata": {
        "colab": {
          "base_uri": "https://localhost:8080/"
        },
        "id": "vNd_4tdPgkQt",
        "outputId": "481843b4-7888-418e-9edb-1a6eafca8689"
      },
      "execution_count": 9,
      "outputs": [
        {
          "output_type": "stream",
          "name": "stdout",
          "text": [
            "living room\n",
            "was\n",
            "quite\n",
            "large\n"
          ]
        }
      ]
    },
    {
      "cell_type": "markdown",
      "source": [
        "iter.()"
      ],
      "metadata": {
        "id": "iSI1SwBChuX-"
      }
    },
    {
      "cell_type": "code",
      "source": [
        "tokens = ['living room','was','quite','large']\n",
        "\n",
        "myit = iter(tokens)\n",
        "print(next(myit))\n",
        "print(next(myit))\n",
        "print(next(myit))\n",
        "print(next(myit))"
      ],
      "metadata": {
        "colab": {
          "base_uri": "https://localhost:8080/"
        },
        "id": "rYysloYXhvED",
        "outputId": "d39c32d2-642d-432d-f9f8-79e675733cf6"
      },
      "execution_count": 10,
      "outputs": [
        {
          "output_type": "stream",
          "name": "stdout",
          "text": [
            "living room\n",
            "was\n",
            "quite\n",
            "large\n"
          ]
        }
      ]
    },
    {
      "cell_type": "code",
      "source": [
        "print(next(myit))\n",
        "#wont work because there is no next item"
      ],
      "metadata": {
        "colab": {
          "base_uri": "https://localhost:8080/",
          "height": 141
        },
        "id": "MT1aXHNNh49F",
        "outputId": "063ee574-b597-41b8-e213-616ca599ad8c"
      },
      "execution_count": 11,
      "outputs": [
        {
          "output_type": "error",
          "ename": "StopIteration",
          "evalue": "",
          "traceback": [
            "\u001b[0;31m---------------------------------------------------------------------------\u001b[0m",
            "\u001b[0;31mStopIteration\u001b[0m                             Traceback (most recent call last)",
            "\u001b[0;32m<ipython-input-11-cc22de441016>\u001b[0m in \u001b[0;36m<cell line: 1>\u001b[0;34m()\u001b[0m\n\u001b[0;32m----> 1\u001b[0;31m \u001b[0mprint\u001b[0m\u001b[0;34m(\u001b[0m\u001b[0mnext\u001b[0m\u001b[0;34m(\u001b[0m\u001b[0mmyit\u001b[0m\u001b[0;34m)\u001b[0m\u001b[0;34m)\u001b[0m\u001b[0;34m\u001b[0m\u001b[0;34m\u001b[0m\u001b[0m\n\u001b[0m",
            "\u001b[0;31mStopIteration\u001b[0m: "
          ]
        }
      ]
    },
    {
      "cell_type": "code",
      "source": [
        "type(myit)"
      ],
      "metadata": {
        "colab": {
          "base_uri": "https://localhost:8080/"
        },
        "id": "Ovo2e4hVh-rw",
        "outputId": "db8f498d-8169-40e9-ba65-3534cf79d57c"
      },
      "execution_count": 12,
      "outputs": [
        {
          "output_type": "execute_result",
          "data": {
            "text/plain": [
              "list_iterator"
            ]
          },
          "metadata": {},
          "execution_count": 12
        }
      ]
    },
    {
      "cell_type": "code",
      "source": [
        "help(myit)"
      ],
      "metadata": {
        "colab": {
          "base_uri": "https://localhost:8080/"
        },
        "id": "2kPkBy4riAt-",
        "outputId": "20377d53-11b7-4a53-cc96-245b9ffb5251"
      },
      "execution_count": 13,
      "outputs": [
        {
          "output_type": "stream",
          "name": "stdout",
          "text": [
            "Help on list_iterator object:\n",
            "\n",
            "class list_iterator(object)\n",
            " |  Methods defined here:\n",
            " |  \n",
            " |  __getattribute__(self, name, /)\n",
            " |      Return getattr(self, name).\n",
            " |  \n",
            " |  __iter__(self, /)\n",
            " |      Implement iter(self).\n",
            " |  \n",
            " |  __length_hint__(...)\n",
            " |      Private method returning an estimate of len(list(it)).\n",
            " |  \n",
            " |  __next__(self, /)\n",
            " |      Implement next(self).\n",
            " |  \n",
            " |  __reduce__(...)\n",
            " |      Return state information for pickling.\n",
            " |  \n",
            " |  __setstate__(...)\n",
            " |      Set state information for unpickling.\n",
            "\n"
          ]
        }
      ]
    },
    {
      "cell_type": "code",
      "source": [
        "help(next)"
      ],
      "metadata": {
        "colab": {
          "base_uri": "https://localhost:8080/"
        },
        "id": "FeaL3ie1iFh2",
        "outputId": "3b3a6f9b-c15c-4a00-fbd3-4f10ade1cf66"
      },
      "execution_count": 14,
      "outputs": [
        {
          "output_type": "stream",
          "name": "stdout",
          "text": [
            "Help on built-in function next in module builtins:\n",
            "\n",
            "next(...)\n",
            "    next(iterator[, default])\n",
            "    \n",
            "    Return the next item from the iterator. If default is given and the iterator\n",
            "    is exhausted, it is returned instead of raising StopIteration.\n",
            "\n"
          ]
        }
      ]
    },
    {
      "cell_type": "markdown",
      "source": [
        "**strings**"
      ],
      "metadata": {
        "id": "kVXr30ULiMvB"
      }
    },
    {
      "cell_type": "code",
      "source": [
        "strn = 'datum'\n",
        "\n",
        "for s in strn:\n",
        "    print(s)"
      ],
      "metadata": {
        "colab": {
          "base_uri": "https://localhost:8080/"
        },
        "id": "75M5sWifiN0S",
        "outputId": "67aa60ab-1143-41b8-a6a9-7e26607b3c87"
      },
      "execution_count": 15,
      "outputs": [
        {
          "output_type": "stream",
          "name": "stdout",
          "text": [
            "d\n",
            "a\n",
            "t\n",
            "u\n",
            "m\n"
          ]
        }
      ]
    },
    {
      "cell_type": "code",
      "source": [
        "st = iter(strn)\n",
        "\n",
        "print(next(st))\n",
        "print(next(st))\n",
        "print(next(st))\n",
        "print(next(st))"
      ],
      "metadata": {
        "colab": {
          "base_uri": "https://localhost:8080/"
        },
        "id": "LLLb3TEXif1z",
        "outputId": "7993ee86-f1b0-4df5-9dde-4f2c2aad2ccd"
      },
      "execution_count": 16,
      "outputs": [
        {
          "output_type": "stream",
          "name": "stdout",
          "text": [
            "d\n",
            "a\n",
            "t\n",
            "u\n"
          ]
        }
      ]
    },
    {
      "cell_type": "markdown",
      "source": [
        "**tuples** - defined with parenthesis around it, immutable"
      ],
      "metadata": {
        "id": "31LqPOCYigxz"
      }
    },
    {
      "cell_type": "code",
      "source": [
        "metrics = ('auc','recall','precision','support')\n",
        "\n",
        "for met in metrics:\n",
        "    print(met)"
      ],
      "metadata": {
        "colab": {
          "base_uri": "https://localhost:8080/"
        },
        "id": "KF8m5A-ciizW",
        "outputId": "53532dae-ab4d-4c28-f3ae-f29cc8fdbc66"
      },
      "execution_count": 17,
      "outputs": [
        {
          "output_type": "stream",
          "name": "stdout",
          "text": [
            "auc\n",
            "recall\n",
            "precision\n",
            "support\n"
          ]
        }
      ]
    },
    {
      "cell_type": "code",
      "source": [
        "metrics = ('auc','recall','precision','support')\n",
        "\n",
        "tup_metrics = iter(metrics)\n",
        "print(next(tup_metrics))\n",
        "print(next(tup_metrics))\n",
        "print(next(tup_metrics))\n",
        "print(next(tup_metrics))"
      ],
      "metadata": {
        "colab": {
          "base_uri": "https://localhost:8080/"
        },
        "id": "be2vC8Y_iy_N",
        "outputId": "badad7b8-6d07-42e3-c0b0-07c7c9a04d68"
      },
      "execution_count": 18,
      "outputs": [
        {
          "output_type": "stream",
          "name": "stdout",
          "text": [
            "auc\n",
            "recall\n",
            "precision\n",
            "support\n"
          ]
        }
      ]
    },
    {
      "cell_type": "code",
      "source": [
        "for met in metrics:\n",
        "    print(met)\n",
        "    if met == 'precision':\n",
        "      break\n",
        "    print(met)\n",
        "#break ends the for loop\n",
        "\n",
        "print(40*'-')\n",
        "\n",
        "for met in metrics:\n",
        "    print(met)\n",
        "    if met == 'precision':\n",
        "      continue\n",
        "    print(met)"
      ],
      "metadata": {
        "colab": {
          "base_uri": "https://localhost:8080/"
        },
        "id": "ZCei-02Si1M_",
        "outputId": "d51cd903-9322-411e-e43d-3485797f4355"
      },
      "execution_count": 19,
      "outputs": [
        {
          "output_type": "stream",
          "name": "stdout",
          "text": [
            "auc\n",
            "auc\n",
            "recall\n",
            "recall\n",
            "precision\n",
            "----------------------------------------\n",
            "auc\n",
            "auc\n",
            "recall\n",
            "recall\n",
            "precision\n",
            "support\n",
            "support\n"
          ]
        }
      ]
    },
    {
      "cell_type": "markdown",
      "source": [
        "**dictionaries**"
      ],
      "metadata": {
        "id": "XN3uvC7fi1pP"
      }
    },
    {
      "cell_type": "code",
      "source": [
        "courses = {'fall':['regression','python'], 'spring':['capstone','pyspark','nlp']}"
      ],
      "metadata": {
        "id": "fySrrW5ajkcr"
      },
      "execution_count": 20,
      "outputs": []
    },
    {
      "cell_type": "code",
      "source": [
        "for k in courses:\n",
        "    print(k)\n",
        "#iterate over keys"
      ],
      "metadata": {
        "colab": {
          "base_uri": "https://localhost:8080/"
        },
        "id": "iV6WS7aOjlPE",
        "outputId": "157e2d5f-82a8-4cf9-d091-4c01a0f445db"
      },
      "execution_count": 21,
      "outputs": [
        {
          "output_type": "stream",
          "name": "stdout",
          "text": [
            "fall\n",
            "spring\n"
          ]
        }
      ]
    },
    {
      "cell_type": "code",
      "source": [
        "for k in courses.keys():\n",
        "    print(k)\n",
        "#same thing but using keys.() method"
      ],
      "metadata": {
        "colab": {
          "base_uri": "https://localhost:8080/"
        },
        "id": "W2vaS_iUkK6Z",
        "outputId": "3473fa84-ec3d-429b-cace-532caab58be5"
      },
      "execution_count": 22,
      "outputs": [
        {
          "output_type": "stream",
          "name": "stdout",
          "text": [
            "fall\n",
            "spring\n"
          ]
        }
      ]
    },
    {
      "cell_type": "code",
      "source": [
        "for v in courses.values():\n",
        "    print(v)\n",
        "#iterate over values"
      ],
      "metadata": {
        "colab": {
          "base_uri": "https://localhost:8080/"
        },
        "id": "FKnEBfARkROa",
        "outputId": "0cc71af4-f780-4e9d-ed50-22d7d08a44db"
      },
      "execution_count": 23,
      "outputs": [
        {
          "output_type": "stream",
          "name": "stdout",
          "text": [
            "['regression', 'python']\n",
            "['capstone', 'pyspark', 'nlp']\n"
          ]
        }
      ]
    },
    {
      "cell_type": "code",
      "source": [
        "for k, v in courses.items():\n",
        "    print(\"key  :\", k)\n",
        "    print(\"value:\", v)\n",
        "    print(\"-\"*40)\n",
        "#keys and values using item.()"
      ],
      "metadata": {
        "colab": {
          "base_uri": "https://localhost:8080/"
        },
        "id": "vG6zXrh1kSoC",
        "outputId": "bad58215-5adb-4b07-8abe-a822a00a58fe"
      },
      "execution_count": 24,
      "outputs": [
        {
          "output_type": "stream",
          "name": "stdout",
          "text": [
            "key  : fall\n",
            "value: ['regression', 'python']\n",
            "----------------------------------------\n",
            "key  : spring\n",
            "value: ['capstone', 'pyspark', 'nlp']\n",
            "----------------------------------------\n"
          ]
        }
      ]
    },
    {
      "cell_type": "code",
      "source": [
        "for k in courses.keys():\n",
        "    print(\"key  :\", k)\n",
        "    print(\"value:\", courses[k]) # index into the dict with the key\n",
        "    print(\"-\"*40)\n",
        "# iterate over keys and values using keys()"
      ],
      "metadata": {
        "colab": {
          "base_uri": "https://localhost:8080/"
        },
        "id": "h12UUn9wkZLg",
        "outputId": "89d24b08-5473-4c10-9df0-8e64a1ec956f"
      },
      "execution_count": 25,
      "outputs": [
        {
          "output_type": "stream",
          "name": "stdout",
          "text": [
            "key  : fall\n",
            "value: ['regression', 'python']\n",
            "----------------------------------------\n",
            "key  : spring\n",
            "value: ['capstone', 'pyspark', 'nlp']\n",
            "----------------------------------------\n"
          ]
        }
      ]
    },
    {
      "cell_type": "code",
      "source": [
        "for k in courses.keys():\n",
        "    print(f\"{k}:\\t{', '.join(courses[k])}\") # index into the dict with the key"
      ],
      "metadata": {
        "colab": {
          "base_uri": "https://localhost:8080/"
        },
        "id": "cWkacEtckbEF",
        "outputId": "54d3e2ec-228f-4944-86ef-827bdbdada82"
      },
      "execution_count": 26,
      "outputs": [
        {
          "output_type": "stream",
          "name": "stdout",
          "text": [
            "fall:\tregression, python\n",
            "spring:\tcapstone, pyspark, nlp\n"
          ]
        }
      ]
    },
    {
      "cell_type": "code",
      "source": [
        "for k in enumerate(courses):\n",
        "    print(k)"
      ],
      "metadata": {
        "colab": {
          "base_uri": "https://localhost:8080/"
        },
        "id": "RaRPHA6fkrk9",
        "outputId": "7777354e-e5e9-4318-a981-b4a7b6aca5bc"
      },
      "execution_count": 27,
      "outputs": [
        {
          "output_type": "stream",
          "name": "stdout",
          "text": [
            "(0, 'fall')\n",
            "(1, 'spring')\n"
          ]
        }
      ]
    },
    {
      "cell_type": "markdown",
      "source": [
        "**sets**"
      ],
      "metadata": {
        "id": "dSB5oWsAksax"
      }
    },
    {
      "cell_type": "code",
      "source": [
        "princesses = {'belle','cinderella','rapunzel'}\n",
        "\n",
        "for princess in princesses:\n",
        "    print(princess)\n",
        "#dont know what order they will come out"
      ],
      "metadata": {
        "colab": {
          "base_uri": "https://localhost:8080/"
        },
        "id": "9A5EcdbHktLh",
        "outputId": "f9df8217-515a-4032-e2fd-53ab1e23d290"
      },
      "execution_count": 28,
      "outputs": [
        {
          "output_type": "stream",
          "name": "stdout",
          "text": [
            "rapunzel\n",
            "cinderella\n",
            "belle\n"
          ]
        }
      ]
    },
    {
      "cell_type": "code",
      "source": [
        "princesses = {'aaron','belle','cinderella','rapunzel'}\n",
        "\n",
        "myset = iter(princesses)\n",
        "print(next(myset))\n",
        "print(next(myset))\n",
        "print(next(myset))"
      ],
      "metadata": {
        "colab": {
          "base_uri": "https://localhost:8080/"
        },
        "id": "wTRt8Vhkkwti",
        "outputId": "74d0d842-d1a5-4bcc-f04b-ebcae5d992bb"
      },
      "execution_count": 29,
      "outputs": [
        {
          "output_type": "stream",
          "name": "stdout",
          "text": [
            "aaron\n",
            "rapunzel\n",
            "cinderella\n"
          ]
        }
      ]
    },
    {
      "cell_type": "code",
      "source": [
        "enumerate(princesses)\n",
        "list(enumerate(princesses))"
      ],
      "metadata": {
        "colab": {
          "base_uri": "https://localhost:8080/"
        },
        "id": "QlsEGGpXky2c",
        "outputId": "23d923d7-b644-4af5-b203-d524d23ed78b"
      },
      "execution_count": 30,
      "outputs": [
        {
          "output_type": "execute_result",
          "data": {
            "text/plain": [
              "[(0, 'aaron'), (1, 'rapunzel'), (2, 'cinderella'), (3, 'belle')]"
            ]
          },
          "metadata": {},
          "execution_count": 30
        }
      ]
    },
    {
      "cell_type": "markdown",
      "source": [
        "practice:"
      ],
      "metadata": {
        "id": "eelwgUX9nroQ"
      }
    },
    {
      "cell_type": "code",
      "source": [
        "names = ['John', 'Paul', 'George', 'Ringo']\n"
      ],
      "metadata": {
        "id": "WYht_Nv-n12j"
      },
      "execution_count": null,
      "outputs": []
    },
    {
      "cell_type": "markdown",
      "source": [
        "**nested loops**"
      ],
      "metadata": {
        "id": "VhMtrF3nnsyX"
      }
    },
    {
      "cell_type": "code",
      "source": [
        "courses"
      ],
      "metadata": {
        "colab": {
          "base_uri": "https://localhost:8080/"
        },
        "id": "Vlf9kFuvnxyP",
        "outputId": "5b92166c-c8e1-4391-f669-50b44b2d9da2"
      },
      "execution_count": 31,
      "outputs": [
        {
          "output_type": "execute_result",
          "data": {
            "text/plain": [
              "{'fall': ['regression', 'python'], 'spring': ['capstone', 'pyspark', 'nlp']}"
            ]
          },
          "metadata": {},
          "execution_count": 31
        }
      ]
    },
    {
      "cell_type": "code",
      "source": [
        "for i, semester in enumerate(courses):\n",
        "    print(f\"{i+1}. {semester.upper()}:\")\n",
        "    #.upper capitalizes everything\n",
        "    for j, course in enumerate(courses[semester]):\n",
        "        print(f\"\\t{i+1}.{j+1}. {course}\")"
      ],
      "metadata": {
        "colab": {
          "base_uri": "https://localhost:8080/"
        },
        "id": "cbGnKum8n0BV",
        "outputId": "26f231fa-625c-42ea-9e4e-5f3b8167b538"
      },
      "execution_count": 32,
      "outputs": [
        {
          "output_type": "stream",
          "name": "stdout",
          "text": [
            "1. FALL:\n",
            "\t1.1. regression\n",
            "\t1.2. python\n",
            "2. SPRING:\n",
            "\t2.1. capstone\n",
            "\t2.2. pyspark\n",
            "\t2.3. nlp\n"
          ]
        }
      ]
    },
    {
      "cell_type": "markdown",
      "source": [
        "x list comprehensions"
      ],
      "metadata": {
        "id": "fexlaUqsoTUh"
      }
    },
    {
      "cell_type": "code",
      "source": [
        "vals = [1, 5, 6, 8, 12, 15]\n",
        "is_odd = []\n",
        "\n",
        "for val in vals:\n",
        "    if val % 2: # if remainder is one, val is odd\n",
        "        is_odd.append(True)\n",
        "    else:       # else it's not odd\n",
        "        is_odd.append(False)\n",
        "\n",
        "is_odd"
      ],
      "metadata": {
        "colab": {
          "base_uri": "https://localhost:8080/"
        },
        "id": "ax9zPBvYoUsq",
        "outputId": "3cb7ba64-37c7-4df0-dee2-3a5637187162"
      },
      "execution_count": 33,
      "outputs": [
        {
          "output_type": "execute_result",
          "data": {
            "text/plain": [
              "[True, True, False, False, False, True]"
            ]
          },
          "metadata": {},
          "execution_count": 33
        }
      ]
    },
    {
      "cell_type": "code",
      "source": [
        "print(is_odd)\n",
        "del(is_odd)\n",
        "print(is_odd)"
      ],
      "metadata": {
        "colab": {
          "base_uri": "https://localhost:8080/",
          "height": 176
        },
        "id": "ThlIyXkkqEKh",
        "outputId": "567c1458-6dde-4951-e900-e38daa89da22"
      },
      "execution_count": 38,
      "outputs": [
        {
          "output_type": "error",
          "ename": "NameError",
          "evalue": "name 'is_odd' is not defined",
          "traceback": [
            "\u001b[0;31m---------------------------------------------------------------------------\u001b[0m",
            "\u001b[0;31mNameError\u001b[0m                                 Traceback (most recent call last)",
            "\u001b[0;32m<ipython-input-38-a42229fff247>\u001b[0m in \u001b[0;36m<cell line: 1>\u001b[0;34m()\u001b[0m\n\u001b[0;32m----> 1\u001b[0;31m \u001b[0mprint\u001b[0m\u001b[0;34m(\u001b[0m\u001b[0mis_odd\u001b[0m\u001b[0;34m)\u001b[0m\u001b[0;34m\u001b[0m\u001b[0;34m\u001b[0m\u001b[0m\n\u001b[0m\u001b[1;32m      2\u001b[0m \u001b[0;32mdel\u001b[0m\u001b[0;34m(\u001b[0m\u001b[0mis_odd\u001b[0m\u001b[0;34m)\u001b[0m\u001b[0;34m\u001b[0m\u001b[0;34m\u001b[0m\u001b[0m\n\u001b[1;32m      3\u001b[0m \u001b[0mprint\u001b[0m\u001b[0;34m(\u001b[0m\u001b[0mis_odd\u001b[0m\u001b[0;34m)\u001b[0m\u001b[0;34m\u001b[0m\u001b[0;34m\u001b[0m\u001b[0m\n",
            "\u001b[0;31mNameError\u001b[0m: name 'is_odd' is not defined"
          ]
        }
      ]
    },
    {
      "cell_type": "code",
      "source": [
        "is_odd = [val % 2 == 1 for val in vals]\n",
        "is_odd"
      ],
      "metadata": {
        "colab": {
          "base_uri": "https://localhost:8080/"
        },
        "id": "bNlUYtgnqGyv",
        "outputId": "c1b72ee5-8bfb-42fe-b7fc-68329c51d367"
      },
      "execution_count": 35,
      "outputs": [
        {
          "output_type": "execute_result",
          "data": {
            "text/plain": [
              "[True, True, False, False, False, True]"
            ]
          },
          "metadata": {},
          "execution_count": 35
        }
      ]
    },
    {
      "cell_type": "code",
      "source": [
        "stop_words = ['a','am','an','i','the','of']\n",
        "words      = ['i','am','not','a','fan','of','the','film']\n",
        "\n",
        "clean_words = [wd for wd in words if wd not in stop_words]\n",
        "clean_words"
      ],
      "metadata": {
        "colab": {
          "base_uri": "https://localhost:8080/"
        },
        "id": "SFBnYgItshvB",
        "outputId": "09ca5f44-17db-49f9-b266-ceedf225db5f"
      },
      "execution_count": 39,
      "outputs": [
        {
          "output_type": "execute_result",
          "data": {
            "text/plain": [
              "['not', 'fan', 'film']"
            ]
          },
          "metadata": {},
          "execution_count": 39
        }
      ]
    },
    {
      "cell_type": "code",
      "source": [
        "s1 = set(stop_words)\n",
        "s2 = set(words)\n",
        "s3 = s2 - s1\n",
        "\n",
        "s3"
      ],
      "metadata": {
        "colab": {
          "base_uri": "https://localhost:8080/"
        },
        "id": "_n4e-hRpsj_M",
        "outputId": "c4e9c285-cf0a-4d85-f96b-24db12412fe7"
      },
      "execution_count": 40,
      "outputs": [
        {
          "output_type": "execute_result",
          "data": {
            "text/plain": [
              "{'fan', 'film', 'not'}"
            ]
          },
          "metadata": {},
          "execution_count": 40
        }
      ]
    },
    {
      "cell_type": "markdown",
      "source": [],
      "metadata": {
        "id": "GyjWJZz4oX2z"
      }
    }
  ]
}