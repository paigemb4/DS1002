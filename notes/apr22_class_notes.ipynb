{
  "nbformat": 4,
  "nbformat_minor": 0,
  "metadata": {
    "colab": {
      "provenance": [],
      "authorship_tag": "ABX9TyMCQPTkowU0UHPVeu7b+nnD",
      "include_colab_link": true
    },
    "kernelspec": {
      "name": "python3",
      "display_name": "Python 3"
    },
    "language_info": {
      "name": "python"
    }
  },
  "cells": [
    {
      "cell_type": "markdown",
      "metadata": {
        "id": "view-in-github",
        "colab_type": "text"
      },
      "source": [
        "<a href=\"https://colab.research.google.com/github/paigemb4/DS1002/blob/main/notes/apr22_class_notes.ipynb\" target=\"_parent\"><img src=\"https://colab.research.google.com/assets/colab-badge.svg\" alt=\"Open In Colab\"/></a>"
      ]
    },
    {
      "cell_type": "markdown",
      "source": [
        "classes"
      ],
      "metadata": {
        "id": "zPK22r9TSuZ1"
      }
    },
    {
      "cell_type": "markdown",
      "source": [
        "classes are basically the same thing as types, classes you can define as your own\n"
      ],
      "metadata": {
        "id": "aOxp2HX8TC9I"
      }
    },
    {
      "cell_type": "code",
      "execution_count": 1,
      "metadata": {
        "colab": {
          "base_uri": "https://localhost:8080/"
        },
        "id": "JRBIrW2uSqy1",
        "outputId": "1509d3c8-37a6-4eb2-c26f-97b05fbaad06"
      },
      "outputs": [
        {
          "output_type": "stream",
          "name": "stdout",
          "text": [
            "17\n",
            "<class 'int'>\n",
            "<class 'type'>\n"
          ]
        }
      ],
      "source": [
        "x=17\n",
        "print(x)\n",
        "print(type(x))\n",
        "print(type(int))"
      ]
    },
    {
      "cell_type": "code",
      "source": [
        "class Pig:\n",
        "  y= 17\n",
        "\n",
        "#print(y) isn't defined\n",
        "print(Pig)\n",
        "print(type(Pig))\n"
      ],
      "metadata": {
        "colab": {
          "base_uri": "https://localhost:8080/"
        },
        "id": "Iy9k055oTxHH",
        "outputId": "d30dcaf8-3382-4be9-f615-89584751f46e"
      },
      "execution_count": 4,
      "outputs": [
        {
          "output_type": "stream",
          "name": "stdout",
          "text": [
            "<class '__main__.Pig'>\n",
            "<class 'type'>\n"
          ]
        }
      ]
    },
    {
      "cell_type": "code",
      "source": [
        "obj = Pig() #how to instantiate a class"
      ],
      "metadata": {
        "id": "qfhhfbg9Usdt"
      },
      "execution_count": 11,
      "outputs": []
    },
    {
      "cell_type": "code",
      "source": [
        "print(Pig)\n",
        "print(obj)\n",
        "print(obj.y)"
      ],
      "metadata": {
        "colab": {
          "base_uri": "https://localhost:8080/"
        },
        "id": "c-kYxkKkUtXo",
        "outputId": "ae863abb-2091-446e-a4a4-bf0e0f50272d"
      },
      "execution_count": 12,
      "outputs": [
        {
          "output_type": "stream",
          "name": "stdout",
          "text": [
            "<class '__main__.Pig'>\n",
            "<__main__.Pig object at 0x7f85521cfcd0>\n",
            "17\n"
          ]
        }
      ]
    },
    {
      "cell_type": "code",
      "source": [
        "Pig.__init__"
      ],
      "metadata": {
        "colab": {
          "base_uri": "https://localhost:8080/"
        },
        "id": "upAPzBAlVCFt",
        "outputId": "b9301a17-2417-4400-a329-085f2c3c50c5"
      },
      "execution_count": 13,
      "outputs": [
        {
          "output_type": "execute_result",
          "data": {
            "text/plain": [
              "<slot wrapper '__init__' of 'object' objects>"
            ]
          },
          "metadata": {},
          "execution_count": 13
        }
      ]
    },
    {
      "cell_type": "code",
      "source": [
        "Pig.__doc__"
      ],
      "metadata": {
        "id": "K81QqlKcVs_L"
      },
      "execution_count": 14,
      "outputs": []
    },
    {
      "cell_type": "markdown",
      "source": [
        "making class with __init__ function"
      ],
      "metadata": {
        "id": "k11RlavYV4Zo"
      }
    },
    {
      "cell_type": "code",
      "source": [
        "class Robot:\n",
        "    #pass\n",
        "    def __init__(self, name, color, weight):\n",
        "        self.name = name\n",
        "        self.color = color\n",
        "        self.weight = weight"
      ],
      "metadata": {
        "id": "emgX3J8hV7od"
      },
      "execution_count": 23,
      "outputs": []
    },
    {
      "cell_type": "code",
      "source": [
        "#r1 = Robot()\n",
        "#r1.name = \"Tom\"\n",
        "#r1.color = \"red\"\n",
        "#r1.weight = 30\n",
        "\n",
        "#r2 = Robot()\n",
        "#r2.name = \"Jerry\"\n",
        "#r2.color = \"blue\"\n",
        "#r2.weight = 40\n",
        "\n",
        "r1 = Robot(\"Tom\", \"red\", 30) #same thing as doing the above 4 lines with pass under class\n",
        "r2 = Robot(\"Jerry\", \"blue\", 40)\n",
        "\n",
        "print(r1)\n",
        "print(r1.name)\n",
        "print(r2.weight)"
      ],
      "metadata": {
        "colab": {
          "base_uri": "https://localhost:8080/"
        },
        "id": "eb-vftZ6WF6q",
        "outputId": "a5d12e0b-a7ac-401f-a31e-2068abc438c3"
      },
      "execution_count": 24,
      "outputs": [
        {
          "output_type": "stream",
          "name": "stdout",
          "text": [
            "<__main__.Robot object at 0x7f85521cd8a0>\n",
            "Tom\n",
            "40\n"
          ]
        }
      ]
    },
    {
      "cell_type": "code",
      "source": [
        "class Robot:\n",
        "    # pass\n",
        "    def __init__(self, name, color, weight):\n",
        "        self.name = name\n",
        "        self.color = color\n",
        "        self.weight = weight\n",
        "\n",
        "    def __str__(self): #how to respond to str query, lets the user access info they want\n",
        "      return f\"{self.name} ({self.color})\""
      ],
      "metadata": {
        "id": "ijfHEwVwYulj"
      },
      "execution_count": 27,
      "outputs": []
    },
    {
      "cell_type": "code",
      "source": [
        "r1 = Robot(\"Tom\", \"red\", 30)\n",
        "r2 = Robot(\"Jerry\", \"blue\", 40)\n",
        "\n",
        "#  The __str__ function can be called in various ways.\n",
        "print(r1) #what r1 is\n",
        "str(r1) #get same output as above if you don't define an str function\n",
        "print(str(r1))\n",
        "\n",
        "# type(str(r1))\n",
        "\n",
        "print(r1.__str__f\")"
      ],
      "metadata": {
        "colab": {
          "base_uri": "https://localhost:8080/",
          "height": 106
        },
        "id": "MRD_W-qqYxWs",
        "outputId": "9f334998-d065-407b-d94b-6ec82c7a2a91"
      },
      "execution_count": 30,
      "outputs": [
        {
          "output_type": "error",
          "ename": "SyntaxError",
          "evalue": "unterminated string literal (detected at line 11) (<ipython-input-30-cc1213e031d9>, line 11)",
          "traceback": [
            "\u001b[0;36m  File \u001b[0;32m\"<ipython-input-30-cc1213e031d9>\"\u001b[0;36m, line \u001b[0;32m11\u001b[0m\n\u001b[0;31m    print(r1.__str__f\")\u001b[0m\n\u001b[0m                     ^\u001b[0m\n\u001b[0;31mSyntaxError\u001b[0m\u001b[0;31m:\u001b[0m unterminated string literal (detected at line 11)\n"
          ]
        }
      ]
    },
    {
      "cell_type": "markdown",
      "source": [
        "practice:"
      ],
      "metadata": {
        "id": "ehZuOulAZ9NH"
      }
    },
    {
      "cell_type": "code",
      "source": [
        "class Patient:\n",
        "  def __init__(self, LN, FN, age, wt):\n",
        "   self.LastName = LN\n",
        "   self.FirstName = FN\n",
        "   self.age = age\n",
        "   self.weight = wt\n",
        "\n",
        "  def __str__(self):\n",
        "     return self.LastName + \",\" + str(self.age)\n"
      ],
      "metadata": {
        "id": "VF18UyNRZ94x"
      },
      "execution_count": 44,
      "outputs": []
    },
    {
      "cell_type": "code",
      "source": [
        "actor = Patient(\"Reeves\", \"Keanu\", 57, 180)\n",
        "print(actor.FirstName)\n",
        "actor.weight\n"
      ],
      "metadata": {
        "colab": {
          "base_uri": "https://localhost:8080/"
        },
        "id": "3BBIfplEa6E5",
        "outputId": "53fdc261-ff4c-48e2-a2de-77b672d57dcb"
      },
      "execution_count": 47,
      "outputs": [
        {
          "output_type": "stream",
          "name": "stdout",
          "text": [
            "Keanu\n"
          ]
        },
        {
          "output_type": "execute_result",
          "data": {
            "text/plain": [
              "180"
            ]
          },
          "metadata": {},
          "execution_count": 47
        }
      ]
    },
    {
      "cell_type": "code",
      "source": [
        "print(actor)"
      ],
      "metadata": {
        "colab": {
          "base_uri": "https://localhost:8080/"
        },
        "id": "U4reG4jCcYy-",
        "outputId": "dfb61eb2-5ece-400d-9775-8b0621065bd0"
      },
      "execution_count": 48,
      "outputs": [
        {
          "output_type": "stream",
          "name": "stdout",
          "text": [
            "Reeves,57\n"
          ]
        }
      ]
    },
    {
      "cell_type": "code",
      "source": [
        "str(actor)"
      ],
      "metadata": {
        "colab": {
          "base_uri": "https://localhost:8080/",
          "height": 35
        },
        "id": "rkms_21dcxPd",
        "outputId": "aac5b64c-0051-4804-8fe4-600e75cc90e5"
      },
      "execution_count": 49,
      "outputs": [
        {
          "output_type": "execute_result",
          "data": {
            "text/plain": [
              "'Reeves,57'"
            ],
            "application/vnd.google.colaboratory.intrinsic+json": {
              "type": "string"
            }
          },
          "metadata": {},
          "execution_count": 49
        }
      ]
    },
    {
      "cell_type": "markdown",
      "source": [
        "repr function"
      ],
      "metadata": {
        "id": "5dmQFnhkc2RL"
      }
    },
    {
      "cell_type": "code",
      "source": [
        "import datetime\n",
        "\n",
        "mydate = datetime.datetime.now()\n",
        "\n",
        "print(\"__str__() string: \", mydate.__str__())\n",
        "print(\"str() string: \", str(mydate))\n",
        "\n",
        "print('\\n')\n",
        "\n",
        "print(\"__repr__() string: \", mydate.__repr__())\n",
        "print(\"repr() string: \", repr(mydate))"
      ],
      "metadata": {
        "colab": {
          "base_uri": "https://localhost:8080/"
        },
        "id": "3tyAtOvlc292",
        "outputId": "a1e2dbb7-b1b2-4caa-a487-6214d7c090d3"
      },
      "execution_count": 50,
      "outputs": [
        {
          "output_type": "stream",
          "name": "stdout",
          "text": [
            "__str__() string:  2024-04-22 20:16:06.870482\n",
            "str() string:  2024-04-22 20:16:06.870482\n",
            "\n",
            "\n",
            "__repr__() string:  datetime.datetime(2024, 4, 22, 20, 16, 6, 870482)\n",
            "repr() string:  datetime.datetime(2024, 4, 22, 20, 16, 6, 870482)\n"
          ]
        }
      ]
    },
    {
      "cell_type": "code",
      "source": [
        "whenwasit = repr(mydate)\n",
        "\n",
        "print(whenwasit)\n",
        "print(type(whenwasit))\n",
        "print(str(whenwasit))\n",
        "\n",
        "print('-'*40)\n",
        "\n",
        "whenagain = eval(repr(mydate)) #changed it from string to a value\n",
        "\n",
        "print(whenagain)\n",
        "print(type(whenagain))\n",
        "print(str(whenagain))"
      ],
      "metadata": {
        "colab": {
          "base_uri": "https://localhost:8080/"
        },
        "id": "ie5y0FKDc4VG",
        "outputId": "85a3e03e-652a-460c-81a0-d3bbbafebb51"
      },
      "execution_count": 53,
      "outputs": [
        {
          "output_type": "stream",
          "name": "stdout",
          "text": [
            "datetime.datetime(2024, 4, 22, 20, 16, 6, 870482)\n",
            "<class 'str'>\n",
            "datetime.datetime(2024, 4, 22, 20, 16, 6, 870482)\n",
            "----------------------------------------\n",
            "2024-04-22 20:16:06.870482\n",
            "<class 'datetime.datetime'>\n",
            "2024-04-22 20:16:06.870482\n"
          ]
        }
      ]
    },
    {
      "cell_type": "markdown",
      "source": [
        "ex w our own class"
      ],
      "metadata": {
        "id": "SxPGPd4QeiEv"
      }
    },
    {
      "cell_type": "code",
      "source": [
        "class Robot:\n",
        "    # pass\n",
        "    def __init__(self, name, color, weight):\n",
        "        self.name = name\n",
        "        self.color = color\n",
        "        self.weight = weight\n",
        "\n",
        "    def __str__(self):\n",
        "      return f\"{self.name} is a {self.color} robot\"\n",
        "\n",
        "    def __repr__(self):\n",
        "     return f'Robot(\"{self.name}\", {self.color}, {self.weight})'\n",
        "\n",
        "r1 = Robot(\"Tom\", \"red\", 30)\n",
        "\n",
        "print(str(r1))\n",
        "print(repr(r1))"
      ],
      "metadata": {
        "colab": {
          "base_uri": "https://localhost:8080/"
        },
        "id": "uCDIhD0jejKj",
        "outputId": "ba23baad-c714-49ed-c7e7-3a9e04f52f56"
      },
      "execution_count": 56,
      "outputs": [
        {
          "output_type": "stream",
          "name": "stdout",
          "text": [
            "Tom is a red robot\n",
            "Robot(\"Tom\", red, 30)\n"
          ]
        }
      ]
    },
    {
      "cell_type": "markdown",
      "source": [
        "practice"
      ],
      "metadata": {
        "id": "Cetht_ohe8Zz"
      }
    },
    {
      "cell_type": "code",
      "source": [
        "class Patient:\n",
        "  def __init__(self, LN, FN, age, wt):\n",
        "   self.LastName = LN\n",
        "   self.FirstName = FN\n",
        "   self.age = age\n",
        "   self.weight = wt\n",
        "\n",
        "  def __str__(self):\n",
        "     return self.LastName + \",\" + str(self.age)\n",
        "\n",
        "  def __repr__(self):\n",
        "    return f'Patient(\"{}\",{},{})'\n",
        "\n",
        "actor= Patient(\"Reeves\", \"Keanu\", 57, 180)\n",
        "\n",
        "print(str(actor))"
      ],
      "metadata": {
        "id": "pHpmoC1oe83j"
      },
      "execution_count": null,
      "outputs": []
    },
    {
      "cell_type": "markdown",
      "source": [
        "object method"
      ],
      "metadata": {
        "id": "BzCNzaOdgTQK"
      }
    },
    {
      "cell_type": "code",
      "source": [
        "class Robot:\n",
        "    # pass\n",
        "    def __init__(self, name, color, weight):\n",
        "        self.name = name\n",
        "        self.color = color\n",
        "        self.weight = weight\n",
        "\n",
        "    def __str__(self):\n",
        "      return f\"{self.name} ({self.color})\"\n",
        "\n",
        "    def introduce(self):\n",
        "        print(\"My name is \" + self.name) #can define functions within your class"
      ],
      "metadata": {
        "id": "iUr8cLe3f8Yv"
      },
      "execution_count": 57,
      "outputs": []
    },
    {
      "cell_type": "code",
      "source": [
        "r1 = Robot(\"Tom\", \"red\", 30)\n",
        "r2 = Robot(\"Jerry\", \"blue\", 40)"
      ],
      "metadata": {
        "id": "Gz4IYvDigWJt"
      },
      "execution_count": 58,
      "outputs": []
    },
    {
      "cell_type": "code",
      "source": [
        "r1.introduce()\n",
        "r2.introduce()"
      ],
      "metadata": {
        "colab": {
          "base_uri": "https://localhost:8080/"
        },
        "id": "tfl9-50RgXmZ",
        "outputId": "119ba8b6-36f1-4a5e-9dca-0227c977a7a3"
      },
      "execution_count": 59,
      "outputs": [
        {
          "output_type": "stream",
          "name": "stdout",
          "text": [
            "My name is Tom\n",
            "My name is Jerry\n"
          ]
        }
      ]
    },
    {
      "cell_type": "markdown",
      "source": [
        "modifying objects"
      ],
      "metadata": {
        "id": "XSDY3AnpgbtF"
      }
    },
    {
      "cell_type": "code",
      "source": [
        "print(r1)\n",
        "r1.color = \"yellow\" #can just redefine variables to change attributes\n",
        "print(r1)"
      ],
      "metadata": {
        "colab": {
          "base_uri": "https://localhost:8080/"
        },
        "id": "SgKu0jsqgcts",
        "outputId": "ed742dbc-f70d-42e2-b370-8abe6eb6c690"
      },
      "execution_count": 60,
      "outputs": [
        {
          "output_type": "stream",
          "name": "stdout",
          "text": [
            "Tom (red)\n",
            "Tom (yellow)\n"
          ]
        }
      ]
    },
    {
      "cell_type": "code",
      "source": [
        "class Robot:\n",
        "    # pass\n",
        "    def __init__(self, name, color, weight):\n",
        "        self.name = name\n",
        "        self.color = color\n",
        "        self.weight = weight\n",
        "\n",
        "    def __str__(self):\n",
        "      return f\"{self.name} ({self.color})\"\n",
        "\n",
        "    def introduce(self):\n",
        "        print(\"My name is \" + self.name)\n",
        "\n",
        "    def add_weight(self,amount=1):\n",
        "        self.weight += amount\n",
        "\n",
        "r1 = Robot(\"Tom\", \"red\", 30)"
      ],
      "metadata": {
        "id": "gXsfxTvkgwGx"
      },
      "execution_count": 65,
      "outputs": []
    },
    {
      "cell_type": "code",
      "source": [
        "print(r1.weight)\n",
        "r1.add_weight(10)\n",
        "print(r1.weight)"
      ],
      "metadata": {
        "colab": {
          "base_uri": "https://localhost:8080/"
        },
        "id": "fixMPfIdgysl",
        "outputId": "5d4bf852-19e4-4b52-a1e1-6e4ed2780d02"
      },
      "execution_count": 66,
      "outputs": [
        {
          "output_type": "stream",
          "name": "stdout",
          "text": [
            "30\n",
            "40\n"
          ]
        }
      ]
    }
  ]
}