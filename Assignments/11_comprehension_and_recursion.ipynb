{
  "nbformat": 4,
  "nbformat_minor": 0,
  "metadata": {
    "colab": {
      "provenance": [],
      "include_colab_link": true
    },
    "kernelspec": {
      "name": "python3",
      "display_name": "Python 3"
    },
    "language_info": {
      "name": "python"
    }
  },
  "cells": [
    {
      "cell_type": "markdown",
      "metadata": {
        "id": "view-in-github",
        "colab_type": "text"
      },
      "source": [
        "<a href=\"https://colab.research.google.com/github/paigemb4/DS1002/blob/main/Assignments/11_comprehension_and_recursion.ipynb\" target=\"_parent\"><img src=\"https://colab.research.google.com/assets/colab-badge.svg\" alt=\"Open In Colab\"/></a>"
      ]
    },
    {
      "cell_type": "markdown",
      "source": [
        "## Assignment 11\n",
        "Due Monday 15 April at noon"
      ],
      "metadata": {
        "id": "y6mGkyWrqph3"
      }
    },
    {
      "cell_type": "markdown",
      "source": [
        "### List comprehension\n",
        "\n",
        "Many of you resisted my recommendation to use list comprehensions in the previous assignment, and so my hand is forced.  You made me require it.\n",
        "\n",
        "\n",
        "Problem 1.  For each function you write below, you may assume the list being sent to the function will contain the appropriate data type.\n",
        "\n",
        "Use list comprehensions to create a function that will take a list `l` and return . . ."
      ],
      "metadata": {
        "id": "eBJulsWBngse"
      }
    },
    {
      "cell_type": "markdown",
      "source": [
        "(a) . . . a list containing the absolute value of each element of `l`"
      ],
      "metadata": {
        "id": "1h4hKDEqo5T_"
      }
    },
    {
      "cell_type": "code",
      "source": [
        "def absolute_value(n):\n",
        "  return [abs(x) for x in n]"
      ],
      "metadata": {
        "id": "LNltsHhtngLS"
      },
      "execution_count": 7,
      "outputs": []
    },
    {
      "cell_type": "code",
      "source": [
        "#test\n",
        "list1 = [4,-9, -8, 2, -1]\n",
        "print(absolute_value(list1))"
      ],
      "metadata": {
        "id": "jN_3BID4K2c0",
        "outputId": "6a153cfa-651a-4ee7-8ab4-cc152e548d4e",
        "colab": {
          "base_uri": "https://localhost:8080/"
        }
      },
      "execution_count": 11,
      "outputs": [
        {
          "output_type": "stream",
          "name": "stdout",
          "text": [
            "[4, 9, 8, 2, 1]\n"
          ]
        }
      ]
    },
    {
      "cell_type": "markdown",
      "source": [
        "(b) . . . a list containing `True` for each even number in `l` and `False` for each odd number in `l`"
      ],
      "metadata": {
        "id": "mqIbzaTvpLCV"
      }
    },
    {
      "cell_type": "code",
      "source": [
        "def evens_odds(n):\n",
        "    return [True if x % 2 == 0 else False for x in n]"
      ],
      "metadata": {
        "id": "0OTpQFX9pK0t"
      },
      "execution_count": 15,
      "outputs": []
    },
    {
      "cell_type": "code",
      "source": [
        "#test\n",
        "list2 = [1,2,5,6,9,7]\n",
        "print(evens_odds(list2))"
      ],
      "metadata": {
        "id": "xWF38dLoLR_P",
        "outputId": "535d28ca-9043-43aa-9047-4fc09517d352",
        "colab": {
          "base_uri": "https://localhost:8080/"
        }
      },
      "execution_count": 16,
      "outputs": [
        {
          "output_type": "stream",
          "name": "stdout",
          "text": [
            "[False, True, False, True, False, False]\n"
          ]
        }
      ]
    },
    {
      "cell_type": "markdown",
      "source": [
        "(c) . . . a list containing only the numbers in `l` that are divisible by 3"
      ],
      "metadata": {
        "id": "9yqVg2hApUY9"
      }
    },
    {
      "cell_type": "code",
      "source": [
        "def divisible_by_3(n):\n",
        "    return [x for x in n if x % 3 == 0]"
      ],
      "metadata": {
        "id": "2mP_1aYZpUF4"
      },
      "execution_count": 17,
      "outputs": []
    },
    {
      "cell_type": "code",
      "source": [
        "#test\n",
        "list3= [1,3,4,6,8,9,15]\n",
        "print(divisible_by_3(list3))"
      ],
      "metadata": {
        "id": "KnbP-P-uLzsY",
        "outputId": "50edee08-e250-47f9-db73-805d5faa47b8",
        "colab": {
          "base_uri": "https://localhost:8080/"
        }
      },
      "execution_count": 18,
      "outputs": [
        {
          "output_type": "stream",
          "name": "stdout",
          "text": [
            "[3, 6, 9, 15]\n"
          ]
        }
      ]
    },
    {
      "cell_type": "markdown",
      "source": [
        "(d) . . . a list containing only the words in `l` whose first and last letters are the same"
      ],
      "metadata": {
        "id": "2yClgYZupef1"
      }
    },
    {
      "cell_type": "code",
      "source": [
        "def same_letters(l):\n",
        "    return [word for word in l if len(word) > 1 and word[0] == word[-1]]"
      ],
      "metadata": {
        "id": "-l7XnemMpeCi"
      },
      "execution_count": 19,
      "outputs": []
    },
    {
      "cell_type": "code",
      "source": [
        "#test\n",
        "list4 = [\"strawberry\", \"nun\", \"car\", \"pup\", \"rear\"]\n",
        "print(same_letters(list4))"
      ],
      "metadata": {
        "id": "L4mB77CmMDbP",
        "outputId": "dbb5f0c7-dbe7-4c75-fe59-7f0e49cb35e0",
        "colab": {
          "base_uri": "https://localhost:8080/"
        }
      },
      "execution_count": 20,
      "outputs": [
        {
          "output_type": "stream",
          "name": "stdout",
          "text": [
            "['nun', 'pup', 'rear']\n"
          ]
        }
      ]
    },
    {
      "cell_type": "markdown",
      "source": [
        "(e) . . . a list containing the first letter of each word in `l` that ends with a vowel"
      ],
      "metadata": {
        "id": "1mqMysFKppZS"
      }
    },
    {
      "cell_type": "code",
      "source": [
        "def first_letter_ends_with_vowel(l):\n",
        "    vowels = \"aeiouAEIOU\"\n",
        "    return [word[0] for word in l if word[-1] in vowels]"
      ],
      "metadata": {
        "id": "1Gi3andbppDc"
      },
      "execution_count": 21,
      "outputs": []
    },
    {
      "cell_type": "code",
      "source": [
        "list5= [\"nugget\", \"larva\", \"mice\", \"clock\"]\n",
        "print(first_letter_ends_with_vowel(list5))"
      ],
      "metadata": {
        "id": "1jhOlbd-MbtC",
        "outputId": "4dccc1fe-f941-4237-a15e-45b7fd30cc0e",
        "colab": {
          "base_uri": "https://localhost:8080/"
        }
      },
      "execution_count": 22,
      "outputs": [
        {
          "output_type": "stream",
          "name": "stdout",
          "text": [
            "['l', 'm']\n"
          ]
        }
      ]
    },
    {
      "cell_type": "markdown",
      "source": [
        "### Multiplication as a recursive process\n",
        "Problem 2.  Write a recursive function that computes the product of two positive integers `a` and `b` by adding `a` to itself `b` times.\n",
        "\n",
        "Hints:  \n",
        "1. if `b=1` then the product is `a`.\n",
        "2. if `b>1` then the product is what you get by adding `a` to `a * (b-1)`.\n",
        "\n",
        "Note:  the purpose of this exercise is to practice writing recursive functions.  Of course you can trivially ask for `a*b` and get the correct answer but that is worth no points.  Your function should not use any multiplications.\n"
      ],
      "metadata": {
        "id": "iV4ysawxjsiE"
      }
    },
    {
      "cell_type": "code",
      "execution_count": 30,
      "metadata": {
        "id": "wc9Y1d7ejrvH"
      },
      "outputs": [],
      "source": [
        "def multiplication_recursive(a, b):\n",
        "    if b == 1:\n",
        "        return a\n",
        "    else:\n",
        "        return a + multiplication_recursive(a, b - 1)"
      ]
    },
    {
      "cell_type": "code",
      "source": [
        "#test\n",
        "a= 4\n",
        "b= 5\n",
        "print(multiplication_recursive(a,b))"
      ],
      "metadata": {
        "id": "ZdP0Wq9FNF8H",
        "outputId": "fe6e2d97-bfdf-466e-82b1-e1f66c3a9199",
        "colab": {
          "base_uri": "https://localhost:8080/"
        }
      },
      "execution_count": 31,
      "outputs": [
        {
          "output_type": "stream",
          "name": "stdout",
          "text": [
            "20\n"
          ]
        }
      ]
    },
    {
      "cell_type": "code",
      "source": [
        "#test 2\n",
        "c= 9\n",
        "d= 1\n",
        "print(multiplication_recursive(c,d))"
      ],
      "metadata": {
        "id": "NaSpFDK1Ncq-",
        "outputId": "80f150ce-f124-4536-a205-8589ed21c97b",
        "colab": {
          "base_uri": "https://localhost:8080/"
        }
      },
      "execution_count": 32,
      "outputs": [
        {
          "output_type": "stream",
          "name": "stdout",
          "text": [
            "9\n"
          ]
        }
      ]
    },
    {
      "cell_type": "markdown",
      "source": [
        "### Division as a recursive process\n",
        "\n",
        "Problem 3:  Write a recursive function that takes two positive integers `a` and `b` and returns the quotient `q` and remainder `r` obtained when `a` is divided by `b`.\n",
        "\n",
        "Hints:  \n",
        "1. If `a<b` then what should `q` and `r` be?\n",
        "\n",
        "2. If `a>b` then think about how `q` and `r` are related to the values you would get from dividing `a-b` by `b`."
      ],
      "metadata": {
        "id": "A5xI1LxDkxn0"
      }
    },
    {
      "cell_type": "code",
      "source": [
        "def division_recursive(a, b):\n",
        "    if a < b:\n",
        "        return 0, a #if a<b, q=0 and r=a\n",
        "    else:\n",
        "        q, r = division_recursive(a - b, b)\n",
        "        return q + 1, r #if a>b, divide (a - b) recursively and update quotient and remainder"
      ],
      "metadata": {
        "id": "_3aRmkgJkxUW"
      },
      "execution_count": 51,
      "outputs": []
    },
    {
      "cell_type": "code",
      "source": [
        "#test\n",
        "a = 17\n",
        "b = 5\n",
        "quotient, remainder = division_recursive(a, b)\n",
        "print(f\"Quotient: {quotient}, Remainder: {remainder}\")"
      ],
      "metadata": {
        "id": "NoCo-ypGQCf9",
        "outputId": "c4e5dd2f-4ac7-4ba9-9e58-821c6fdffa20",
        "colab": {
          "base_uri": "https://localhost:8080/"
        }
      },
      "execution_count": 48,
      "outputs": [
        {
          "output_type": "stream",
          "name": "stdout",
          "text": [
            "Quotient: 3, Remainder: 2\n"
          ]
        }
      ]
    },
    {
      "cell_type": "code",
      "source": [
        "#test 2\n",
        "c= 20\n",
        "d= 5\n",
        "quotient, remainder = division_recursive(c, d)\n",
        "print(f\"Quotient: {quotient}, Remainder: {remainder}\")"
      ],
      "metadata": {
        "id": "Orq-9UGRQH0X",
        "outputId": "69e5adf4-b06e-4c8e-801c-f16a873ca881",
        "colab": {
          "base_uri": "https://localhost:8080/"
        }
      },
      "execution_count": 50,
      "outputs": [
        {
          "output_type": "stream",
          "name": "stdout",
          "text": [
            "Quotient: 4, Remainder: 0\n"
          ]
        }
      ]
    },
    {
      "cell_type": "code",
      "source": [
        "#test 3\n",
        "e= 6\n",
        "f= 6\n",
        "quotient, remainder = division_recursive(e, f)\n",
        "print(f\"Quotient: {quotient}, Remainder: {remainder}\")"
      ],
      "metadata": {
        "id": "O_vGUGQxQgaB",
        "outputId": "aa188a1b-962f-4015-d3fa-5c87eca6f0f7",
        "colab": {
          "base_uri": "https://localhost:8080/"
        }
      },
      "execution_count": 52,
      "outputs": [
        {
          "output_type": "stream",
          "name": "stdout",
          "text": [
            "Quotient: 1, Remainder: 0\n"
          ]
        }
      ]
    },
    {
      "cell_type": "markdown",
      "source": [
        "### The dot product of two vectors\n",
        "\n",
        "Problem 4.  Write a recursive function `dot()` that takes two lists of numbers, of equal length, and returns the sum of the products of the elements of the same index from each list. For example, if `V=[1,2,3]` and `W=[4,5,6]` then the function should return the value $(1 \\cdot 4) + (2\\cdot 5) + (3\\cdot 6)$, which equals 32.  In physics and linear algebra, this is called the \"dot product\" of the vectors `V` and `W`.\n",
        "\n",
        "Other examples:\n",
        "```\n",
        "dot([3],[4])\n",
        "12\n",
        "\n",
        "dot([1,1,0],[2,7,17])\n",
        "9\n",
        "```\n",
        "Hints:\n",
        "1. How is `dot(V,W)` related to `dot(V[1:],W[1:])`?\n",
        "2. What should happen if the lists are empty?"
      ],
      "metadata": {
        "id": "OkBK7gvglJ3u"
      }
    },
    {
      "cell_type": "code",
      "source": [
        "def dot_product(V, W):\n",
        "    if not V and not W:\n",
        "        return 0\n",
        "    else:\n",
        "        return V[0] * W[0] + dot_product(V[1:], W[1:])\n",
        "        #multiply first elements and add to dot product of the elements that are left"
      ],
      "metadata": {
        "id": "LZXs6lkslJqm"
      },
      "execution_count": 55,
      "outputs": []
    },
    {
      "cell_type": "code",
      "source": [
        "#test\n",
        "V = [4,5,6]\n",
        "W = [7,8,9]\n",
        "print(dot_product(V,W))"
      ],
      "metadata": {
        "id": "ZaBjzElLR8t5",
        "outputId": "53c8a68f-6c80-421d-e4c7-8de2fa6e4d30",
        "colab": {
          "base_uri": "https://localhost:8080/"
        }
      },
      "execution_count": 56,
      "outputs": [
        {
          "output_type": "stream",
          "name": "stdout",
          "text": [
            "122\n"
          ]
        }
      ]
    },
    {
      "cell_type": "code",
      "source": [
        "#Answer to Hint Q's:\n",
        "#1. dot_product(V,W) equals the product of the first elemnents of vectors V and W plus dot(V[1:], W[1:]).\n",
        "#2. if both lists are empty- return 0 (first if of the function)"
      ],
      "metadata": {
        "id": "-shJYEURSNJM"
      },
      "execution_count": 58,
      "outputs": []
    },
    {
      "cell_type": "code",
      "source": [],
      "metadata": {
        "id": "N-3lM36VSy5C"
      },
      "execution_count": null,
      "outputs": []
    }
  ]
}