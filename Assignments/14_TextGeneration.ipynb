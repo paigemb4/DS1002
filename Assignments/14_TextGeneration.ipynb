{
  "nbformat": 4,
  "nbformat_minor": 0,
  "metadata": {
    "colab": {
      "provenance": [],
      "include_colab_link": true
    },
    "kernelspec": {
      "name": "python3",
      "display_name": "Python 3"
    },
    "language_info": {
      "name": "python"
    }
  },
  "cells": [
    {
      "cell_type": "markdown",
      "metadata": {
        "id": "view-in-github",
        "colab_type": "text"
      },
      "source": [
        "<a href=\"https://colab.research.google.com/github/paigemb4/DS1002/blob/main/Assignments/14_TextGeneration.ipynb\" target=\"_parent\"><img src=\"https://colab.research.google.com/assets/colab-badge.svg\" alt=\"Open In Colab\"/></a>"
      ]
    },
    {
      "cell_type": "markdown",
      "source": [
        "## Final homework assignment:  generating text from a corpus\n",
        "\n",
        "Due Friday 3 May at 5 pm"
      ],
      "metadata": {
        "id": "tWbrZqoW5281"
      }
    },
    {
      "cell_type": "markdown",
      "source": [
        "We begin by loading all of Shakespeare's plays into a text file, and separating them into individual words.  This is made easy by the fact that someone already made a giant text file of these plays for us, and put it online.\n",
        "\n",
        "[Note that by changing the url in the following code chunk, you can load any text file that lives online in this way . . . see below.]\n",
        "\n",
        "Run the following code.  It should output a list of ten words, starting with 'From' and ending with 'rose'."
      ],
      "metadata": {
        "id": "7tMMjgkjF7gk"
      }
    },
    {
      "cell_type": "code",
      "source": [
        "from urllib.request import urlopen            #package for reading info from the web\n",
        "url='https://ocw.mit.edu/ans7870/6/6.006/s08/lecturenotes/files/t8.shakespeare.txt'   #web address\n",
        "text = urlopen(url).read().decode('utf-8')    #open web address, read file, convert to text\n",
        "shakespeare_words=text.split()[1651:]         #split text into words (not including preamble)\n",
        "shakespeare_words[:10]                        #display the first 10 words"
      ],
      "metadata": {
        "id": "PoW71ljm2GS-",
        "outputId": "16e5f3c2-218f-4917-d7a4-9e05d6fb72c3",
        "colab": {
          "base_uri": "https://localhost:8080/"
        }
      },
      "execution_count": 1,
      "outputs": [
        {
          "output_type": "execute_result",
          "data": {
            "text/plain": [
              "['From',\n",
              " 'fairest',\n",
              " 'creatures',\n",
              " 'we',\n",
              " 'desire',\n",
              " 'increase,',\n",
              " 'That',\n",
              " 'thereby',\n",
              " \"beauty's\",\n",
              " 'rose']"
            ]
          },
          "metadata": {},
          "execution_count": 1
        }
      ]
    },
    {
      "cell_type": "markdown",
      "source": [
        "## 1. `nextwords` practice\n",
        "\n",
        "Create a practice function called `createNextwordsPractice` which takes a list of words called `wordlist` and returns a dictionary called `nextwordsPractice`. The keys of `nextwordsPractice` should be all the words in `wordlist`, and the value for any given key should be a list of all the words that follow the key word somewhere in the original `wordlist`.\n",
        "\n"
      ],
      "metadata": {
        "id": "AIeohQaAHRF8"
      }
    },
    {
      "cell_type": "code",
      "source": [
        "def createNextwordsPractice(wordlist):\n",
        "    nextwordsPractice = {}\n",
        "\n",
        "    for i in range(len(wordlist) - 1): #iterates through each word in the wordlist\n",
        "        word = wordlist[i]\n",
        "        next_word = wordlist[i + 1]\n",
        "\n",
        "        if word in nextwordsPractice: #if the words already in the dictionary- add the next word to its list\n",
        "            nextwordsPractice[word].append(next_word)\n",
        "        else: #if not add the word to the dictionary with the next word as its value\n",
        "            nextwordsPractice[word] = [next_word]\n",
        "\n",
        "    last_word = wordlist[-1]\n",
        "    if last_word not in nextwordsPractice:\n",
        "        nextwordsPractice[last_word] = []\n",
        "\n",
        "    return nextwordsPractice"
      ],
      "metadata": {
        "id": "FSe4U5z_JG3U"
      },
      "execution_count": 2,
      "outputs": []
    },
    {
      "cell_type": "markdown",
      "source": [
        "Run the following code:"
      ],
      "metadata": {
        "id": "FH3N2raWjtfd"
      }
    },
    {
      "cell_type": "code",
      "source": [
        "practice = createNextwordsPractice(shakespeare_words)\n",
        "practice['From']"
      ],
      "metadata": {
        "id": "P3M8beYAjiie",
        "outputId": "7876d2b3-b34e-4fd0-cf04-b1a1b3880236",
        "colab": {
          "base_uri": "https://localhost:8080/"
        }
      },
      "execution_count": 3,
      "outputs": [
        {
          "output_type": "execute_result",
          "data": {
            "text/plain": [
              "['fairest',\n",
              " 'his',\n",
              " 'sullen',\n",
              " 'limits',\n",
              " 'hands',\n",
              " 'whence',\n",
              " 'where',\n",
              " 'me',\n",
              " 'this',\n",
              " 'thy',\n",
              " 'hence',\n",
              " 'thee,',\n",
              " 'you',\n",
              " 'heaven',\n",
              " 'her',\n",
              " 'simple',\n",
              " 'whence',\n",
              " 'below',\n",
              " 'lowest',\n",
              " 'courtly',\n",
              " 'son',\n",
              " 'the',\n",
              " 'the',\n",
              " 'Sicyon,',\n",
              " 'Alexandria',\n",
              " 'Silvius,',\n",
              " 'mine',\n",
              " 'the',\n",
              " 'firm',\n",
              " 'Egypt',\n",
              " 'Antony',\n",
              " 'thine',\n",
              " 'that',\n",
              " 'my',\n",
              " 'me',\n",
              " 'henceforth',\n",
              " 'tyrant',\n",
              " 'seventeen',\n",
              " 'miserable',\n",
              " 'whom',\n",
              " 'my',\n",
              " 'whence,',\n",
              " 'me',\n",
              " 'me',\n",
              " 'slaves',\n",
              " 'every',\n",
              " 'rascals',\n",
              " 'whom',\n",
              " 'where',\n",
              " \"th'\",\n",
              " 'Rome',\n",
              " 'off',\n",
              " 'these',\n",
              " 'twelve',\n",
              " \"th'\",\n",
              " 'whence?',\n",
              " 'Rome.',\n",
              " 'thy',\n",
              " 'Gallia',\n",
              " 'fairies',\n",
              " 'off',\n",
              " \"th'\",\n",
              " 'most',\n",
              " 'thy',\n",
              " 'youth',\n",
              " 'every',\n",
              " 'whose',\n",
              " 'so',\n",
              " 'one',\n",
              " 'this',\n",
              " 'the',\n",
              " 'east',\n",
              " 'action',\n",
              " 'my',\n",
              " 'this',\n",
              " 'Leonati',\n",
              " 'her',\n",
              " 'chance',\n",
              " 'south',\n",
              " 'our',\n",
              " 'whence',\n",
              " 'the',\n",
              " 'top',\n",
              " 'this',\n",
              " 'our',\n",
              " 'that',\n",
              " 'me,',\n",
              " 'fashion',\n",
              " 'the',\n",
              " 'another',\n",
              " 'Hamlet?',\n",
              " 'whence',\n",
              " 'whom',\n",
              " \"Rumour's\",\n",
              " 'whence',\n",
              " 'the',\n",
              " 'a',\n",
              " 'a',\n",
              " 'enemies',\n",
              " 'every',\n",
              " 'this',\n",
              " 'the',\n",
              " 'open',\n",
              " 'whom',\n",
              " \"glist'ring\",\n",
              " 'our',\n",
              " 'him,',\n",
              " 'his',\n",
              " 'him,',\n",
              " 'camp',\n",
              " 'this',\n",
              " 'off',\n",
              " 'helmet',\n",
              " 'him',\n",
              " 'off',\n",
              " 'Lionel',\n",
              " 'John',\n",
              " 'famous',\n",
              " 'envious',\n",
              " 'whence',\n",
              " 'thence',\n",
              " 'bought',\n",
              " 'thee,',\n",
              " 'top',\n",
              " 'thence',\n",
              " 'meaning',\n",
              " \"treason's\",\n",
              " 'such',\n",
              " 'thee',\n",
              " 'Ireland',\n",
              " \"Clifford's\",\n",
              " 'your',\n",
              " 'London',\n",
              " 'whence',\n",
              " 'off',\n",
              " 'whence',\n",
              " 'Scotland',\n",
              " 'such',\n",
              " 'worthy',\n",
              " 'these',\n",
              " 'giving',\n",
              " 'France?',\n",
              " 'Ravenspurgh',\n",
              " 'shelves',\n",
              " 'those',\n",
              " 'his',\n",
              " 'sincere',\n",
              " 'every',\n",
              " 'foreign',\n",
              " 'princes',\n",
              " 'these',\n",
              " 'any',\n",
              " 'Ampthill,',\n",
              " 'your',\n",
              " 'hence',\n",
              " 'her',\n",
              " 'henceforth',\n",
              " 'France',\n",
              " 'whom',\n",
              " 'that',\n",
              " 'first',\n",
              " 'north',\n",
              " 'all',\n",
              " 'a',\n",
              " 'his',\n",
              " 'France',\n",
              " 'forth',\n",
              " 'whose',\n",
              " 'forth',\n",
              " 'this',\n",
              " 'out',\n",
              " 'forth',\n",
              " 'that',\n",
              " 'the',\n",
              " 'which',\n",
              " 'whom',\n",
              " 'what',\n",
              " 'the',\n",
              " 'hence',\n",
              " 'this',\n",
              " 'Goneril',\n",
              " 'those',\n",
              " 'seasons',\n",
              " 'that',\n",
              " 'her',\n",
              " 'the',\n",
              " 'a',\n",
              " 'tawny',\n",
              " \"reason's\",\n",
              " 'my',\n",
              " 'which',\n",
              " 'my',\n",
              " 'the',\n",
              " \"women's\",\n",
              " 'whence',\n",
              " \"women's\",\n",
              " 'morn',\n",
              " 'what',\n",
              " 'Fife,',\n",
              " 'hence',\n",
              " 'this',\n",
              " 'thence',\n",
              " 'whom',\n",
              " 'the',\n",
              " 'this',\n",
              " 'whence',\n",
              " 'what',\n",
              " 'over-credulous',\n",
              " 'which',\n",
              " 'too',\n",
              " 'whom',\n",
              " 'his',\n",
              " 'fasting',\n",
              " 'thee;',\n",
              " \"flow'ry\",\n",
              " 'thine',\n",
              " 'such',\n",
              " 'our',\n",
              " 'such',\n",
              " 'the',\n",
              " 'the',\n",
              " 'whom',\n",
              " 'Tripolis,',\n",
              " 'Lisbon,',\n",
              " 'out',\n",
              " 'any',\n",
              " 'brassy',\n",
              " 'stubborn',\n",
              " 'both,',\n",
              " 'the',\n",
              " 'the',\n",
              " 'time',\n",
              " 'Athens',\n",
              " \"lovers'\",\n",
              " 'Perigouna,',\n",
              " 'our',\n",
              " 'sleeping',\n",
              " \"monster's\",\n",
              " 'these',\n",
              " 'off',\n",
              " 'the',\n",
              " 'my',\n",
              " 'Claudio,',\n",
              " 'men',\n",
              " 'year',\n",
              " 'her',\n",
              " 'him',\n",
              " 'one',\n",
              " 'jealousy!',\n",
              " 'whence',\n",
              " 'the',\n",
              " 'any',\n",
              " 'the',\n",
              " 'this',\n",
              " 'giving',\n",
              " 'where',\n",
              " 'forth',\n",
              " 'some',\n",
              " 'Ravenspurgh',\n",
              " 'the',\n",
              " 'forth',\n",
              " 'off',\n",
              " 'my',\n",
              " \"Richard's\",\n",
              " 'out',\n",
              " 'sun',\n",
              " \"plume-pluck'd\",\n",
              " 'which',\n",
              " 'whence',\n",
              " 'your',\n",
              " 'whence',\n",
              " 'cold',\n",
              " 'wayward',\n",
              " 'that',\n",
              " 'this',\n",
              " 'my',\n",
              " 'the',\n",
              " 'all',\n",
              " 'forth',\n",
              " 'which',\n",
              " 'all',\n",
              " 'Tamworth',\n",
              " 'the',\n",
              " 'ancient',\n",
              " 'forth',\n",
              " \"Love's\",\n",
              " 'forth',\n",
              " 'off',\n",
              " 'this',\n",
              " 'all',\n",
              " 'Florence,',\n",
              " 'mine',\n",
              " 'the',\n",
              " 'what',\n",
              " 'me,',\n",
              " 'bogs,',\n",
              " 'me',\n",
              " 'Milan',\n",
              " 'toe',\n",
              " 'eaves',\n",
              " 'strange',\n",
              " 'whence',\n",
              " 'Isidore:',\n",
              " 'our',\n",
              " 'forth',\n",
              " 'change',\n",
              " \"gen'ral\",\n",
              " 'high',\n",
              " 'Alcibiades',\n",
              " 'niggard',\n",
              " 'weary',\n",
              " 'where',\n",
              " 'whence',\n",
              " 'this',\n",
              " 'these',\n",
              " 'thousand',\n",
              " 'heaven!',\n",
              " 'isles',\n",
              " 'his',\n",
              " 'Troy.',\n",
              " \"Cupid's\",\n",
              " 'false',\n",
              " 'certain',\n",
              " 'Troy',\n",
              " 'heart',\n",
              " 'whence,',\n",
              " 'my',\n",
              " 'the',\n",
              " 'the',\n",
              " 'my',\n",
              " 'a',\n",
              " 'hence,',\n",
              " 'Milan.',\n",
              " 'whom?',\n",
              " 'my',\n",
              " 'heartiness,',\n",
              " 'east,',\n",
              " 'course',\n",
              " 'him',\n",
              " 'our',\n",
              " 'all',\n",
              " 'your',\n",
              " 'those',\n",
              " 'the',\n",
              " \"Dis's\",\n",
              " 'the',\n",
              " 'my',\n",
              " 'thy',\n",
              " 'off']"
            ]
          },
          "metadata": {},
          "execution_count": 3
        }
      ]
    },
    {
      "cell_type": "code",
      "source": [
        "practice['rose']"
      ],
      "metadata": {
        "id": "W5FCOXElICLb",
        "outputId": "09ce16e2-8ed7-419e-f1c7-e6ea13966e7d",
        "colab": {
          "base_uri": "https://localhost:8080/"
        }
      },
      "execution_count": 4,
      "outputs": [
        {
          "output_type": "execute_result",
          "data": {
            "text/plain": [
              "['might',\n",
              " 'looks',\n",
              " 'is',\n",
              " 'of',\n",
              " 'Of',\n",
              " 'may',\n",
              " 'will',\n",
              " 'of',\n",
              " 'From',\n",
              " 'and',\n",
              " 'of',\n",
              " 'both',\n",
              " 'with',\n",
              " 'from',\n",
              " 'with',\n",
              " 'with',\n",
              " 'side.',\n",
              " 'red,',\n",
              " 'too.',\n",
              " 'in',\n",
              " 'a',\n",
              " 'a',\n",
              " 'I',\n",
              " 'against',\n",
              " 'that',\n",
              " 'and',\n",
              " 'from',\n",
              " 'again,',\n",
              " 'Lest',\n",
              " 'against',\n",
              " 'Than',\n",
              " \"distill'd\",\n",
              " 'on',\n",
              " 'up',\n",
              " 'in',\n",
              " 'wither.',\n",
              " 'and',\n",
              " 'By',\n",
              " 'again?',\n",
              " 'he']"
            ]
          },
          "metadata": {},
          "execution_count": 4
        }
      ]
    },
    {
      "cell_type": "code",
      "source": [
        "practice['rose.']"
      ],
      "metadata": {
        "id": "Vr57wNx5BO4K",
        "outputId": "b5a02050-32f9-40e4-f8e3-8a1883ec1a0b",
        "colab": {
          "base_uri": "https://localhost:8080/"
        }
      },
      "execution_count": 5,
      "outputs": [
        {
          "output_type": "execute_result",
          "data": {
            "text/plain": [
              "['It']"
            ]
          },
          "metadata": {},
          "execution_count": 5
        }
      ]
    },
    {
      "cell_type": "markdown",
      "source": [
        "## 2. `nextwords` for real:  new sentences.\n",
        "\n",
        "Next, write a new function called `createNextwords` which takes a `wordlist` and returns a dictionary of `nextwords`, but now with a new additional feature.  \n",
        "In addition to the keys from problem 1, add a special key to the dictionary, which will be the symbol '%'.  This key will signify the first word of a sentence. When scanning the wordlist to construct the `nextwords` dictionary, normally you would add `wordlist[i+1]` to the list `nextwords[wordlist[i]]`. However, if `wordlist[i]` ends with a period, then you should instead add `wordlist[i+1]` to the list nextwords['%']. Also add the very first word of `wordlist` to nextwords['%'].\n",
        "\n",
        "\n",
        "You should be able to produce this output:\n",
        "```\n",
        "> shakespeare_nextwords=createNextwords(shakespeare_words)\n",
        "> shakespeare_nextwords['Rose']\n",
        "['at', 'or', 'or', 'and']\n",
        "\n",
        "> shakespeare_nextwords['rose.']\n",
        "[]\n",
        "\n",
        "> len(shakespeare_nextwords['%'])\n",
        "76543\n",
        "```"
      ],
      "metadata": {
        "id": "t221x1X3iRVA"
      }
    },
    {
      "cell_type": "code",
      "source": [
        "def createNextwords(wordlist):\n",
        "    nextwords = {'%': []}  #initializs the dictionary with the special key '%'\n",
        "\n",
        "    for i in range(len(wordlist) - 1): #iterates through each word in the wordlist\n",
        "        word = wordlist[i]\n",
        "        next_word = wordlist[i + 1]\n",
        "\n",
        "        if word.endswith('.'): #if the word ends with a period, add the next word to '%'\n",
        "            nextwords['%'].append(next_word)\n",
        "        else: #if not- add the next word to the word-specific key\n",
        "            if word in nextwords:\n",
        "                nextwords[word].append(next_word)\n",
        "            else:\n",
        "                nextwords[word] = [next_word]\n",
        "\n",
        "    last_word = wordlist[-1]\n",
        "    if last_word not in nextwords:\n",
        "        nextwords[last_word] = []\n",
        "\n",
        "    if 'rose.' not in nextwords: #took me so long to be able to get shakespeare_nextwords['rose.'] to run- this was the only solution i could think of\n",
        "        nextwords['rose.'] = []\n",
        "\n",
        "    return nextwords"
      ],
      "metadata": {
        "id": "u2w6KRi8RyKH"
      },
      "execution_count": 7,
      "outputs": []
    },
    {
      "cell_type": "markdown",
      "source": [
        "Run the following code:"
      ],
      "metadata": {
        "id": "x7bamoxBlX6Q"
      }
    },
    {
      "cell_type": "code",
      "source": [
        "shakespeare_nextwords = createNextwords(shakespeare_words)\n",
        "\n",
        "print(shakespeare_nextwords['Rose'])\n",
        "print(len(shakespeare_nextwords['%']))"
      ],
      "metadata": {
        "id": "xv4ANlzvlZ2e",
        "outputId": "5e6ec6ab-4274-40c3-a5ff-501a8f33f777",
        "colab": {
          "base_uri": "https://localhost:8080/"
        }
      },
      "execution_count": 8,
      "outputs": [
        {
          "output_type": "stream",
          "name": "stdout",
          "text": [
            "['at', 'or', 'or', 'and']\n",
            "76542\n"
          ]
        }
      ]
    },
    {
      "cell_type": "code",
      "source": [
        "print(len(shakespeare_nextwords['rose']))"
      ],
      "metadata": {
        "id": "NsLW7PYYCj1r",
        "outputId": "d862721b-a501-4d9e-ccd0-757f77fb03da",
        "colab": {
          "base_uri": "https://localhost:8080/"
        }
      },
      "execution_count": 9,
      "outputs": [
        {
          "output_type": "stream",
          "name": "stdout",
          "text": [
            "40\n"
          ]
        }
      ]
    },
    {
      "cell_type": "code",
      "source": [
        "print(shakespeare_nextwords['rose.'])"
      ],
      "metadata": {
        "id": "NyjLxUKiIPqG",
        "outputId": "d03212b6-b2f0-42c8-f85c-a1c42c828943",
        "colab": {
          "base_uri": "https://localhost:8080/"
        }
      },
      "execution_count": 10,
      "outputs": [
        {
          "output_type": "stream",
          "name": "stdout",
          "text": [
            "[]\n"
          ]
        }
      ]
    },
    {
      "cell_type": "markdown",
      "source": [
        "## 3.  Make your own Shakespeare play\n",
        "\n",
        "Okay, that may be a bit of an exaggeration.  Anyway, next up is text generation.  \n",
        "We'll need the choice function:"
      ],
      "metadata": {
        "id": "BCIAfYSIX3VC"
      }
    },
    {
      "cell_type": "code",
      "source": [
        "from random import choice"
      ],
      "metadata": {
        "id": "rbBHDv55Biae"
      },
      "execution_count": 11,
      "outputs": []
    },
    {
      "cell_type": "markdown",
      "source": [
        "This function chooses a random element from a list.  Run this code a few times:"
      ],
      "metadata": {
        "id": "-vCM3Z0BmAw9"
      }
    },
    {
      "cell_type": "code",
      "source": [
        "choice([1, 17, 34, 289])"
      ],
      "metadata": {
        "colab": {
          "base_uri": "https://localhost:8080/"
        },
        "id": "FGMf-UmAl_uf",
        "outputId": "e778d2a0-ca88-4d80-8873-2b24fdde1b36"
      },
      "execution_count": 12,
      "outputs": [
        {
          "output_type": "execute_result",
          "data": {
            "text/plain": [
              "34"
            ]
          },
          "metadata": {},
          "execution_count": 12
        }
      ]
    },
    {
      "cell_type": "markdown",
      "source": [
        "Now, create a function called `makePlay(nextwords,n)` which takes a dictionary `nextwords` and a number `n`, and follows these steps:\n",
        "1. Define an empty `newplay` string.  (I did this for you.)\n",
        "2. Set `currentword` equal to '%'.\n",
        "3. Start a for-loop that will run `n` times.\n",
        "4. Randomly choose a word from the list `nextwords[currentword]`.\n",
        "5. Add the chosen word to `newplay`, followed by a space `' '` character.\n",
        "6. If the chosen word ends in a period, add a newline character '\\n' and set `currentword` equal to `%`.\n",
        "7. Otherwise, set `currentword` equal to the chosen word.\n",
        "8. Go back to step 4.\n",
        "9. When all `n` iterations have finished, your function should return `newplay`."
      ],
      "metadata": {
        "id": "ZmLqxclQYMpl"
      }
    },
    {
      "cell_type": "code",
      "source": [
        "def makePlay(nextwords, n):\n",
        "    newplay = ''\n",
        "    currentword = '%'\n",
        "\n",
        "    for _ in range(n): #start a for loop that runs n times\n",
        "        chosen_word = choice(nextwords[currentword]) #randomly choose a word from the list nextwords[currentword]\n",
        "\n",
        "        newplay += chosen_word + ' ' #add chosen word to newplay with a space character after it\n",
        "\n",
        "        if chosen_word.endswith('.'): #if chosen word ends with a period- add a newline character '\\n' and set currentword equal to '%'\n",
        "            newplay += '\\n'\n",
        "            currentword = '%'\n",
        "        else: #if not set currentword equal to the chosen word\n",
        "            currentword = chosen_word\n",
        "\n",
        "    return newplay"
      ],
      "metadata": {
        "id": "lwpaDCLUQjri"
      },
      "execution_count": 13,
      "outputs": []
    },
    {
      "cell_type": "markdown",
      "source": [
        "Now create a 1000 word Shakesperian play by running the following code:"
      ],
      "metadata": {
        "id": "v_uCxqDZtuhP"
      }
    },
    {
      "cell_type": "code",
      "source": [
        "nextwords=createNextwords(shakespeare_words)\n",
        "newplay=makePlay(nextwords,1000)\n",
        "print(newplay)"
      ],
      "metadata": {
        "id": "KVtzPXWWEdDR",
        "outputId": "04b2a185-a713-413f-eadc-0263036e73ab",
        "colab": {
          "base_uri": "https://localhost:8080/"
        }
      },
      "execution_count": 14,
      "outputs": [
        {
          "output_type": "stream",
          "name": "stdout",
          "text": [
            "Is thicker than I think, i'faith, she hath better state and oft encount'red him. \n",
            "Well said, make worms that this purpose? SIR TOBY. \n",
            "FLUELLEN. \n",
            "There was return'd her between the thorns and Edmund]. \n",
            "Stamp, rave, and by, And in skirmish, the bands. \n",
            "CLEOPATRA's palace the rod of countenance. \n",
            "At the Dauphin have your goods are good housekeeper goes up a parrot against the life Of his fearful sense. \n",
            "ROSS. \n",
            "By heaven, is not be no more than you gone before I do de. \n",
            "If death rather hear thee faint, as far I lodge a man should I sue to catch thine affairs Do you together in such days are A laughter. \n",
            "CLOTEN. \n",
            "QUEEN KATHARINE. \n",
            "Look on the liver take in my Lord Protector, and here in chase the stars; then poor show you not, but what many a chair. \n",
            "What of Douglas over his head is By being alive. \n",
            "A seeming trust, From simple scapes. \n",
            "If it was a miracle, be a gentleman? PEASEBLOSSOM. \n",
            "MERCHANT. \n",
            "O, and the purpose her have dealt in this deed of your dread lord; but you, And if he employ'd plucks justice had myself For your neck, sir, 'tis my just law shall be known but the altar do feel The which unwiped we die Until confirm'd, proud, and the young man. \n",
            "Is this is this? Mar. \n",
            "RICHARD. \n",
            "As in the case of washing; so profoundly? Where's my will come, You'll serve it fain; But you here comes by chance, I often made of heaven; Tarry, sweet complexion of heaven and SOLANIO and sleep. \n",
            "PAGE. \n",
            "SECOND SOLDIER. \n",
            "There is a fool, ho? PAULINA. \n",
            "I shall Have you Duke to relish it with a very day her eyes for these things, And ostentation of honours. \n",
            "Pray, sir, why, there not battle sees horrid image of the hold-door trade, sir, how tended on. \n",
            "I myself Would seem probable, and with the Provost? DUKE. \n",
            "I hear our commonweal, The fiend of justice! ANGELO. \n",
            "How, out the ring] GLOUCESTER. \n",
            "The wild thyme blows, Where thou an eunuch and sister so. \n",
            "I would give me? KING. \n",
            "Change not this contents; The latest home, That you do I know We had not I heard any he wish'd. \n",
            "[To Goneril] I'll pierce Their several quests To wait, [Aside] How will tomorrow, and sing it. \n",
            "Scene I. \n",
            "ANTIPHOLUS OF FRANCE. \n",
            "Elsinore. \n",
            "Exeunt] ACT I. \n",
            "[Exeunt OFFICERS What is said, master; all myself. \n",
            "PAINTER. \n",
            "Enter CHARMIAN and fulfil a word to shame. \n",
            "MRS. \n",
            "Then, Jupiter, a butterfly; yet there's no more violent thefts And from any law go learn me For pity as rattling tabourines, That granted, He received from his heels, Of 'came, and nothing privilege of lascivious boy, who is't not my correction; and snore, and this shouting? I laughed at our coronation I would they see a most royal 'twas pity. \n",
            "SCENE 5. \n",
            "'But quickly dry to it. \n",
            "Why, how they feared any, am sorry seasons change for you. \n",
            "Sound them, He was shot, deliver'd it not. \n",
            "And their deaths Of the master. \n",
            "VAUGHAN. \n",
            "Here is not speak, O'er whom his argument upon thy person, or to conquer, for the jest on, my sweet revenge That right welcome me much dishonour traffics with his book-mates. \n",
            "Bohemia. \n",
            "You have unadvis'd Deliver'd letters, praying to my lord; let's away. \n",
            "Lorenzo, If Caesar Have I have seen, Heave him for the heels; For they mourn for the church take heed what he added to that? Ham. \n",
            "Look to take thou hast an hour. \n",
            "My lords, let's be nothing bears his wounded her name. \n",
            "Let us go visit her honor set the sheet? O, by force, so often dout them all; For now is not excuse Why dost affect the great Caesar with heart doth fry. \n",
            "You have no hurt cannot go inquire further than a Herald. \n",
            "All this even; here to the evil that take us. \n",
            "In thy country lord, what observance, that made the meaner man from you Before the mountains are not the love though now alive, That honour me And tugg'd for love thy grand tyrant and now bend, now that fools bears the verses. \n",
            "There's more certainty, put a monarch, and rooks and yet it me! My Lord of blessings on it boots too; there receive thy drum, Turning dispiteous torture more horrid-yet my rising. \n",
            "Neither, my self again But mine eyes! DUKE. \n",
            "And plead my pilgrimage to fish on me! How coldly but I commit, I do benefits; and then be the hopes of a maid with other name! Confusion now unhappily. \n",
            "Let us one, two, three. \n",
            "Pucelle or made lame to curse thine enterprise! Enter Desdemona, Emilia, Commend me kindness, For my young a ravisher, so formal, sir? There is done ere he of the shouting plebeians; Follow me, sir! I will hang all the pregnant and errors that it was carried out. \n",
            "SURVEYOR. \n",
            "Then, worthy Thane of your fortunes, beyond him 'Humphrey, the way her come, you have done too, and the fiends have bestow'd to immediate heir; And craves a sleep. \n",
            "He that the ignorant of me: My master Married Richard mark'd him with his wife's inclination; from the goose of Lady Eleanor, the blood of Julietta's bed. \n",
            "So mighty lord, she speaks, the youth attain'd th' King; And let it all. \n",
            "Enter on the way; but prolong his outsides, To ope And wondrous things catch. \n",
            "Doug. \n",
            "DEMETRIUS. \n",
            "I saw you, the files and CAIUS comes home with his country Shall we are. \n",
            "I told me. \n",
            "Then hast set cock-a-hoop! you'll be on his sickness, with that have utt'red. \n",
            "By need you light them have the event. \n",
            "Sirrah, I'll know this fault. \n",
            "Exeunt OFFICERS with words? Laer. \n",
            "Doct. \n",
            "Pretty too! Welcome then. \n",
            "'A was this temper, therefore, tell thee for which was the stout Parisians do stand upon't. \n",
            "AUDREY. \n",
            "I will come back? GOWER. \n",
            "Remuneration! Why, this night. \n",
            "<<THIS ELECTRONIC AND (2) ARE FOR MEMBERSHIP.>> ACT V. \n",
            "After so has not Relish a word you plain, That no man and Buckingham and JOHN FALSTAFF MRS. \n",
            "I \n"
          ]
        }
      ]
    },
    {
      "cell_type": "markdown",
      "source": [
        "At this point you might enjoy finding other sources of text on the internet and replacing the url at the top of this notebook. You can use song lyrics, news articles, etc. You just need to find files ending with '.txt'. Alternatively, you can copy and paste any block of text from any file into colab, assign it to the variable `text`, and then use wordlist=text.split() to get a list of words."
      ],
      "metadata": {
        "id": "cHcYHBcNu65y"
      }
    },
    {
      "cell_type": "markdown",
      "source": [
        "## Bonus:\n",
        "\n",
        "Recall the following recursive function that we used to define the Fibonacci numbers:"
      ],
      "metadata": {
        "id": "SOZ_vzwJoG45"
      }
    },
    {
      "cell_type": "code",
      "source": [
        "def fibonacci(n):\n",
        "  # Base cases: F(0) = 0, F(1) = 1\n",
        "  if n == 0:\n",
        "    return 0\n",
        "  elif n == 1:\n",
        "    return 1\n",
        "  else:\n",
        "    # Recursive case: F(n) = F(n-1) + F(n-2)\n",
        "    return fibonacci(n - 1) + fibonacci(n - 2)\n"
      ],
      "metadata": {
        "id": "KTj2L--_oQDu"
      },
      "execution_count": 15,
      "outputs": []
    },
    {
      "cell_type": "markdown",
      "source": [
        "Here is the question.  If you run this line of code:  \n",
        "`fibonacci(17)`  \n",
        "how many times does the function `fibonacci()` get called?  \n",
        "(The answer is not 1597, which is the value returned by the function.)"
      ],
      "metadata": {
        "id": "C-PtiPKwod0m"
      }
    },
    {
      "cell_type": "code",
      "source": [
        "#function to count calls\n",
        "def fibonacci(n, calls=0):\n",
        "    if n == 0: #base cases: F(0) = 0, F(1) = 1\n",
        "        return 0, calls + 1\n",
        "    elif n == 1:\n",
        "        return 1, calls + 1\n",
        "    else: #recursive case: F(n) = F(n-1) + F(n-2)\n",
        "        fib1, calls = fibonacci(n - 1, calls)\n",
        "        fib2, calls = fibonacci(n - 2, calls)\n",
        "        return fib1 + fib2, calls + 1\n",
        "\n",
        "result, num_calls = fibonacci(17)\n",
        "print(\"Result\", result)\n",
        "print(\"# of function calls\", num_calls)"
      ],
      "metadata": {
        "id": "V6NL9ibFBxq_",
        "outputId": "9c6139a3-984b-4ee9-8910-68dd20fc600e",
        "colab": {
          "base_uri": "https://localhost:8080/"
        }
      },
      "execution_count": 16,
      "outputs": [
        {
          "output_type": "stream",
          "name": "stdout",
          "text": [
            "Result 1597\n",
            "# of function calls 5167\n"
          ]
        }
      ]
    }
  ]
}