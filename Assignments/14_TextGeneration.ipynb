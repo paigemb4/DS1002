{
  "nbformat": 4,
  "nbformat_minor": 0,
  "metadata": {
    "colab": {
      "provenance": [],
      "include_colab_link": true
    },
    "kernelspec": {
      "name": "python3",
      "display_name": "Python 3"
    },
    "language_info": {
      "name": "python"
    }
  },
  "cells": [
    {
      "cell_type": "markdown",
      "metadata": {
        "id": "view-in-github",
        "colab_type": "text"
      },
      "source": [
        "<a href=\"https://colab.research.google.com/github/paigemb4/DS1002/blob/main/Assignments/14_TextGeneration.ipynb\" target=\"_parent\"><img src=\"https://colab.research.google.com/assets/colab-badge.svg\" alt=\"Open In Colab\"/></a>"
      ]
    },
    {
      "cell_type": "markdown",
      "source": [
        "## Final homework assignment:  generating text from a corpus\n",
        "\n",
        "Due Friday 3 May at 5 pm"
      ],
      "metadata": {
        "id": "tWbrZqoW5281"
      }
    },
    {
      "cell_type": "markdown",
      "source": [
        "We begin by loading all of Shakespeare's plays into a text file, and separating them into individual words.  This is made easy by the fact that someone already made a giant text file of these plays for us, and put it online.\n",
        "\n",
        "[Note that by changing the url in the following code chunk, you can load any text file that lives online in this way . . . see below.]\n",
        "\n",
        "Run the following code.  It should output a list of ten words, starting with 'From' and ending with 'rose'."
      ],
      "metadata": {
        "id": "7tMMjgkjF7gk"
      }
    },
    {
      "cell_type": "code",
      "source": [
        "from urllib.request import urlopen            #package for reading info from the web\n",
        "url='https://ocw.mit.edu/ans7870/6/6.006/s08/lecturenotes/files/t8.shakespeare.txt'   #web address\n",
        "text = urlopen(url).read().decode('utf-8')    #open web address, read file, convert to text\n",
        "shakespeare_words=text.split()[1651:]         #split text into words (not including preamble)\n",
        "shakespeare_words[:10]                        #display the first 10 words"
      ],
      "metadata": {
        "id": "PoW71ljm2GS-",
        "outputId": "3dec8655-c5d0-493c-ecd7-266a25e66fc5",
        "colab": {
          "base_uri": "https://localhost:8080/"
        }
      },
      "execution_count": 95,
      "outputs": [
        {
          "output_type": "execute_result",
          "data": {
            "text/plain": [
              "['From',\n",
              " 'fairest',\n",
              " 'creatures',\n",
              " 'we',\n",
              " 'desire',\n",
              " 'increase,',\n",
              " 'That',\n",
              " 'thereby',\n",
              " \"beauty's\",\n",
              " 'rose']"
            ]
          },
          "metadata": {},
          "execution_count": 95
        }
      ]
    },
    {
      "cell_type": "markdown",
      "source": [
        "## 1. `nextwords` practice\n",
        "\n",
        "Create a practice function called `createNextwordsPractice` which takes a list of words called `wordlist` and returns a dictionary called `nextwordsPractice`. The keys of `nextwordsPractice` should be all the words in `wordlist`, and the value for any given key should be a list of all the words that follow the key word somewhere in the original `wordlist`.\n",
        "\n"
      ],
      "metadata": {
        "id": "AIeohQaAHRF8"
      }
    },
    {
      "cell_type": "code",
      "source": [
        "def createNextwordsPractice(wordlist):\n",
        "    nextwordsPractice = {}\n",
        "\n",
        "    for i in range(len(wordlist) - 1): #iterates through each word in the wordlist\n",
        "        word = wordlist[i]\n",
        "        next_word = wordlist[i + 1]\n",
        "\n",
        "        if word in nextwordsPractice: #if the words already in the dictionary- add the next word to its list\n",
        "            nextwordsPractice[word].append(next_word)\n",
        "        else: #if not add the word to the dictionary with the next word as its value\n",
        "            nextwordsPractice[word] = [next_word]\n",
        "\n",
        "    last_word = wordlist[-1]\n",
        "    if last_word not in nextwordsPractice:\n",
        "        nextwordsPractice[last_word] = []\n",
        "\n",
        "    return nextwordsPractice"
      ],
      "metadata": {
        "id": "FSe4U5z_JG3U"
      },
      "execution_count": 96,
      "outputs": []
    },
    {
      "cell_type": "markdown",
      "source": [
        "Run the following code:"
      ],
      "metadata": {
        "id": "FH3N2raWjtfd"
      }
    },
    {
      "cell_type": "code",
      "source": [
        "practice = createNextwordsPractice(shakespeare_words)\n",
        "practice['From']"
      ],
      "metadata": {
        "id": "P3M8beYAjiie",
        "outputId": "1b581f61-77ac-46c7-feab-ee253bf03047",
        "colab": {
          "base_uri": "https://localhost:8080/"
        }
      },
      "execution_count": 97,
      "outputs": [
        {
          "output_type": "execute_result",
          "data": {
            "text/plain": [
              "['fairest',\n",
              " 'his',\n",
              " 'sullen',\n",
              " 'limits',\n",
              " 'hands',\n",
              " 'whence',\n",
              " 'where',\n",
              " 'me',\n",
              " 'this',\n",
              " 'thy',\n",
              " 'hence',\n",
              " 'thee,',\n",
              " 'you',\n",
              " 'heaven',\n",
              " 'her',\n",
              " 'simple',\n",
              " 'whence',\n",
              " 'below',\n",
              " 'lowest',\n",
              " 'courtly',\n",
              " 'son',\n",
              " 'the',\n",
              " 'the',\n",
              " 'Sicyon,',\n",
              " 'Alexandria',\n",
              " 'Silvius,',\n",
              " 'mine',\n",
              " 'the',\n",
              " 'firm',\n",
              " 'Egypt',\n",
              " 'Antony',\n",
              " 'thine',\n",
              " 'that',\n",
              " 'my',\n",
              " 'me',\n",
              " 'henceforth',\n",
              " 'tyrant',\n",
              " 'seventeen',\n",
              " 'miserable',\n",
              " 'whom',\n",
              " 'my',\n",
              " 'whence,',\n",
              " 'me',\n",
              " 'me',\n",
              " 'slaves',\n",
              " 'every',\n",
              " 'rascals',\n",
              " 'whom',\n",
              " 'where',\n",
              " \"th'\",\n",
              " 'Rome',\n",
              " 'off',\n",
              " 'these',\n",
              " 'twelve',\n",
              " \"th'\",\n",
              " 'whence?',\n",
              " 'Rome.',\n",
              " 'thy',\n",
              " 'Gallia',\n",
              " 'fairies',\n",
              " 'off',\n",
              " \"th'\",\n",
              " 'most',\n",
              " 'thy',\n",
              " 'youth',\n",
              " 'every',\n",
              " 'whose',\n",
              " 'so',\n",
              " 'one',\n",
              " 'this',\n",
              " 'the',\n",
              " 'east',\n",
              " 'action',\n",
              " 'my',\n",
              " 'this',\n",
              " 'Leonati',\n",
              " 'her',\n",
              " 'chance',\n",
              " 'south',\n",
              " 'our',\n",
              " 'whence',\n",
              " 'the',\n",
              " 'top',\n",
              " 'this',\n",
              " 'our',\n",
              " 'that',\n",
              " 'me,',\n",
              " 'fashion',\n",
              " 'the',\n",
              " 'another',\n",
              " 'Hamlet?',\n",
              " 'whence',\n",
              " 'whom',\n",
              " \"Rumour's\",\n",
              " 'whence',\n",
              " 'the',\n",
              " 'a',\n",
              " 'a',\n",
              " 'enemies',\n",
              " 'every',\n",
              " 'this',\n",
              " 'the',\n",
              " 'open',\n",
              " 'whom',\n",
              " \"glist'ring\",\n",
              " 'our',\n",
              " 'him,',\n",
              " 'his',\n",
              " 'him,',\n",
              " 'camp',\n",
              " 'this',\n",
              " 'off',\n",
              " 'helmet',\n",
              " 'him',\n",
              " 'off',\n",
              " 'Lionel',\n",
              " 'John',\n",
              " 'famous',\n",
              " 'envious',\n",
              " 'whence',\n",
              " 'thence',\n",
              " 'bought',\n",
              " 'thee,',\n",
              " 'top',\n",
              " 'thence',\n",
              " 'meaning',\n",
              " \"treason's\",\n",
              " 'such',\n",
              " 'thee',\n",
              " 'Ireland',\n",
              " \"Clifford's\",\n",
              " 'your',\n",
              " 'London',\n",
              " 'whence',\n",
              " 'off',\n",
              " 'whence',\n",
              " 'Scotland',\n",
              " 'such',\n",
              " 'worthy',\n",
              " 'these',\n",
              " 'giving',\n",
              " 'France?',\n",
              " 'Ravenspurgh',\n",
              " 'shelves',\n",
              " 'those',\n",
              " 'his',\n",
              " 'sincere',\n",
              " 'every',\n",
              " 'foreign',\n",
              " 'princes',\n",
              " 'these',\n",
              " 'any',\n",
              " 'Ampthill,',\n",
              " 'your',\n",
              " 'hence',\n",
              " 'her',\n",
              " 'henceforth',\n",
              " 'France',\n",
              " 'whom',\n",
              " 'that',\n",
              " 'first',\n",
              " 'north',\n",
              " 'all',\n",
              " 'a',\n",
              " 'his',\n",
              " 'France',\n",
              " 'forth',\n",
              " 'whose',\n",
              " 'forth',\n",
              " 'this',\n",
              " 'out',\n",
              " 'forth',\n",
              " 'that',\n",
              " 'the',\n",
              " 'which',\n",
              " 'whom',\n",
              " 'what',\n",
              " 'the',\n",
              " 'hence',\n",
              " 'this',\n",
              " 'Goneril',\n",
              " 'those',\n",
              " 'seasons',\n",
              " 'that',\n",
              " 'her',\n",
              " 'the',\n",
              " 'a',\n",
              " 'tawny',\n",
              " \"reason's\",\n",
              " 'my',\n",
              " 'which',\n",
              " 'my',\n",
              " 'the',\n",
              " \"women's\",\n",
              " 'whence',\n",
              " \"women's\",\n",
              " 'morn',\n",
              " 'what',\n",
              " 'Fife,',\n",
              " 'hence',\n",
              " 'this',\n",
              " 'thence',\n",
              " 'whom',\n",
              " 'the',\n",
              " 'this',\n",
              " 'whence',\n",
              " 'what',\n",
              " 'over-credulous',\n",
              " 'which',\n",
              " 'too',\n",
              " 'whom',\n",
              " 'his',\n",
              " 'fasting',\n",
              " 'thee;',\n",
              " \"flow'ry\",\n",
              " 'thine',\n",
              " 'such',\n",
              " 'our',\n",
              " 'such',\n",
              " 'the',\n",
              " 'the',\n",
              " 'whom',\n",
              " 'Tripolis,',\n",
              " 'Lisbon,',\n",
              " 'out',\n",
              " 'any',\n",
              " 'brassy',\n",
              " 'stubborn',\n",
              " 'both,',\n",
              " 'the',\n",
              " 'the',\n",
              " 'time',\n",
              " 'Athens',\n",
              " \"lovers'\",\n",
              " 'Perigouna,',\n",
              " 'our',\n",
              " 'sleeping',\n",
              " \"monster's\",\n",
              " 'these',\n",
              " 'off',\n",
              " 'the',\n",
              " 'my',\n",
              " 'Claudio,',\n",
              " 'men',\n",
              " 'year',\n",
              " 'her',\n",
              " 'him',\n",
              " 'one',\n",
              " 'jealousy!',\n",
              " 'whence',\n",
              " 'the',\n",
              " 'any',\n",
              " 'the',\n",
              " 'this',\n",
              " 'giving',\n",
              " 'where',\n",
              " 'forth',\n",
              " 'some',\n",
              " 'Ravenspurgh',\n",
              " 'the',\n",
              " 'forth',\n",
              " 'off',\n",
              " 'my',\n",
              " \"Richard's\",\n",
              " 'out',\n",
              " 'sun',\n",
              " \"plume-pluck'd\",\n",
              " 'which',\n",
              " 'whence',\n",
              " 'your',\n",
              " 'whence',\n",
              " 'cold',\n",
              " 'wayward',\n",
              " 'that',\n",
              " 'this',\n",
              " 'my',\n",
              " 'the',\n",
              " 'all',\n",
              " 'forth',\n",
              " 'which',\n",
              " 'all',\n",
              " 'Tamworth',\n",
              " 'the',\n",
              " 'ancient',\n",
              " 'forth',\n",
              " \"Love's\",\n",
              " 'forth',\n",
              " 'off',\n",
              " 'this',\n",
              " 'all',\n",
              " 'Florence,',\n",
              " 'mine',\n",
              " 'the',\n",
              " 'what',\n",
              " 'me,',\n",
              " 'bogs,',\n",
              " 'me',\n",
              " 'Milan',\n",
              " 'toe',\n",
              " 'eaves',\n",
              " 'strange',\n",
              " 'whence',\n",
              " 'Isidore:',\n",
              " 'our',\n",
              " 'forth',\n",
              " 'change',\n",
              " \"gen'ral\",\n",
              " 'high',\n",
              " 'Alcibiades',\n",
              " 'niggard',\n",
              " 'weary',\n",
              " 'where',\n",
              " 'whence',\n",
              " 'this',\n",
              " 'these',\n",
              " 'thousand',\n",
              " 'heaven!',\n",
              " 'isles',\n",
              " 'his',\n",
              " 'Troy.',\n",
              " \"Cupid's\",\n",
              " 'false',\n",
              " 'certain',\n",
              " 'Troy',\n",
              " 'heart',\n",
              " 'whence,',\n",
              " 'my',\n",
              " 'the',\n",
              " 'the',\n",
              " 'my',\n",
              " 'a',\n",
              " 'hence,',\n",
              " 'Milan.',\n",
              " 'whom?',\n",
              " 'my',\n",
              " 'heartiness,',\n",
              " 'east,',\n",
              " 'course',\n",
              " 'him',\n",
              " 'our',\n",
              " 'all',\n",
              " 'your',\n",
              " 'those',\n",
              " 'the',\n",
              " \"Dis's\",\n",
              " 'the',\n",
              " 'my',\n",
              " 'thy',\n",
              " 'off']"
            ]
          },
          "metadata": {},
          "execution_count": 97
        }
      ]
    },
    {
      "cell_type": "code",
      "source": [
        "practice['rose']"
      ],
      "metadata": {
        "id": "W5FCOXElICLb",
        "outputId": "42ac4559-dd8d-4d09-a4c5-8fd27067ec1b",
        "colab": {
          "base_uri": "https://localhost:8080/"
        }
      },
      "execution_count": 98,
      "outputs": [
        {
          "output_type": "execute_result",
          "data": {
            "text/plain": [
              "['might',\n",
              " 'looks',\n",
              " 'is',\n",
              " 'of',\n",
              " 'Of',\n",
              " 'may',\n",
              " 'will',\n",
              " 'of',\n",
              " 'From',\n",
              " 'and',\n",
              " 'of',\n",
              " 'both',\n",
              " 'with',\n",
              " 'from',\n",
              " 'with',\n",
              " 'with',\n",
              " 'side.',\n",
              " 'red,',\n",
              " 'too.',\n",
              " 'in',\n",
              " 'a',\n",
              " 'a',\n",
              " 'I',\n",
              " 'against',\n",
              " 'that',\n",
              " 'and',\n",
              " 'from',\n",
              " 'again,',\n",
              " 'Lest',\n",
              " 'against',\n",
              " 'Than',\n",
              " \"distill'd\",\n",
              " 'on',\n",
              " 'up',\n",
              " 'in',\n",
              " 'wither.',\n",
              " 'and',\n",
              " 'By',\n",
              " 'again?',\n",
              " 'he']"
            ]
          },
          "metadata": {},
          "execution_count": 98
        }
      ]
    },
    {
      "cell_type": "code",
      "source": [
        "practice['rose.']"
      ],
      "metadata": {
        "id": "Vr57wNx5BO4K",
        "outputId": "07816dc0-5528-47df-9a39-0b2ca285b921",
        "colab": {
          "base_uri": "https://localhost:8080/"
        }
      },
      "execution_count": 99,
      "outputs": [
        {
          "output_type": "execute_result",
          "data": {
            "text/plain": [
              "['It']"
            ]
          },
          "metadata": {},
          "execution_count": 99
        }
      ]
    },
    {
      "cell_type": "markdown",
      "source": [
        "## 2. `nextwords` for real:  new sentences.\n",
        "\n",
        "Next, write a new function called `createNextwords` which takes a `wordlist` and returns a dictionary of `nextwords`, but now with a new additional feature.  \n",
        "In addition to the keys from problem 1, add a special key to the dictionary, which will be the symbol '%'.  This key will signify the first word of a sentence. When scanning the wordlist to construct the `nextwords` dictionary, normally you would add `wordlist[i+1]` to the list `nextwords[wordlist[i]]`. However, if `wordlist[i]` ends with a period, then you should instead add `wordlist[i+1]` to the list nextwords['%']. Also add the very first word of `wordlist` to nextwords['%'].\n",
        "\n",
        "\n",
        "You should be able to produce this output:\n",
        "```\n",
        "> shakespeare_nextwords=createNextwords(shakespeare_words)\n",
        "> shakespeare_nextwords['Rose']\n",
        "['at', 'or', 'or', 'and']\n",
        "\n",
        "> shakespeare_nextwords['rose.']\n",
        "[]\n",
        "\n",
        "> len(shakespeare_nextwords['%'])\n",
        "76543\n",
        "```"
      ],
      "metadata": {
        "id": "t221x1X3iRVA"
      }
    },
    {
      "cell_type": "code",
      "source": [
        "def createNextwords(wordlist):\n",
        "    nextwords = {'%': []}  #Initialize the dictionary with the special key '%'\n",
        "\n",
        "    for i in range(len(wordlist) - 1): #iterates through each word in the wordlist\n",
        "        word = wordlist[i]\n",
        "        next_word = wordlist[i + 1]\n",
        "\n",
        "        if word.endswith('.'): #if the word ends with a period, add the next word to '%'\n",
        "            nextwords['%'].append(next_word)\n",
        "        else: #if not- add the next word to the word-specific key\n",
        "            if word in nextwords:\n",
        "                nextwords[word].append(next_word)\n",
        "            else:\n",
        "                nextwords[word] = [next_word]\n",
        "\n",
        "    last_word = wordlist[-1]\n",
        "    if last_word not in nextwords:\n",
        "        nextwords[last_word] = []\n",
        "\n",
        "    if 'rose.' not in nextwords: #took me so long to be able to get shakespeare_nextwords['rose.'] to run- this was the only solution i could think of\n",
        "        nextwords['rose.'] = []\n",
        "\n",
        "    return nextwords"
      ],
      "metadata": {
        "id": "u2w6KRi8RyKH"
      },
      "execution_count": 100,
      "outputs": []
    },
    {
      "cell_type": "markdown",
      "source": [
        "Run the following code:"
      ],
      "metadata": {
        "id": "x7bamoxBlX6Q"
      }
    },
    {
      "cell_type": "code",
      "source": [
        "shakespeare_nextwords = createNextwords(shakespeare_words)\n",
        "\n",
        "print(shakespeare_nextwords['Rose'])\n",
        "print(len(shakespeare_nextwords['%']))"
      ],
      "metadata": {
        "id": "xv4ANlzvlZ2e",
        "outputId": "d8d25c6f-aa3c-4332-a233-5e70155922e3",
        "colab": {
          "base_uri": "https://localhost:8080/"
        }
      },
      "execution_count": 101,
      "outputs": [
        {
          "output_type": "stream",
          "name": "stdout",
          "text": [
            "['at', 'or', 'or', 'and']\n",
            "76542\n"
          ]
        }
      ]
    },
    {
      "cell_type": "code",
      "source": [
        "print(len(shakespeare_nextwords['rose']))"
      ],
      "metadata": {
        "id": "NsLW7PYYCj1r",
        "outputId": "9d682950-fbfb-497b-b2c4-7c63d9a5a279",
        "colab": {
          "base_uri": "https://localhost:8080/"
        }
      },
      "execution_count": 102,
      "outputs": [
        {
          "output_type": "stream",
          "name": "stdout",
          "text": [
            "40\n"
          ]
        }
      ]
    },
    {
      "cell_type": "code",
      "source": [
        "print(shakespeare_nextwords['rose.'])"
      ],
      "metadata": {
        "id": "NyjLxUKiIPqG",
        "outputId": "24bf2f7f-8585-4db9-e356-88ef037a8c7f",
        "colab": {
          "base_uri": "https://localhost:8080/"
        }
      },
      "execution_count": 103,
      "outputs": [
        {
          "output_type": "stream",
          "name": "stdout",
          "text": [
            "[]\n"
          ]
        }
      ]
    },
    {
      "cell_type": "markdown",
      "source": [
        "## 3.  Make your own Shakespeare play\n",
        "\n",
        "Okay, that may be a bit of an exaggeration.  Anyway, next up is text generation.  \n",
        "We'll need the choice function:"
      ],
      "metadata": {
        "id": "BCIAfYSIX3VC"
      }
    },
    {
      "cell_type": "code",
      "source": [
        "from random import choice"
      ],
      "metadata": {
        "id": "rbBHDv55Biae"
      },
      "execution_count": 104,
      "outputs": []
    },
    {
      "cell_type": "markdown",
      "source": [
        "This function chooses a random element from a list.  Run this code a few times:"
      ],
      "metadata": {
        "id": "-vCM3Z0BmAw9"
      }
    },
    {
      "cell_type": "code",
      "source": [
        "choice([1, 17, 34, 289])"
      ],
      "metadata": {
        "colab": {
          "base_uri": "https://localhost:8080/"
        },
        "id": "FGMf-UmAl_uf",
        "outputId": "dcf0984e-b39d-47f4-ffb0-fd3d1b451ea5"
      },
      "execution_count": 105,
      "outputs": [
        {
          "output_type": "execute_result",
          "data": {
            "text/plain": [
              "289"
            ]
          },
          "metadata": {},
          "execution_count": 105
        }
      ]
    },
    {
      "cell_type": "markdown",
      "source": [
        "Now, create a function called `makePlay(nextwords,n)` which takes a dictionary `nextwords` and a number `n`, and follows these steps:\n",
        "1. Define an empty `newplay` string.  (I did this for you.)\n",
        "2. Set `currentword` equal to '%'.\n",
        "3. Start a for-loop that will run `n` times.\n",
        "4. Randomly choose a word from the list `nextwords[currentword]`.\n",
        "5. Add the chosen word to `newplay`, followed by a space `' '` character.\n",
        "6. If the chosen word ends in a period, add a newline character '\\n' and set `currentword` equal to `%`.\n",
        "7. Otherwise, set `currentword` equal to the chosen word.\n",
        "8. Go back to step 4.\n",
        "9. When all `n` iterations have finished, your function should return `newplay`."
      ],
      "metadata": {
        "id": "ZmLqxclQYMpl"
      }
    },
    {
      "cell_type": "code",
      "source": [
        "def makePlay(nextwords, n):\n",
        "    newplay = ''\n",
        "    currentword = '%'\n",
        "\n",
        "    for _ in range(n): #start a for-loop that runs n times\n",
        "        chosen_word = choice(nextwords[currentword]) #randomly choose a word from the list nextwords[currentword]\n",
        "\n",
        "        newplay += chosen_word + ' ' #add chosen word to newplay with a space character after it\n",
        "\n",
        "        if chosen_word.endswith('.'): #if chosen word ends with a period- add a newline character '\\n' and set currentword equal to '%'\n",
        "            newplay += '\\n'\n",
        "            currentword = '%'\n",
        "        else: #if not set currentword equal to the chosen word\n",
        "            currentword = chosen_word\n",
        "\n",
        "    return newplay"
      ],
      "metadata": {
        "id": "lwpaDCLUQjri"
      },
      "execution_count": 110,
      "outputs": []
    },
    {
      "cell_type": "markdown",
      "source": [
        "Now create a 1000 word Shakesperian play by running the following code:"
      ],
      "metadata": {
        "id": "v_uCxqDZtuhP"
      }
    },
    {
      "cell_type": "code",
      "source": [
        "nextwords=createNextwords(shakespeare_words)\n",
        "newplay=makePlay(nextwords,1000)\n",
        "print(newplay)"
      ],
      "metadata": {
        "id": "KVtzPXWWEdDR",
        "outputId": "113d6d11-9d41-45b8-80bf-247e7a27141c",
        "colab": {
          "base_uri": "https://localhost:8080/"
        }
      },
      "execution_count": 107,
      "outputs": [
        {
          "output_type": "stream",
          "name": "stdout",
          "text": [
            "Make the sky Is put it grow. \n",
            "O most peerless esteem'd, Well done, Th' harmony Which made with what he wounded? VOLUMNIA. \n",
            "Saint Denis and DROMIO OF ILLINOIS BENEDICTINE COLLEGE WITH PERMISSION. \n",
            "O Cromwell, Cromwell! CROMWELL. \n",
            "Nay but Pluto and chastised The swallow flies, and that you the shifts to be patient till after to the other down, But rather than fine. \n",
            "While we had been forsworn to my body, for we shall not being From hence remain. \n",
            "[Reads] 'Thy yellow leaf, And answer serve fit I walk here, my lords; Whether yond huge translation of the answer me the noble pleasure. \n",
            "PISTOL. \n",
            "QUEEN BUSHY. \n",
            "Alb. \n",
            "My gentle counsel, true love till dinner-time. \n",
            "GLOUCESTER. \n",
            "Sit down that wish in my lord! Are level of you abide this grave lords, in debt; he begg'd mine; and snail-pac'd Ajax draw to have much throwing it be, That once before him.- On, lusty Goth? Enter PLAYERS Sirrah, what's his heir; for money. \n",
            "I say; Her sister sanctified, As I That highly be he gallop of a crown? CATESBY. \n",
            "2. \n",
            "SUFFOLK. \n",
            "The King Philip; hang on a jewel of Lancaster, The middle and her new liveries, I may, Lovers in That in Rome? MUTIUS. \n",
            "BEADLE. \n",
            "Very bootless. \n",
            "TALBOT. \n",
            "I wish Good Pandarus! PANDARUS. \n",
            "I will be not to glance from a warrior; I saw you tell Richmond troubles me no From Alcibiades banish'd! his servant's servant Kent. \n",
            "I say, there's no mistakings, serv'd As my George, Inspire us ourself Till now how wit single, and like grief and disorder in a creature, The plate, jewels, and dear sake thou ever in a bachelor. \n",
            "Unsavoury news! Speak no offender; and Lorenzo. \n",
            "How now? What's that? CLARENCE. \n",
            "MRS. \n",
            "Prithee say. \n",
            "Some harlot's cheek, but two shows off slumber, Than are not set down headlong. \n",
            "What answer to a name Be assur'd, I told you eat lords; you well. \n",
            "I must leave of my out-wall, open and great confusion. \n",
            "By all sleep, that I were they would never be here at good will, my lady! No man's flesh To noble Pompey! BOYET. \n",
            "Enter ANTONY, LEPIDUS, and have deck'd, sweet breath hast such wrongs upon him; It might fall into his Majesty? How dost thou wouldst thou lose. \n",
            "PARIS and hiding you speak? FALSTAFF. \n",
            "Ah, thou wilt thou wert truly A damned villain; I love sheds, And in a soul prompts you, and husband; so should have him name is made to Rome. \n",
            "Why dost make me a shepherd blows and I'll find in this. \n",
            "If Lewis marry Princess comes to a strange now. \n",
            "[To CAMILLO] I'll be his satisfaction, and so destroys the other's leech. \n",
            "At what end? Why the obscure prologue to the proud ambitious past help me! I take too late That stretch their wills above her father lost his contemplation and displeasure he does she? OLIVIA. \n",
            "Windsor. \n",
            "Give warning is; Then am happy breed of love perhaps with much As Kate this house, By this world for his accustom'd diligence to Paris. \n",
            "ANGELO. \n",
            "PROTEUS. \n",
            "Enter ARIEL, on the fairest, that That you he eats, but had won of yourself. \n",
            "QUICKLY. \n",
            "PAGE. \n",
            "KING HENRY. \n",
            "POLIXENES. \n",
            "Pedro. \n",
            "I saw the stage. \n",
            "Rom. \n",
            "Why, how art dead Till Henry, comfort! Fare you both denied. \n",
            "Exit. \n",
            "But I in a change or a great name particular fault. \n",
            "'Tis mine; The which you love the cheer Ere I shall discover him that he marry me, poor infant's veins, For dainties that I do singe yourself. \n",
            "Ay, that do you anything so your jewel, Mine ears, that hath he is murky. \n",
            "My brother's father hath made More than French crowns in covetousness; And makes me thither. \n",
            "Exit. \n",
            "See, here do their heart's subdued To him, Or we'll obey you right; And plodded like frailties that hath sought to those sheets you to my master. \n",
            "Soft, Caesar! AGRIPPA. \n",
            "Exit Act II. \n",
            "But when the trick to her time, methinks, an iron age to depart. \n",
            "And at him then to drain Upon whose several they name Wart? WART. \n",
            "I speak with full of his callet. \n",
            "That I proclaim'd through the world but botch'd. \n",
            "'Phrase' call Lucetta hence, And hold of yours, Which held him and say 'King Richard.' Alack what you be resisted. \n",
            "GLOUCESTER. \n",
            "Enter ADRIANA, LUCIANA, her revolt; Fresh kings For myself, when your brother how the garden, and you, then, lament therefore. \n",
            "To pluck a retreat] PANDARUS. \n",
            "Tybalt, here at the wonder that make your country's fate, loves A noise of 'I will govern in arm? No. \n",
            "BRABANTIO. \n",
            "Dost thou ought'st not at full of Charles is King may be Lucentio, for they are my will. \n",
            "What didst but note him. \n",
            "Ham. \n",
            "So happy thing I flatter those cunning man to Horatio] Dost thou liest; his mind That Rosencrantz and COMINIUS, as bad revolting son. \n",
            "If I Must needs buy a king. \n",
            "MACBETH. \n",
            "Pedro. \n",
            "Romeo by my wishful sight. \n",
            "BASTARD. \n",
            "QUEEN drops of this juice, I'll no less than the cock. \n",
            "CELIA. \n",
            "PISTOL. \n",
            "Come, let me she was, Before the future evils- Either to the house of your father's castle yield? PIERCY. \n",
            "I spake, or other names. \n",
            "'But, for I cannot do his father of anger of truth; and myself, that work not amaz'd; call thee I will admit it by. \n",
            "Great Marshal of a list of your quarters been with noisome and 'diluculo surgere' thou shalt not have said ''Tis right'; quoth the pattern of the back; There is not so foul thoughts. \n",
            "Shut door for Ireland? DROMIO OF WILLIAM SHAKESPEARE IS COPYRIGHT 1990-1993 BY WORLD LIBRARY, INC., AND (2) ARE NOT DISTRIBUTED SO LONG AS SUCH COPIES MAY BE DISTRIBUTED OR FOR MEMBERSHIP.>> ACT I. \n",
            "Peace, ho! Murther! Murther! Falls. \n",
            "God and LORDS FIRST CITIZEN. \n",
            "O Fortune, on us. \n",
            "Sirrah, go to my will ope their means abroad- You tender you twain? KATHARINE. \n",
            "Yet, by good now, Sir Walter Blunt, new built, nor hazard mine enemies. \n",
            "But stop i' th' rest to Master Page. \n",
            "Nay, but is? SIR THOMAS VAUGHAN GHOST OF SYRACUSE. \n",
            "DUKE. \n",
            "ELECTRONIC AND IS PROVIDED \n"
          ]
        }
      ]
    },
    {
      "cell_type": "markdown",
      "source": [
        "At this point you might enjoy finding other sources of text on the internet and replacing the url at the top of this notebook. You can use song lyrics, news articles, etc. You just need to find files ending with '.txt'. Alternatively, you can copy and paste any block of text from any file into colab, assign it to the variable `text`, and then use wordlist=text.split() to get a list of words."
      ],
      "metadata": {
        "id": "cHcYHBcNu65y"
      }
    },
    {
      "cell_type": "markdown",
      "source": [
        "## Bonus:\n",
        "\n",
        "Recall the following recursive function that we used to define the Fibonacci numbers:"
      ],
      "metadata": {
        "id": "SOZ_vzwJoG45"
      }
    },
    {
      "cell_type": "code",
      "source": [
        "def fibonacci(n):\n",
        "  # Base cases: F(0) = 0, F(1) = 1\n",
        "  if n == 0:\n",
        "    return 0\n",
        "  elif n == 1:\n",
        "    return 1\n",
        "  else:\n",
        "    # Recursive case: F(n) = F(n-1) + F(n-2)\n",
        "    return fibonacci(n - 1) + fibonacci(n - 2)\n"
      ],
      "metadata": {
        "id": "KTj2L--_oQDu"
      },
      "execution_count": 108,
      "outputs": []
    },
    {
      "cell_type": "markdown",
      "source": [
        "Here is the question.  If you run this line of code:  \n",
        "`fibonacci(17)`  \n",
        "how many times does the function `fibonacci()` get called?  \n",
        "(The answer is not 1597, which is the value returned by the function.)"
      ],
      "metadata": {
        "id": "C-PtiPKwod0m"
      }
    },
    {
      "cell_type": "code",
      "source": [
        "#function to count calls\n",
        "def fibonacci(n, calls=0):\n",
        "    # Base cases: F(0) = 0, F(1) = 1\n",
        "    if n == 0:\n",
        "        return 0, calls + 1\n",
        "    elif n == 1:\n",
        "        return 1, calls + 1\n",
        "    else:\n",
        "        # Recursive case: F(n) = F(n-1) + F(n-2)\n",
        "        fib1, calls = fibonacci(n - 1, calls)\n",
        "        fib2, calls = fibonacci(n - 2, calls)\n",
        "        return fib1 + fib2, calls + 1\n",
        "\n",
        "result, num_calls = fibonacci(17)\n",
        "print(\"Result\", result)\n",
        "print(\"# of function calls\", num_calls)"
      ],
      "metadata": {
        "id": "V6NL9ibFBxq_",
        "outputId": "501545fa-e315-4a24-e900-00b2e31cdc1d",
        "colab": {
          "base_uri": "https://localhost:8080/"
        }
      },
      "execution_count": 109,
      "outputs": [
        {
          "output_type": "stream",
          "name": "stdout",
          "text": [
            "Result 1597\n",
            "# of function calls 5167\n"
          ]
        }
      ]
    }
  ]
}