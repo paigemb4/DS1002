{
  "nbformat": 4,
  "nbformat_minor": 0,
  "metadata": {
    "colab": {
      "provenance": [],
      "include_colab_link": true
    },
    "kernelspec": {
      "name": "python3",
      "display_name": "Python 3"
    },
    "language_info": {
      "name": "python"
    }
  },
  "cells": [
    {
      "cell_type": "markdown",
      "metadata": {
        "id": "view-in-github",
        "colab_type": "text"
      },
      "source": [
        "<a href=\"https://colab.research.google.com/github/paigemb4/DS1002/blob/main/Assignments/13_Classes.ipynb\" target=\"_parent\"><img src=\"https://colab.research.google.com/assets/colab-badge.svg\" alt=\"Open In Colab\"/></a>"
      ]
    },
    {
      "cell_type": "markdown",
      "source": [
        "## Assignment:  Classes\n",
        "### Due Sunday 28 April at 10pm"
      ],
      "metadata": {
        "id": "5Vy93BSp9Tum"
      }
    },
    {
      "cell_type": "markdown",
      "source": [
        "1.  Define a class called `Person` that has attributes `lastName`, `firstName`, `mother`, and `father`.  Both `mother` and `father` should have default value `unknown`.\n",
        "\n",
        "  Include a `__str__()` function that returns a string of the form '`firstName` `lastName`'.\n",
        "\n",
        "  Include a `__repr__()` function that returns a string that can be evaluated to recreate the `Person` object.\n",
        "\n"
      ],
      "metadata": {
        "id": "vcj5XQAI9Wsb"
      }
    },
    {
      "cell_type": "code",
      "source": [
        "class Person:\n",
        "  def __init__(self, lastName, firstName, mother='unknown', father='unknown'):\n",
        "        self.lastName = lastName\n",
        "        self.firstName = firstName\n",
        "        self.mother = mother\n",
        "        self.father = father\n",
        "  def __str__(self):\n",
        "        return f\"{self.firstName} {self.lastName}\"\n",
        "  def __repr__(self):\n",
        "        return f\"Person('{self.lastName}', '{self.firstName}', mother='{self.mother}', father='{self.father}')\""
      ],
      "metadata": {
        "id": "mjHDwHv3EpVe"
      },
      "execution_count": 11,
      "outputs": []
    },
    {
      "cell_type": "code",
      "source": [
        "#test\n",
        "person1 = Person('Reeves', 'Keanu')\n",
        "print(person1)\n",
        "print(str(person1))\n",
        "print(repr(person1))"
      ],
      "metadata": {
        "id": "_YqVWTcYAALh",
        "outputId": "be21fd9b-970e-4c4a-db66-e6aed93ba4b9",
        "colab": {
          "base_uri": "https://localhost:8080/"
        }
      },
      "execution_count": 20,
      "outputs": [
        {
          "output_type": "stream",
          "name": "stdout",
          "text": [
            "Keanu Reeves\n",
            "Keanu Reeves\n",
            "Person('Reeves', 'Keanu', mother='unknown', father='unknown')\n"
          ]
        }
      ]
    },
    {
      "cell_type": "markdown",
      "source": [
        "Create a person (i.e., a `Person` object) called `p` with unknown parents.  (You will need to give your person a first and last name.) Check the type of `p`.  Include all inputs and outputs."
      ],
      "metadata": {
        "id": "-ppMsEIVHINl"
      }
    },
    {
      "cell_type": "code",
      "source": [
        "p= Person('Ryan', 'Jim')\n",
        "print(type(p))"
      ],
      "metadata": {
        "id": "5bwid_6gHIBH",
        "outputId": "76cf082a-f317-4eae-f33f-a379a988472b",
        "colab": {
          "base_uri": "https://localhost:8080/"
        }
      },
      "execution_count": 16,
      "outputs": [
        {
          "output_type": "stream",
          "name": "stdout",
          "text": [
            "<class '__main__.Person'>\n"
          ]
        }
      ]
    },
    {
      "cell_type": "markdown",
      "source": [
        "Verify that your `__str__` and `__repr__` functions are doing what they are supposed to do.  Include all inputs and outputs."
      ],
      "metadata": {
        "id": "Z6zlUC3xRtal"
      }
    },
    {
      "cell_type": "code",
      "source": [
        "p = Person('Ryan', 'Jim')\n",
        "print(str(p))\n",
        "print(repr(p))"
      ],
      "metadata": {
        "id": "jZO0dBQYRs-K",
        "outputId": "e903a5ba-1167-46c3-e8c1-0b5d84eb8be0",
        "colab": {
          "base_uri": "https://localhost:8080/"
        }
      },
      "execution_count": 21,
      "outputs": [
        {
          "output_type": "stream",
          "name": "stdout",
          "text": [
            "Jim Ryan\n",
            "Person('Ryan', 'Jim', mother='unknown', father='unknown')\n"
          ]
        }
      ]
    },
    {
      "cell_type": "markdown",
      "source": [
        "Suppose the mother of `p` has been found and is named Taylor Swift.  Create a new person named Taylor Swift, and make her the mother of `p`:\n",
        "\n",
        "```\n",
        "> p.mother\n",
        "'Taylor Swift'\n",
        "```"
      ],
      "metadata": {
        "id": "1mOAThQiHzoQ"
      }
    },
    {
      "cell_type": "code",
      "source": [
        "tswift= Person('Swift', 'Taylor')\n",
        "p.mother = tswift\n",
        "print(p.mother)"
      ],
      "metadata": {
        "id": "NYbDOorpHymz",
        "outputId": "42dfe4ba-c510-4bd0-c697-c9283b6bec7a",
        "colab": {
          "base_uri": "https://localhost:8080/"
        }
      },
      "execution_count": 25,
      "outputs": [
        {
          "output_type": "stream",
          "name": "stdout",
          "text": [
            "Taylor Swift\n"
          ]
        }
      ]
    },
    {
      "cell_type": "code",
      "source": [
        "#test\n",
        "print(repr(p))"
      ],
      "metadata": {
        "id": "hTUrsnkNB3s_",
        "outputId": "1e18cbb6-f15b-40ef-ddb9-f29280d57452",
        "colab": {
          "base_uri": "https://localhost:8080/"
        }
      },
      "execution_count": 27,
      "outputs": [
        {
          "output_type": "stream",
          "name": "stdout",
          "text": [
            "Person('Ryan', 'Jim', mother='Taylor Swift', father='unknown')\n"
          ]
        }
      ]
    },
    {
      "cell_type": "markdown",
      "source": [
        "2.  Add some methods to your class.  Start by copying the `class` definition you already wrote.  Then, inside the `class` definition:\n",
        "\n",
        "  (a) Write a method called `unknownParent()` which returns `True` if any parent is 'unknown' and `False` otherwise.\n",
        "\n",
        "  (b) Write a method called `maternalGrandmother()` which returns the mother's mother.  If the mother is unknown, it should return 'unknown'.\n",
        "\n"
      ],
      "metadata": {
        "id": "1g1pcrmFHzGh"
      }
    },
    {
      "cell_type": "code",
      "source": [
        "class Person:\n",
        "  def __init__(self, lastName, firstName, mother='unknown', father='unknown'):\n",
        "        self.lastName = lastName\n",
        "        self.firstName = firstName\n",
        "        self.mother = mother\n",
        "        self.father = father\n",
        "  def __str__(self):\n",
        "        return f\"{self.firstName} {self.lastName}\"\n",
        "  def __repr__(self):\n",
        "        return f\"Person('{self.lastName}', '{self.firstName}', mother='{self.mother}', father='{self.father}')\"\n",
        "\n",
        "  #newcode\n",
        "  def unknownParent(self):\n",
        "        return 'unknown' in [self.mother, self.father]\n",
        "\n",
        "  def maternalGrandmother(self):\n",
        "        if self.mother == 'unknown':\n",
        "            return 'unknown'\n",
        "        elif self.mother == None:\n",
        "            return None\n",
        "        else:\n",
        "            return self.mother.mother"
      ],
      "metadata": {
        "id": "7mIxJGwwKTpv"
      },
      "execution_count": 28,
      "outputs": []
    },
    {
      "cell_type": "markdown",
      "source": [
        "Create enough `Person` objects to test whether your methods are working properly.  Show all your inputs and outputs.  It is up to you to demonstrate that you have thoroughly tested the code.  You may use additional code and/or text chunks if it helps."
      ],
      "metadata": {
        "id": "l9-4gxd8FxAQ"
      }
    },
    {
      "cell_type": "code",
      "source": [
        "#new people\n",
        "amorgan = Person('Morgan', 'Alex')\n",
        "gwash = Person('Washington', 'George', mother= amorgan)\n",
        "kimk= Person('Kardashian', 'Kim')\n",
        "sgomez = Person('Gomez', 'Selena', mother= kimk, father=gwash)\n",
        "leo= Person('DiCaprio', 'Leonardo')\n",
        "bpitt = Person('Pitt', 'Brad', mother=sgomez, father=leo)\n"
      ],
      "metadata": {
        "id": "gX1qpcKzFwoZ"
      },
      "execution_count": 35,
      "outputs": []
    },
    {
      "cell_type": "code",
      "source": [
        "#testing for unknown parent function\n",
        "print(amorgan.unknownParent())  #Output= True\n",
        "print(gwash.unknownParent())    #Output= True\n",
        "print(sgomez.unknownParent())  #Output= False\n",
        "print(bpitt.unknownParent())  #Output= False"
      ],
      "metadata": {
        "id": "cTuDPQ1iFjrX",
        "outputId": "9f3c4324-271f-4d0b-f543-6d996021748a",
        "colab": {
          "base_uri": "https://localhost:8080/"
        }
      },
      "execution_count": 38,
      "outputs": [
        {
          "output_type": "stream",
          "name": "stdout",
          "text": [
            "True\n",
            "True\n",
            "False\n",
            "False\n"
          ]
        }
      ]
    },
    {
      "cell_type": "code",
      "source": [
        "#testing for maternal grandmother function\n",
        "print(amorgan.maternalGrandmother())  #Output= unknown\n",
        "print(gwash.maternalGrandmother())    #Output= unknown\n",
        "print(bpitt.maternalGrandmother())  #Output= Kim Kardashian"
      ],
      "metadata": {
        "id": "uJeeSxX2FloQ",
        "outputId": "47583d10-6626-4c02-de8e-0c2a4a9148ed",
        "colab": {
          "base_uri": "https://localhost:8080/"
        }
      },
      "execution_count": 39,
      "outputs": [
        {
          "output_type": "stream",
          "name": "stdout",
          "text": [
            "unknown\n",
            "unknown\n",
            "Kim Kardashian\n"
          ]
        }
      ]
    },
    {
      "cell_type": "code",
      "source": [
        "#fulltest:\n",
        "print(sgomez)\n",
        "print(str(sgomez))\n",
        "print(repr(sgomez))\n",
        "print(sgomez.unknownParent())\n",
        "print(sgomez.maternalGrandmother())"
      ],
      "metadata": {
        "id": "FZE4km87IUpo",
        "outputId": "9c9a69f4-f43d-4081-bbe1-074e05cdaeeb",
        "colab": {
          "base_uri": "https://localhost:8080/"
        }
      },
      "execution_count": 45,
      "outputs": [
        {
          "output_type": "stream",
          "name": "stdout",
          "text": [
            "Selena Gomez\n",
            "Selena Gomez\n",
            "Person('Gomez', 'Selena', mother='Kim Kardashian', father='George Washington')\n",
            "False\n",
            "unknown\n"
          ]
        }
      ]
    }
  ]
}